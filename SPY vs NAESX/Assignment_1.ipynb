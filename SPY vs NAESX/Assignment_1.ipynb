{
  "nbformat": 4,
  "nbformat_minor": 0,
  "metadata": {
    "colab": {
      "name": "Assignment_1.ipynb",
      "provenance": [],
      "collapsed_sections": []
    },
    "kernelspec": {
      "name": "python3",
      "display_name": "Python 3"
    },
    "accelerator": "GPU"
  },
  "cells": [
    {
      "cell_type": "markdown",
      "metadata": {
        "id": "pthPi9gg9u9i",
        "colab_type": "text"
      },
      "source": [
        "#Importing Libraries"
      ]
    },
    {
      "cell_type": "code",
      "metadata": {
        "id": "V_x-B7xsZtRM",
        "colab_type": "code",
        "colab": {}
      },
      "source": [
        "import numpy as np\n",
        "import pandas as pd\n",
        "import matplotlib.pyplot as plt\n",
        "import statsmodels.formula.api as smf"
      ],
      "execution_count": 0,
      "outputs": []
    },
    {
      "cell_type": "code",
      "metadata": {
        "id": "VP8WLqfh3E01",
        "colab_type": "code",
        "outputId": "a57e6feb-450f-434f-b34a-d8ac354b2757",
        "colab": {
          "base_uri": "https://localhost:8080/",
          "height": 207
        }
      },
      "source": [
        "!pip install pandas_market_calendars"
      ],
      "execution_count": 0,
      "outputs": [
        {
          "output_type": "stream",
          "text": [
            "Collecting pandas_market_calendars\n",
            "\u001b[?25l  Downloading https://files.pythonhosted.org/packages/08/38/c7d2f38db8ca480b996b8b5cabed82f3a2f9825d585dd4c9ef123d82c936/pandas_market_calendars-1.2-py3-none-any.whl (50kB)\n",
            "\u001b[K     |████████████████████████████████| 51kB 1.7MB/s \n",
            "\u001b[?25hRequirement already satisfied: pytz in /usr/local/lib/python3.6/dist-packages (from pandas_market_calendars) (2018.9)\n",
            "Requirement already satisfied: pandas>=0.18 in /usr/local/lib/python3.6/dist-packages (from pandas_market_calendars) (0.25.3)\n",
            "Requirement already satisfied: numpy>=1.13.3 in /usr/local/lib/python3.6/dist-packages (from pandas>=0.18->pandas_market_calendars) (1.17.4)\n",
            "Requirement already satisfied: python-dateutil>=2.6.1 in /usr/local/lib/python3.6/dist-packages (from pandas>=0.18->pandas_market_calendars) (2.6.1)\n",
            "Requirement already satisfied: six>=1.5 in /usr/local/lib/python3.6/dist-packages (from python-dateutil>=2.6.1->pandas>=0.18->pandas_market_calendars) (1.12.0)\n",
            "Installing collected packages: pandas-market-calendars\n",
            "Successfully installed pandas-market-calendars-1.2\n"
          ],
          "name": "stdout"
        }
      ]
    },
    {
      "cell_type": "code",
      "metadata": {
        "id": "x32JexCB3Flv",
        "colab_type": "code",
        "colab": {}
      },
      "source": [
        "import pandas_market_calendars as mcal"
      ],
      "execution_count": 0,
      "outputs": []
    },
    {
      "cell_type": "markdown",
      "metadata": {
        "id": "7swcX6ih90vw",
        "colab_type": "text"
      },
      "source": [
        "# 1. Load data from the SPY.csv file and NAESX.csv file.\n"
      ]
    },
    {
      "cell_type": "code",
      "metadata": {
        "id": "zG-x4-QE5lyv",
        "colab_type": "code",
        "outputId": "c16e8103-d6d1-4526-c1a6-8704fed24f2a",
        "colab": {
          "base_uri": "https://localhost:8080/",
          "height": 309
        }
      },
      "source": [
        "spy = pd.read_csv('SPY.csv',parse_dates=[0], index_col=0)\n",
        "spy.rename(columns={'Adj Close':'Adj_Close'}, inplace=True)\n",
        "spy.head(),spy.tail()"
      ],
      "execution_count": 0,
      "outputs": [
        {
          "output_type": "execute_result",
          "data": {
            "text/plain": [
              "(                Open      High       Low     Close  Adj_Close   Volume\n",
              " Date                                                                  \n",
              " 1993-01-29  43.96875  43.96875  43.75000  43.93750  26.706757  1003200\n",
              " 1993-02-01  43.96875  44.25000  43.96875  44.25000  26.896694   480500\n",
              " 1993-02-02  44.21875  44.37500  44.12500  44.34375  26.953669   201300\n",
              " 1993-02-03  44.40625  44.84375  44.37500  44.81250  27.238594   529400\n",
              " 1993-02-04  44.96875  45.09375  44.46875  45.00000  27.352570   531500,\n",
              "                   Open        High  ...   Adj_Close     Volume\n",
              " Date                                ...                       \n",
              " 2019-08-20  291.769989  292.359985  ...  290.089996   51596400\n",
              " 2019-08-21  292.480011  292.859985  ...  292.450012   49524700\n",
              " 2019-08-22  293.230011  293.929993  ...  292.359985   51666400\n",
              " 2019-08-23  290.920013  292.760010  ...  284.850006  149161500\n",
              " 2019-08-26  287.269989  288.000000  ...  288.000000   72423800\n",
              " \n",
              " [5 rows x 6 columns])"
            ]
          },
          "metadata": {
            "tags": []
          },
          "execution_count": 4
        }
      ]
    },
    {
      "cell_type": "code",
      "metadata": {
        "id": "l1VXuCr653xV",
        "colab_type": "code",
        "outputId": "2e0641d8-7cb0-41cb-db58-6e3332ed8fb4",
        "colab": {
          "base_uri": "https://localhost:8080/",
          "height": 275
        }
      },
      "source": [
        "naesx = pd.read_csv('NAESX.csv', parse_dates=[0], index_col=0)\n",
        "naesx.rename(columns={'Adj Close':'Adj_Close'}, inplace=True)\n",
        "naesx.head(),naesx.tail()"
      ],
      "execution_count": 0,
      "outputs": [
        {
          "output_type": "execute_result",
          "data": {
            "text/plain": [
              "(                 Open       High        Low      Close  Adj_Close  Volume\n",
              " Date                                                                     \n",
              " 2000-01-01  23.240000  24.959999  22.230000  23.200001  15.902856       0\n",
              " 2000-02-01  23.549999  27.030001  23.549999  27.030001  18.528204       0\n",
              " 2000-03-01  27.530001  28.360001  24.680000  25.020000  17.150412       0\n",
              " 2000-04-01  23.969999  25.219999  21.070000  23.530001  16.259209       0\n",
              " 2000-05-01  24.120001  24.120001  21.230000  22.170000  15.319451       0,\n",
              "                  Open       High        Low      Close  Adj_Close  Volume\n",
              " Date                                                                     \n",
              " 2018-04-01  68.730003  72.419998  68.730003  70.629997  70.482391       0\n",
              " 2018-05-01  70.839996  74.860001  70.610001  74.209999  74.054916       0\n",
              " 2018-06-01  74.779999  77.040001  74.199997  74.589996  74.434120       0\n",
              " 2018-07-01  74.860001  77.180000  74.860001  75.949997  75.949997       0\n",
              " 2018-08-01  75.919998  78.709999  75.919998  78.709999  78.709999       0)"
            ]
          },
          "metadata": {
            "tags": []
          },
          "execution_count": 5
        }
      ]
    },
    {
      "cell_type": "markdown",
      "metadata": {
        "id": "JJq1N6mf94As",
        "colab_type": "text"
      },
      "source": [
        "#2. Look around to see if there are any differences, if so, how?"
      ]
    },
    {
      "cell_type": "markdown",
      "metadata": {
        "id": "37SyBmWk-ODF",
        "colab_type": "text"
      },
      "source": [
        "Generally speaking, the values for every field are lower for NAESX stocks than for SPY stocks. In additon, the SPY data dates back to 1993 and through 2019, whereas, the NAESX data dates back to 2000 and through 2018.  "
      ]
    },
    {
      "cell_type": "markdown",
      "metadata": {
        "id": "to53haVVBCok",
        "colab_type": "text"
      },
      "source": [
        "#3. Compute 1-day return based on the “Adj Close” column.  Also compute the open-to-close (“day”) returns and the close-to-open (“night”) returns for both files. Note the night time return is computed differently due to price adjustments.\n"
      ]
    },
    {
      "cell_type": "markdown",
      "metadata": {
        "id": "j9PYhA8QlH24",
        "colab_type": "text"
      },
      "source": [
        "## How does one find the close-to-close net stock return using the adjusted closing price?\n",
        "\n",
        "https://finance.zacks.com/stock-return-using-adjusted-closing-price-11628.html\n",
        "\n",
        "\n",
        "---\n",
        "\n",
        "\n",
        "Let P(t) equal the current \n",
        "Adjusted closing price. \n",
        "\n",
        "* The NET CLOSE-TO-CLOSE RETURN, R(t), would be:\n",
        "\n",
        "      R(t)   = [P(t) - P(t-1)]/P(t-1)\n",
        "             = [P(t)/P(t-1)] - 1\n",
        "             = (GROSS CLOSE-TO-CLOSE RETURN) - 1\n",
        "* We use the pct_change() method to calculate net return. \n",
        "\n",
        "\n",
        "\n"
      ]
    },
    {
      "cell_type": "code",
      "metadata": {
        "id": "pnnAKjReA-Jv",
        "colab_type": "code",
        "outputId": "4201b208-868a-486a-9aff-c29a8ddab110",
        "colab": {
          "base_uri": "https://localhost:8080/",
          "height": 320
        }
      },
      "source": [
        "spy['Returns'] = spy['Adj_Close'].pct_change(1)\n",
        "spy.head()"
      ],
      "execution_count": 0,
      "outputs": [
        {
          "output_type": "execute_result",
          "data": {
            "text/html": [
              "<div>\n",
              "<style scoped>\n",
              "    .dataframe tbody tr th:only-of-type {\n",
              "        vertical-align: middle;\n",
              "    }\n",
              "\n",
              "    .dataframe tbody tr th {\n",
              "        vertical-align: top;\n",
              "    }\n",
              "\n",
              "    .dataframe thead th {\n",
              "        text-align: right;\n",
              "    }\n",
              "</style>\n",
              "<table border=\"1\" class=\"dataframe\">\n",
              "  <thead>\n",
              "    <tr style=\"text-align: right;\">\n",
              "      <th></th>\n",
              "      <th>Open</th>\n",
              "      <th>High</th>\n",
              "      <th>Low</th>\n",
              "      <th>Close</th>\n",
              "      <th>Adj_Close</th>\n",
              "      <th>Volume</th>\n",
              "      <th>Returns</th>\n",
              "    </tr>\n",
              "    <tr>\n",
              "      <th>Date</th>\n",
              "      <th></th>\n",
              "      <th></th>\n",
              "      <th></th>\n",
              "      <th></th>\n",
              "      <th></th>\n",
              "      <th></th>\n",
              "      <th></th>\n",
              "    </tr>\n",
              "  </thead>\n",
              "  <tbody>\n",
              "    <tr>\n",
              "      <th>1993-01-29</th>\n",
              "      <td>43.96875</td>\n",
              "      <td>43.96875</td>\n",
              "      <td>43.75000</td>\n",
              "      <td>43.93750</td>\n",
              "      <td>26.706757</td>\n",
              "      <td>1003200</td>\n",
              "      <td>NaN</td>\n",
              "    </tr>\n",
              "    <tr>\n",
              "      <th>1993-02-01</th>\n",
              "      <td>43.96875</td>\n",
              "      <td>44.25000</td>\n",
              "      <td>43.96875</td>\n",
              "      <td>44.25000</td>\n",
              "      <td>26.896694</td>\n",
              "      <td>480500</td>\n",
              "      <td>0.007112</td>\n",
              "    </tr>\n",
              "    <tr>\n",
              "      <th>1993-02-02</th>\n",
              "      <td>44.21875</td>\n",
              "      <td>44.37500</td>\n",
              "      <td>44.12500</td>\n",
              "      <td>44.34375</td>\n",
              "      <td>26.953669</td>\n",
              "      <td>201300</td>\n",
              "      <td>0.002118</td>\n",
              "    </tr>\n",
              "    <tr>\n",
              "      <th>1993-02-03</th>\n",
              "      <td>44.40625</td>\n",
              "      <td>44.84375</td>\n",
              "      <td>44.37500</td>\n",
              "      <td>44.81250</td>\n",
              "      <td>27.238594</td>\n",
              "      <td>529400</td>\n",
              "      <td>0.010571</td>\n",
              "    </tr>\n",
              "    <tr>\n",
              "      <th>1993-02-04</th>\n",
              "      <td>44.96875</td>\n",
              "      <td>45.09375</td>\n",
              "      <td>44.46875</td>\n",
              "      <td>45.00000</td>\n",
              "      <td>27.352570</td>\n",
              "      <td>531500</td>\n",
              "      <td>0.004184</td>\n",
              "    </tr>\n",
              "  </tbody>\n",
              "</table>\n",
              "</div>"
            ],
            "text/plain": [
              "                Open      High       Low  ...  Adj_Close   Volume   Returns\n",
              "Date                                      ...                              \n",
              "1993-01-29  43.96875  43.96875  43.75000  ...  26.706757  1003200       NaN\n",
              "1993-02-01  43.96875  44.25000  43.96875  ...  26.896694   480500  0.007112\n",
              "1993-02-02  44.21875  44.37500  44.12500  ...  26.953669   201300  0.002118\n",
              "1993-02-03  44.40625  44.84375  44.37500  ...  27.238594   529400  0.010571\n",
              "1993-02-04  44.96875  45.09375  44.46875  ...  27.352570   531500  0.004184\n",
              "\n",
              "[5 rows x 7 columns]"
            ]
          },
          "metadata": {
            "tags": []
          },
          "execution_count": 6
        }
      ]
    },
    {
      "cell_type": "code",
      "metadata": {
        "id": "QYrfo_VhrZ1u",
        "colab_type": "code",
        "outputId": "9b38b0fa-7c56-4c20-e47f-0ad03f35571e",
        "colab": {
          "base_uri": "https://localhost:8080/",
          "height": 340
        }
      },
      "source": [
        "naesx['Returns'] = naesx['Adj_Close'].pct_change(1)\n",
        "naesx.head()"
      ],
      "execution_count": 0,
      "outputs": [
        {
          "output_type": "execute_result",
          "data": {
            "text/html": [
              "<div>\n",
              "<style scoped>\n",
              "    .dataframe tbody tr th:only-of-type {\n",
              "        vertical-align: middle;\n",
              "    }\n",
              "\n",
              "    .dataframe tbody tr th {\n",
              "        vertical-align: top;\n",
              "    }\n",
              "\n",
              "    .dataframe thead th {\n",
              "        text-align: right;\n",
              "    }\n",
              "</style>\n",
              "<table border=\"1\" class=\"dataframe\">\n",
              "  <thead>\n",
              "    <tr style=\"text-align: right;\">\n",
              "      <th></th>\n",
              "      <th>Open</th>\n",
              "      <th>High</th>\n",
              "      <th>Low</th>\n",
              "      <th>Close</th>\n",
              "      <th>Adj_Close</th>\n",
              "      <th>Volume</th>\n",
              "      <th>Returns</th>\n",
              "    </tr>\n",
              "    <tr>\n",
              "      <th>Date</th>\n",
              "      <th></th>\n",
              "      <th></th>\n",
              "      <th></th>\n",
              "      <th></th>\n",
              "      <th></th>\n",
              "      <th></th>\n",
              "      <th></th>\n",
              "    </tr>\n",
              "  </thead>\n",
              "  <tbody>\n",
              "    <tr>\n",
              "      <th>2000-01-01</th>\n",
              "      <td>23.240000</td>\n",
              "      <td>24.959999</td>\n",
              "      <td>22.230000</td>\n",
              "      <td>23.200001</td>\n",
              "      <td>15.902856</td>\n",
              "      <td>0</td>\n",
              "      <td>NaN</td>\n",
              "    </tr>\n",
              "    <tr>\n",
              "      <th>2000-02-01</th>\n",
              "      <td>23.549999</td>\n",
              "      <td>27.030001</td>\n",
              "      <td>23.549999</td>\n",
              "      <td>27.030001</td>\n",
              "      <td>18.528204</td>\n",
              "      <td>0</td>\n",
              "      <td>0.165087</td>\n",
              "    </tr>\n",
              "    <tr>\n",
              "      <th>2000-03-01</th>\n",
              "      <td>27.530001</td>\n",
              "      <td>28.360001</td>\n",
              "      <td>24.680000</td>\n",
              "      <td>25.020000</td>\n",
              "      <td>17.150412</td>\n",
              "      <td>0</td>\n",
              "      <td>-0.074362</td>\n",
              "    </tr>\n",
              "    <tr>\n",
              "      <th>2000-04-01</th>\n",
              "      <td>23.969999</td>\n",
              "      <td>25.219999</td>\n",
              "      <td>21.070000</td>\n",
              "      <td>23.530001</td>\n",
              "      <td>16.259209</td>\n",
              "      <td>0</td>\n",
              "      <td>-0.051964</td>\n",
              "    </tr>\n",
              "    <tr>\n",
              "      <th>2000-05-01</th>\n",
              "      <td>24.120001</td>\n",
              "      <td>24.120001</td>\n",
              "      <td>21.230000</td>\n",
              "      <td>22.170000</td>\n",
              "      <td>15.319451</td>\n",
              "      <td>0</td>\n",
              "      <td>-0.057799</td>\n",
              "    </tr>\n",
              "  </tbody>\n",
              "</table>\n",
              "</div>"
            ],
            "text/plain": [
              "                 Open       High        Low  ...  Adj_Close  Volume   Returns\n",
              "Date                                         ...                             \n",
              "2000-01-01  23.240000  24.959999  22.230000  ...  15.902856       0       NaN\n",
              "2000-02-01  23.549999  27.030001  23.549999  ...  18.528204       0  0.165087\n",
              "2000-03-01  27.530001  28.360001  24.680000  ...  17.150412       0 -0.074362\n",
              "2000-04-01  23.969999  25.219999  21.070000  ...  16.259209       0 -0.051964\n",
              "2000-05-01  24.120001  24.120001  21.230000  ...  15.319451       0 -0.057799\n",
              "\n",
              "[5 rows x 7 columns]"
            ]
          },
          "metadata": {
            "tags": []
          },
          "execution_count": 7
        }
      ]
    },
    {
      "cell_type": "markdown",
      "metadata": {
        "id": "frntiGBTpuWZ",
        "colab_type": "text"
      },
      "source": [
        "##Open-to-Close (\"Day\") Net Returns\n",
        "#### https://pdfs.semanticscholar.org/4621/0abed0b369a84e10b7e00beb850f64483565.pdf\n",
        "---\n",
        "Let P(t) equal the adjusted closing price AND let O(t) equal the adjusted open price.\n",
        "\n",
        "\n",
        "* The NET \"DAY\" RETURN, D(t), would be:\n",
        "\n",
        "      D(t)   = [P(t) - O(t)]/O(t)\n",
        "             = [P(t)/O(t)] - 1\n",
        "             = (GROSS \"DAY\" RETURN) - 1\n"
      ]
    },
    {
      "cell_type": "code",
      "metadata": {
        "id": "LRRG5IpQptYd",
        "colab_type": "code",
        "colab": {}
      },
      "source": [
        "spy['Day_Returns'] = spy['Close']/spy['Open'] - 1"
      ],
      "execution_count": 0,
      "outputs": []
    },
    {
      "cell_type": "code",
      "metadata": {
        "id": "Qfs79mFer_hk",
        "colab_type": "code",
        "colab": {}
      },
      "source": [
        "naesx['Day_Returns'] = naesx['Close']/naesx['Open'] - 1"
      ],
      "execution_count": 0,
      "outputs": []
    },
    {
      "cell_type": "markdown",
      "metadata": {
        "id": "J6T8xgf2rB25",
        "colab_type": "text"
      },
      "source": [
        "##Close-to-Open (“Night”) Net Returns\n",
        "#### https://pdfs.semanticscholar.org/4621/0abed0b369a84e10b7e00beb850f64483565.pdf\n",
        "\n",
        "---\n",
        "\n",
        "\n",
        "* The NET \"NIGHT\" RETURN, N(t), would be:\n",
        "\n",
        "      N(t)   = {[(R(t) + 1) - (D(t) + 1)]/(D(t) + 1)} - 1\n",
        "             = [(R(t) + 1)/(D(t) + 1)] - 1\n",
        "             = [(GROSS 1-DAY RETURN)/(GROSS \"DAY\" RETURN)]  - 1"
      ]
    },
    {
      "cell_type": "code",
      "metadata": {
        "id": "7QjXJaAQrxMO",
        "colab_type": "code",
        "colab": {}
      },
      "source": [
        "spy['Night_Returns'] = (spy['Returns'] + 1)/(spy['Day_Returns'] + 1) - 1"
      ],
      "execution_count": 0,
      "outputs": []
    },
    {
      "cell_type": "code",
      "metadata": {
        "id": "BTBfV8jry0vM",
        "colab_type": "code",
        "colab": {}
      },
      "source": [
        "naesx['Night_Returns'] = (naesx['Returns'] + 1)/(naesx['Day_Returns'] + 1) - 1"
      ],
      "execution_count": 0,
      "outputs": []
    },
    {
      "cell_type": "markdown",
      "metadata": {
        "id": "N6f90_1LzEF0",
        "colab_type": "text"
      },
      "source": [
        "#4.     Create a new column named “EOM3” that is equal to 0 on all days except for the third business day before the end of the month.  On those days, the EOM3 column should equal 1.   For example, if the last three business days of the month are the 27th, 28th, and 29th, then the 27th would have EOM3=1 and all other days will have EOM3=0. (this will require a groupby, .nth()).\n"
      ]
    },
    {
      "cell_type": "code",
      "metadata": {
        "id": "isqfREhd8iDr",
        "colab_type": "code",
        "outputId": "ff02a88e-a9b1-4cc6-c956-f6a3daccb350",
        "colab": {
          "base_uri": "https://localhost:8080/",
          "height": 470
        }
      },
      "source": [
        "# Let's grouping by year/month and then look at the data corresponding to the last three business days of each month using .nth() \n",
        "# method\n",
        "spy.groupby([spy.index.year, spy.index.month]).nth(-3) "
      ],
      "execution_count": 0,
      "outputs": [
        {
          "output_type": "execute_result",
          "data": {
            "text/html": [
              "<div>\n",
              "<style scoped>\n",
              "    .dataframe tbody tr th:only-of-type {\n",
              "        vertical-align: middle;\n",
              "    }\n",
              "\n",
              "    .dataframe tbody tr th {\n",
              "        vertical-align: top;\n",
              "    }\n",
              "\n",
              "    .dataframe thead th {\n",
              "        text-align: right;\n",
              "    }\n",
              "</style>\n",
              "<table border=\"1\" class=\"dataframe\">\n",
              "  <thead>\n",
              "    <tr style=\"text-align: right;\">\n",
              "      <th></th>\n",
              "      <th></th>\n",
              "      <th>Open</th>\n",
              "      <th>High</th>\n",
              "      <th>Low</th>\n",
              "      <th>Close</th>\n",
              "      <th>Adj_Close</th>\n",
              "      <th>Volume</th>\n",
              "      <th>Returns</th>\n",
              "      <th>Day_Returns</th>\n",
              "      <th>Night_Returns</th>\n",
              "    </tr>\n",
              "    <tr>\n",
              "      <th>Date</th>\n",
              "      <th>Date</th>\n",
              "      <th></th>\n",
              "      <th></th>\n",
              "      <th></th>\n",
              "      <th></th>\n",
              "      <th></th>\n",
              "      <th></th>\n",
              "      <th></th>\n",
              "      <th></th>\n",
              "      <th></th>\n",
              "    </tr>\n",
              "  </thead>\n",
              "  <tbody>\n",
              "    <tr>\n",
              "      <th rowspan=\"5\" valign=\"top\">1993</th>\n",
              "      <th>2</th>\n",
              "      <td>43.718750</td>\n",
              "      <td>44.250000</td>\n",
              "      <td>43.718750</td>\n",
              "      <td>44.250000</td>\n",
              "      <td>26.896694</td>\n",
              "      <td>26300</td>\n",
              "      <td>0.012875</td>\n",
              "      <td>0.012152</td>\n",
              "      <td>0.000715</td>\n",
              "    </tr>\n",
              "    <tr>\n",
              "      <th>3</th>\n",
              "      <td>44.937500</td>\n",
              "      <td>45.312500</td>\n",
              "      <td>44.937500</td>\n",
              "      <td>45.093750</td>\n",
              "      <td>27.539021</td>\n",
              "      <td>87100</td>\n",
              "      <td>0.004176</td>\n",
              "      <td>0.003477</td>\n",
              "      <td>0.000696</td>\n",
              "    </tr>\n",
              "    <tr>\n",
              "      <th>4</th>\n",
              "      <td>43.812500</td>\n",
              "      <td>43.906250</td>\n",
              "      <td>43.718750</td>\n",
              "      <td>43.781250</td>\n",
              "      <td>26.737452</td>\n",
              "      <td>85900</td>\n",
              "      <td>-0.002137</td>\n",
              "      <td>-0.000713</td>\n",
              "      <td>-0.001425</td>\n",
              "    </tr>\n",
              "    <tr>\n",
              "      <th>5</th>\n",
              "      <td>45.156250</td>\n",
              "      <td>45.625000</td>\n",
              "      <td>45.125000</td>\n",
              "      <td>45.593750</td>\n",
              "      <td>27.844357</td>\n",
              "      <td>102400</td>\n",
              "      <td>0.012492</td>\n",
              "      <td>0.009689</td>\n",
              "      <td>0.002776</td>\n",
              "    </tr>\n",
              "    <tr>\n",
              "      <th>6</th>\n",
              "      <td>45.000000</td>\n",
              "      <td>45.281250</td>\n",
              "      <td>44.937500</td>\n",
              "      <td>45.281250</td>\n",
              "      <td>27.849503</td>\n",
              "      <td>439900</td>\n",
              "      <td>0.011166</td>\n",
              "      <td>0.006250</td>\n",
              "      <td>0.004885</td>\n",
              "    </tr>\n",
              "    <tr>\n",
              "      <th>...</th>\n",
              "      <th>...</th>\n",
              "      <td>...</td>\n",
              "      <td>...</td>\n",
              "      <td>...</td>\n",
              "      <td>...</td>\n",
              "      <td>...</td>\n",
              "      <td>...</td>\n",
              "      <td>...</td>\n",
              "      <td>...</td>\n",
              "      <td>...</td>\n",
              "    </tr>\n",
              "    <tr>\n",
              "      <th rowspan=\"5\" valign=\"top\">2019</th>\n",
              "      <th>4</th>\n",
              "      <td>292.100006</td>\n",
              "      <td>293.489990</td>\n",
              "      <td>291.239990</td>\n",
              "      <td>293.410004</td>\n",
              "      <td>291.989868</td>\n",
              "      <td>50916400</td>\n",
              "      <td>0.004657</td>\n",
              "      <td>0.004485</td>\n",
              "      <td>0.000171</td>\n",
              "    </tr>\n",
              "    <tr>\n",
              "      <th>5</th>\n",
              "      <td>278.910004</td>\n",
              "      <td>279.359985</td>\n",
              "      <td>276.709991</td>\n",
              "      <td>278.269989</td>\n",
              "      <td>276.923126</td>\n",
              "      <td>104972900</td>\n",
              "      <td>-0.006711</td>\n",
              "      <td>-0.002295</td>\n",
              "      <td>-0.004426</td>\n",
              "    </tr>\n",
              "    <tr>\n",
              "      <th>6</th>\n",
              "      <td>291.750000</td>\n",
              "      <td>292.309998</td>\n",
              "      <td>290.350006</td>\n",
              "      <td>290.470001</td>\n",
              "      <td>290.470001</td>\n",
              "      <td>51584900</td>\n",
              "      <td>-0.000997</td>\n",
              "      <td>-0.004387</td>\n",
              "      <td>0.003405</td>\n",
              "    </tr>\n",
              "    <tr>\n",
              "      <th>7</th>\n",
              "      <td>301.880005</td>\n",
              "      <td>302.010010</td>\n",
              "      <td>300.850006</td>\n",
              "      <td>301.459991</td>\n",
              "      <td>301.459991</td>\n",
              "      <td>38126500</td>\n",
              "      <td>-0.001821</td>\n",
              "      <td>-0.001391</td>\n",
              "      <td>-0.000430</td>\n",
              "    </tr>\n",
              "    <tr>\n",
              "      <th>8</th>\n",
              "      <td>293.230011</td>\n",
              "      <td>293.929993</td>\n",
              "      <td>290.399994</td>\n",
              "      <td>292.359985</td>\n",
              "      <td>292.359985</td>\n",
              "      <td>51666400</td>\n",
              "      <td>-0.000308</td>\n",
              "      <td>-0.002967</td>\n",
              "      <td>0.002667</td>\n",
              "    </tr>\n",
              "  </tbody>\n",
              "</table>\n",
              "<p>319 rows × 9 columns</p>\n",
              "</div>"
            ],
            "text/plain": [
              "                 Open        High  ...  Day_Returns  Night_Returns\n",
              "Date Date                          ...                            \n",
              "1993 2      43.718750   44.250000  ...     0.012152       0.000715\n",
              "     3      44.937500   45.312500  ...     0.003477       0.000696\n",
              "     4      43.812500   43.906250  ...    -0.000713      -0.001425\n",
              "     5      45.156250   45.625000  ...     0.009689       0.002776\n",
              "     6      45.000000   45.281250  ...     0.006250       0.004885\n",
              "...               ...         ...  ...          ...            ...\n",
              "2019 4     292.100006  293.489990  ...     0.004485       0.000171\n",
              "     5     278.910004  279.359985  ...    -0.002295      -0.004426\n",
              "     6     291.750000  292.309998  ...    -0.004387       0.003405\n",
              "     7     301.880005  302.010010  ...    -0.001391      -0.000430\n",
              "     8     293.230011  293.929993  ...    -0.002967       0.002667\n",
              "\n",
              "[319 rows x 9 columns]"
            ]
          },
          "metadata": {
            "tags": []
          },
          "execution_count": 12
        }
      ]
    },
    {
      "cell_type": "code",
      "metadata": {
        "id": "0g9jM8Hf2WSM",
        "colab_type": "code",
        "outputId": "bac4f507-830c-4c75-c363-eb7533a149d3",
        "colab": {
          "base_uri": "https://localhost:8080/",
          "height": 640
        }
      },
      "source": [
        "spy = spy.reset_index() \n",
        "# Create column and input a 1 in the row if the date in the grouping we made before). Otherwise, we jsut input 0.\n",
        "spy['EOM3'] = np.where(spy['Date'].isin(spy['Date'].groupby([spy.Date.dt.year, spy.Date.dt.month]).nth(-3)),1,0)\n",
        "# Set our index to Date and check if it works\n",
        "spy.set_index(spy['Date'], inplace=True)\n",
        "del spy['Date']\n",
        "spy # It seems to work"
      ],
      "execution_count": 0,
      "outputs": [
        {
          "output_type": "execute_result",
          "data": {
            "text/html": [
              "<div>\n",
              "<style scoped>\n",
              "    .dataframe tbody tr th:only-of-type {\n",
              "        vertical-align: middle;\n",
              "    }\n",
              "\n",
              "    .dataframe tbody tr th {\n",
              "        vertical-align: top;\n",
              "    }\n",
              "\n",
              "    .dataframe thead th {\n",
              "        text-align: right;\n",
              "    }\n",
              "</style>\n",
              "<table border=\"1\" class=\"dataframe\">\n",
              "  <thead>\n",
              "    <tr style=\"text-align: right;\">\n",
              "      <th></th>\n",
              "      <th>Open</th>\n",
              "      <th>High</th>\n",
              "      <th>Low</th>\n",
              "      <th>Close</th>\n",
              "      <th>Adj_Close</th>\n",
              "      <th>Volume</th>\n",
              "      <th>Returns</th>\n",
              "      <th>Day_Returns</th>\n",
              "      <th>Night_Returns</th>\n",
              "      <th>EOM3</th>\n",
              "    </tr>\n",
              "    <tr>\n",
              "      <th>Date</th>\n",
              "      <th></th>\n",
              "      <th></th>\n",
              "      <th></th>\n",
              "      <th></th>\n",
              "      <th></th>\n",
              "      <th></th>\n",
              "      <th></th>\n",
              "      <th></th>\n",
              "      <th></th>\n",
              "      <th></th>\n",
              "    </tr>\n",
              "  </thead>\n",
              "  <tbody>\n",
              "    <tr>\n",
              "      <th>1993-01-29</th>\n",
              "      <td>43.968750</td>\n",
              "      <td>43.968750</td>\n",
              "      <td>43.750000</td>\n",
              "      <td>43.937500</td>\n",
              "      <td>26.706757</td>\n",
              "      <td>1003200</td>\n",
              "      <td>NaN</td>\n",
              "      <td>-0.000711</td>\n",
              "      <td>NaN</td>\n",
              "      <td>0</td>\n",
              "    </tr>\n",
              "    <tr>\n",
              "      <th>1993-02-01</th>\n",
              "      <td>43.968750</td>\n",
              "      <td>44.250000</td>\n",
              "      <td>43.968750</td>\n",
              "      <td>44.250000</td>\n",
              "      <td>26.896694</td>\n",
              "      <td>480500</td>\n",
              "      <td>0.007112</td>\n",
              "      <td>0.006397</td>\n",
              "      <td>0.000711</td>\n",
              "      <td>0</td>\n",
              "    </tr>\n",
              "    <tr>\n",
              "      <th>1993-02-02</th>\n",
              "      <td>44.218750</td>\n",
              "      <td>44.375000</td>\n",
              "      <td>44.125000</td>\n",
              "      <td>44.343750</td>\n",
              "      <td>26.953669</td>\n",
              "      <td>201300</td>\n",
              "      <td>0.002118</td>\n",
              "      <td>0.002827</td>\n",
              "      <td>-0.000707</td>\n",
              "      <td>0</td>\n",
              "    </tr>\n",
              "    <tr>\n",
              "      <th>1993-02-03</th>\n",
              "      <td>44.406250</td>\n",
              "      <td>44.843750</td>\n",
              "      <td>44.375000</td>\n",
              "      <td>44.812500</td>\n",
              "      <td>27.238594</td>\n",
              "      <td>529400</td>\n",
              "      <td>0.010571</td>\n",
              "      <td>0.009148</td>\n",
              "      <td>0.001410</td>\n",
              "      <td>0</td>\n",
              "    </tr>\n",
              "    <tr>\n",
              "      <th>1993-02-04</th>\n",
              "      <td>44.968750</td>\n",
              "      <td>45.093750</td>\n",
              "      <td>44.468750</td>\n",
              "      <td>45.000000</td>\n",
              "      <td>27.352570</td>\n",
              "      <td>531500</td>\n",
              "      <td>0.004184</td>\n",
              "      <td>0.000695</td>\n",
              "      <td>0.003487</td>\n",
              "      <td>0</td>\n",
              "    </tr>\n",
              "    <tr>\n",
              "      <th>...</th>\n",
              "      <td>...</td>\n",
              "      <td>...</td>\n",
              "      <td>...</td>\n",
              "      <td>...</td>\n",
              "      <td>...</td>\n",
              "      <td>...</td>\n",
              "      <td>...</td>\n",
              "      <td>...</td>\n",
              "      <td>...</td>\n",
              "      <td>...</td>\n",
              "    </tr>\n",
              "    <tr>\n",
              "      <th>2019-08-20</th>\n",
              "      <td>291.769989</td>\n",
              "      <td>292.359985</td>\n",
              "      <td>289.950012</td>\n",
              "      <td>290.089996</td>\n",
              "      <td>290.089996</td>\n",
              "      <td>51596400</td>\n",
              "      <td>-0.007663</td>\n",
              "      <td>-0.005758</td>\n",
              "      <td>-0.001916</td>\n",
              "      <td>0</td>\n",
              "    </tr>\n",
              "    <tr>\n",
              "      <th>2019-08-21</th>\n",
              "      <td>292.480011</td>\n",
              "      <td>292.859985</td>\n",
              "      <td>291.720001</td>\n",
              "      <td>292.450012</td>\n",
              "      <td>292.450012</td>\n",
              "      <td>49524700</td>\n",
              "      <td>0.008135</td>\n",
              "      <td>-0.000103</td>\n",
              "      <td>0.008239</td>\n",
              "      <td>0</td>\n",
              "    </tr>\n",
              "    <tr>\n",
              "      <th>2019-08-22</th>\n",
              "      <td>293.230011</td>\n",
              "      <td>293.929993</td>\n",
              "      <td>290.399994</td>\n",
              "      <td>292.359985</td>\n",
              "      <td>292.359985</td>\n",
              "      <td>51666400</td>\n",
              "      <td>-0.000308</td>\n",
              "      <td>-0.002967</td>\n",
              "      <td>0.002667</td>\n",
              "      <td>1</td>\n",
              "    </tr>\n",
              "    <tr>\n",
              "      <th>2019-08-23</th>\n",
              "      <td>290.920013</td>\n",
              "      <td>292.760010</td>\n",
              "      <td>283.470001</td>\n",
              "      <td>284.850006</td>\n",
              "      <td>284.850006</td>\n",
              "      <td>149161500</td>\n",
              "      <td>-0.025687</td>\n",
              "      <td>-0.020865</td>\n",
              "      <td>-0.004925</td>\n",
              "      <td>0</td>\n",
              "    </tr>\n",
              "    <tr>\n",
              "      <th>2019-08-26</th>\n",
              "      <td>287.269989</td>\n",
              "      <td>288.000000</td>\n",
              "      <td>285.579987</td>\n",
              "      <td>288.000000</td>\n",
              "      <td>288.000000</td>\n",
              "      <td>72423800</td>\n",
              "      <td>0.011058</td>\n",
              "      <td>0.002541</td>\n",
              "      <td>0.008496</td>\n",
              "      <td>0</td>\n",
              "    </tr>\n",
              "  </tbody>\n",
              "</table>\n",
              "<p>6692 rows × 10 columns</p>\n",
              "</div>"
            ],
            "text/plain": [
              "                  Open        High  ...  Night_Returns  EOM3\n",
              "Date                                ...                     \n",
              "1993-01-29   43.968750   43.968750  ...            NaN     0\n",
              "1993-02-01   43.968750   44.250000  ...       0.000711     0\n",
              "1993-02-02   44.218750   44.375000  ...      -0.000707     0\n",
              "1993-02-03   44.406250   44.843750  ...       0.001410     0\n",
              "1993-02-04   44.968750   45.093750  ...       0.003487     0\n",
              "...                ...         ...  ...            ...   ...\n",
              "2019-08-20  291.769989  292.359985  ...      -0.001916     0\n",
              "2019-08-21  292.480011  292.859985  ...       0.008239     0\n",
              "2019-08-22  293.230011  293.929993  ...       0.002667     1\n",
              "2019-08-23  290.920013  292.760010  ...      -0.004925     0\n",
              "2019-08-26  287.269989  288.000000  ...       0.008496     0\n",
              "\n",
              "[6692 rows x 10 columns]"
            ]
          },
          "metadata": {
            "tags": []
          },
          "execution_count": 13
        }
      ]
    },
    {
      "cell_type": "code",
      "metadata": {
        "id": "0ZXG6ji-8pV3",
        "colab_type": "code",
        "outputId": "3bab61e8-bbba-47b1-93e1-b28977f7e0db",
        "colab": {
          "base_uri": "https://localhost:8080/",
          "height": 122
        }
      },
      "source": [
        "# The spy dataset only goes up to 2019-08-26. Hence, we must make sure that\n",
        "# that EOM3 for 2019-08-22 is equal to 0 given that this date is not, in \n",
        "# reality, the third business day from the end of the month.\n",
        "spy['EOM3'].loc['2019-08-22'] = 0\n"
      ],
      "execution_count": 0,
      "outputs": [
        {
          "output_type": "stream",
          "text": [
            "/usr/local/lib/python3.6/dist-packages/pandas/core/indexing.py:205: SettingWithCopyWarning: \n",
            "A value is trying to be set on a copy of a slice from a DataFrame\n",
            "\n",
            "See the caveats in the documentation: http://pandas.pydata.org/pandas-docs/stable/user_guide/indexing.html#returning-a-view-versus-a-copy\n",
            "  self._setitem_with_indexer(indexer, value)\n"
          ],
          "name": "stderr"
        }
      ]
    },
    {
      "cell_type": "markdown",
      "metadata": {
        "id": "qeLTXShy1y6_",
        "colab_type": "text"
      },
      "source": [
        "#5. Compute the average return (close-to-close, day, and night) over all days and only over the EOM3=1 subset. Determine which strategy would be better, either buying and selling every day, or only buying and selling on the third business day before the end of the month."
      ]
    },
    {
      "cell_type": "markdown",
      "metadata": {
        "id": "KNtRwDWuAQnS",
        "colab_type": "text"
      },
      "source": [
        "##Average Return (Close-to-Close, Day, and Night) over all days"
      ]
    },
    {
      "cell_type": "code",
      "metadata": {
        "id": "P7E1zH1T2VvI",
        "colab_type": "code",
        "outputId": "f4a646f8-feda-49cc-c4d6-0fef90ed0b3a",
        "colab": {
          "base_uri": "https://localhost:8080/",
          "height": 34
        }
      },
      "source": [
        "spy['Returns'].mean()"
      ],
      "execution_count": 0,
      "outputs": [
        {
          "output_type": "execute_result",
          "data": {
            "text/plain": [
              "0.00042131478793153496"
            ]
          },
          "metadata": {
            "tags": []
          },
          "execution_count": 15
        }
      ]
    },
    {
      "cell_type": "code",
      "metadata": {
        "id": "Rr7tM2z4Ia3O",
        "colab_type": "code",
        "outputId": "41ad1ed7-e150-4c3b-de87-01ecc1589a24",
        "colab": {
          "base_uri": "https://localhost:8080/",
          "height": 34
        }
      },
      "source": [
        "spy['Day_Returns'].mean()"
      ],
      "execution_count": 0,
      "outputs": [
        {
          "output_type": "execute_result",
          "data": {
            "text/plain": [
              "2.440029292587805e-05"
            ]
          },
          "metadata": {
            "tags": []
          },
          "execution_count": 16
        }
      ]
    },
    {
      "cell_type": "code",
      "metadata": {
        "id": "9BHvV_cKIc-6",
        "colab_type": "code",
        "outputId": "219d5216-306b-4b22-b413-e5350483af97",
        "colab": {
          "base_uri": "https://localhost:8080/",
          "height": 34
        }
      },
      "source": [
        "spy['Night_Returns'].mean()"
      ],
      "execution_count": 0,
      "outputs": [
        {
          "output_type": "execute_result",
          "data": {
            "text/plain": [
              "0.0003970248365419767"
            ]
          },
          "metadata": {
            "tags": []
          },
          "execution_count": 17
        }
      ]
    },
    {
      "cell_type": "markdown",
      "metadata": {
        "id": "xhqAxcPpHn5V",
        "colab_type": "text"
      },
      "source": [
        "##Average Return (Close-to-Close, Day, and Night) over the EOM3=1 subset."
      ]
    },
    {
      "cell_type": "code",
      "metadata": {
        "id": "8GOVR4sfISGP",
        "colab_type": "code",
        "outputId": "8b65d844-48ad-453e-c05a-e8e6f5b8b5b4",
        "colab": {
          "base_uri": "https://localhost:8080/",
          "height": 34
        }
      },
      "source": [
        "spy['Returns'][spy['EOM3'] == 1].mean()"
      ],
      "execution_count": 0,
      "outputs": [
        {
          "output_type": "execute_result",
          "data": {
            "text/plain": [
              "0.0010073227652656694"
            ]
          },
          "metadata": {
            "tags": []
          },
          "execution_count": 18
        }
      ]
    },
    {
      "cell_type": "code",
      "metadata": {
        "id": "2pO280fMJHku",
        "colab_type": "code",
        "outputId": "0022a2a4-f925-413c-81a6-daf5a05e09fc",
        "colab": {
          "base_uri": "https://localhost:8080/",
          "height": 34
        }
      },
      "source": [
        "spy['Day_Returns'][spy['EOM3']==1].mean()"
      ],
      "execution_count": 0,
      "outputs": [
        {
          "output_type": "execute_result",
          "data": {
            "text/plain": [
              "-1.3662315853206163e-05"
            ]
          },
          "metadata": {
            "tags": []
          },
          "execution_count": 19
        }
      ]
    },
    {
      "cell_type": "code",
      "metadata": {
        "id": "kHgPuvVAJKEd",
        "colab_type": "code",
        "outputId": "17579cbd-9787-4d00-d789-98fdcc9893f0",
        "colab": {
          "base_uri": "https://localhost:8080/",
          "height": 34
        }
      },
      "source": [
        "spy['Night_Returns'][spy['EOM3']==1].mean()"
      ],
      "execution_count": 0,
      "outputs": [
        {
          "output_type": "execute_result",
          "data": {
            "text/plain": [
              "0.0010183847781704634"
            ]
          },
          "metadata": {
            "tags": []
          },
          "execution_count": 20
        }
      ]
    },
    {
      "cell_type": "markdown",
      "metadata": {
        "id": "HIM7piIM141j",
        "colab_type": "text"
      },
      "source": [
        "#6. Create a portfolio, which will be a new dataframe, where you hold some percentage of SPY and some percentage of NAESX, you decide. Then compute the MONTHLY returns of your strategy. This will require merging; to compute monthly returns of daily data you can use groupby and .cumprod() or .prod() method."
      ]
    },
    {
      "cell_type": "markdown",
      "metadata": {
        "id": "HI6cZPQUVPhK",
        "colab_type": "text"
      },
      "source": [
        "##Computing Monthly returns using cum.prod()"
      ]
    },
    {
      "cell_type": "code",
      "metadata": {
        "id": "HNUQxuv42VFv",
        "colab_type": "code",
        "colab": {}
      },
      "source": [
        "spy['Gross_Returns'] = spy['Returns']+1\n",
        "spy['Monthly_Returns'] =spy.groupby([spy.index.year, spy.index.month]).Gross_Returns.cumprod()-1"
      ],
      "execution_count": 0,
      "outputs": []
    },
    {
      "cell_type": "markdown",
      "metadata": {
        "id": "_Xr8BU9NVZQ6",
        "colab_type": "text"
      },
      "source": [
        "##Calculating cumulative close-to-close, day, and night returns"
      ]
    },
    {
      "cell_type": "code",
      "metadata": {
        "id": "D7gGw1zsmqCr",
        "colab_type": "code",
        "colab": {}
      },
      "source": [
        "spy['cumFull_Return'] = (spy['Returns']+1).cumprod()\n",
        "spy['cumDay_Return']   = (spy['Day_Returns']+1).cumprod()\n",
        "spy['cumNight_Return'] = (spy['Night_Returns']+1).cumprod()"
      ],
      "execution_count": 0,
      "outputs": []
    },
    {
      "cell_type": "markdown",
      "metadata": {
        "id": "v1seCH0aVm0s",
        "colab_type": "text"
      },
      "source": [
        "##Merge the \"naesx\" and \"spy\" dataframes"
      ]
    },
    {
      "cell_type": "code",
      "metadata": {
        "id": "_U4UTEOQodEA",
        "colab_type": "code",
        "outputId": "4b1848c3-6942-4a6f-8b95-40ad12942fbd",
        "colab": {
          "base_uri": "https://localhost:8080/",
          "height": 609
        }
      },
      "source": [
        "merged_df = pd.merge(spy, naesx, how='inner', left_on=spy.index, right_on=naesx.index, suffixes=('_spy', '_naesx'))\n",
        "merged_df"
      ],
      "execution_count": 0,
      "outputs": [
        {
          "output_type": "execute_result",
          "data": {
            "text/html": [
              "<div>\n",
              "<style scoped>\n",
              "    .dataframe tbody tr th:only-of-type {\n",
              "        vertical-align: middle;\n",
              "    }\n",
              "\n",
              "    .dataframe tbody tr th {\n",
              "        vertical-align: top;\n",
              "    }\n",
              "\n",
              "    .dataframe thead th {\n",
              "        text-align: right;\n",
              "    }\n",
              "</style>\n",
              "<table border=\"1\" class=\"dataframe\">\n",
              "  <thead>\n",
              "    <tr style=\"text-align: right;\">\n",
              "      <th></th>\n",
              "      <th>key_0</th>\n",
              "      <th>Open_spy</th>\n",
              "      <th>High_spy</th>\n",
              "      <th>Low_spy</th>\n",
              "      <th>Close_spy</th>\n",
              "      <th>Adj_Close_spy</th>\n",
              "      <th>Volume_spy</th>\n",
              "      <th>Returns_spy</th>\n",
              "      <th>Day_Returns_spy</th>\n",
              "      <th>Night_Returns_spy</th>\n",
              "      <th>EOM3</th>\n",
              "      <th>Gross_Returns</th>\n",
              "      <th>Monthly_Returns</th>\n",
              "      <th>cumFull_Return</th>\n",
              "      <th>cumDay_Return</th>\n",
              "      <th>cumNight_Return</th>\n",
              "      <th>Open_naesx</th>\n",
              "      <th>High_naesx</th>\n",
              "      <th>Low_naesx</th>\n",
              "      <th>Close_naesx</th>\n",
              "      <th>Adj_Close_naesx</th>\n",
              "      <th>Volume_naesx</th>\n",
              "      <th>Returns_naesx</th>\n",
              "      <th>Day_Returns_naesx</th>\n",
              "      <th>Night_Returns_naesx</th>\n",
              "    </tr>\n",
              "  </thead>\n",
              "  <tbody>\n",
              "    <tr>\n",
              "      <th>0</th>\n",
              "      <td>2000-02-01</td>\n",
              "      <td>139.750000</td>\n",
              "      <td>141.687500</td>\n",
              "      <td>138.531250</td>\n",
              "      <td>140.937500</td>\n",
              "      <td>97.811455</td>\n",
              "      <td>8419900</td>\n",
              "      <td>0.009852</td>\n",
              "      <td>0.008497</td>\n",
              "      <td>0.001344</td>\n",
              "      <td>0</td>\n",
              "      <td>1.009852</td>\n",
              "      <td>0.009852</td>\n",
              "      <td>3.662424</td>\n",
              "      <td>0.895660</td>\n",
              "      <td>4.086171</td>\n",
              "      <td>23.549999</td>\n",
              "      <td>27.030001</td>\n",
              "      <td>23.549999</td>\n",
              "      <td>27.030001</td>\n",
              "      <td>18.528204</td>\n",
              "      <td>0</td>\n",
              "      <td>0.165087</td>\n",
              "      <td>0.147771</td>\n",
              "      <td>0.015086</td>\n",
              "    </tr>\n",
              "    <tr>\n",
              "      <th>1</th>\n",
              "      <td>2000-03-01</td>\n",
              "      <td>137.625000</td>\n",
              "      <td>139.000000</td>\n",
              "      <td>137.218750</td>\n",
              "      <td>138.437500</td>\n",
              "      <td>96.076462</td>\n",
              "      <td>6868000</td>\n",
              "      <td>0.007276</td>\n",
              "      <td>0.005904</td>\n",
              "      <td>0.001365</td>\n",
              "      <td>0</td>\n",
              "      <td>1.007276</td>\n",
              "      <td>0.007276</td>\n",
              "      <td>3.597459</td>\n",
              "      <td>0.837306</td>\n",
              "      <td>4.293417</td>\n",
              "      <td>27.530001</td>\n",
              "      <td>28.360001</td>\n",
              "      <td>24.680000</td>\n",
              "      <td>25.020000</td>\n",
              "      <td>17.150412</td>\n",
              "      <td>0</td>\n",
              "      <td>-0.074362</td>\n",
              "      <td>-0.091173</td>\n",
              "      <td>0.018498</td>\n",
              "    </tr>\n",
              "    <tr>\n",
              "      <th>2</th>\n",
              "      <td>2000-05-01</td>\n",
              "      <td>146.562500</td>\n",
              "      <td>148.484375</td>\n",
              "      <td>145.843750</td>\n",
              "      <td>147.062500</td>\n",
              "      <td>102.321617</td>\n",
              "      <td>7328300</td>\n",
              "      <td>0.013569</td>\n",
              "      <td>0.003412</td>\n",
              "      <td>0.010123</td>\n",
              "      <td>0</td>\n",
              "      <td>1.013569</td>\n",
              "      <td>0.013569</td>\n",
              "      <td>3.831301</td>\n",
              "      <td>0.915650</td>\n",
              "      <td>4.181267</td>\n",
              "      <td>24.120001</td>\n",
              "      <td>24.120001</td>\n",
              "      <td>21.230000</td>\n",
              "      <td>22.170000</td>\n",
              "      <td>15.319451</td>\n",
              "      <td>0</td>\n",
              "      <td>-0.057799</td>\n",
              "      <td>-0.080846</td>\n",
              "      <td>0.025074</td>\n",
              "    </tr>\n",
              "    <tr>\n",
              "      <th>3</th>\n",
              "      <td>2000-06-01</td>\n",
              "      <td>143.687500</td>\n",
              "      <td>145.437500</td>\n",
              "      <td>143.000000</td>\n",
              "      <td>145.312500</td>\n",
              "      <td>101.104042</td>\n",
              "      <td>8961600</td>\n",
              "      <td>0.017506</td>\n",
              "      <td>0.011309</td>\n",
              "      <td>0.006127</td>\n",
              "      <td>0</td>\n",
              "      <td>1.017506</td>\n",
              "      <td>0.017506</td>\n",
              "      <td>3.785710</td>\n",
              "      <td>0.872048</td>\n",
              "      <td>4.338087</td>\n",
              "      <td>22.920000</td>\n",
              "      <td>24.590000</td>\n",
              "      <td>22.920000</td>\n",
              "      <td>24.260000</td>\n",
              "      <td>16.763649</td>\n",
              "      <td>0</td>\n",
              "      <td>0.094272</td>\n",
              "      <td>0.058464</td>\n",
              "      <td>0.033830</td>\n",
              "    </tr>\n",
              "    <tr>\n",
              "      <th>4</th>\n",
              "      <td>2000-08-01</td>\n",
              "      <td>143.625000</td>\n",
              "      <td>144.718750</td>\n",
              "      <td>143.125000</td>\n",
              "      <td>143.875000</td>\n",
              "      <td>100.339561</td>\n",
              "      <td>3946600</td>\n",
              "      <td>0.006119</td>\n",
              "      <td>0.001741</td>\n",
              "      <td>0.004371</td>\n",
              "      <td>0</td>\n",
              "      <td>1.006119</td>\n",
              "      <td>0.006119</td>\n",
              "      <td>3.757085</td>\n",
              "      <td>0.819664</td>\n",
              "      <td>4.580432</td>\n",
              "      <td>23.280001</td>\n",
              "      <td>25.190001</td>\n",
              "      <td>23.280001</td>\n",
              "      <td>25.190001</td>\n",
              "      <td>17.406275</td>\n",
              "      <td>0</td>\n",
              "      <td>0.076036</td>\n",
              "      <td>0.082045</td>\n",
              "      <td>-0.005553</td>\n",
              "    </tr>\n",
              "    <tr>\n",
              "      <th>...</th>\n",
              "      <td>...</td>\n",
              "      <td>...</td>\n",
              "      <td>...</td>\n",
              "      <td>...</td>\n",
              "      <td>...</td>\n",
              "      <td>...</td>\n",
              "      <td>...</td>\n",
              "      <td>...</td>\n",
              "      <td>...</td>\n",
              "      <td>...</td>\n",
              "      <td>...</td>\n",
              "      <td>...</td>\n",
              "      <td>...</td>\n",
              "      <td>...</td>\n",
              "      <td>...</td>\n",
              "      <td>...</td>\n",
              "      <td>...</td>\n",
              "      <td>...</td>\n",
              "      <td>...</td>\n",
              "      <td>...</td>\n",
              "      <td>...</td>\n",
              "      <td>...</td>\n",
              "      <td>...</td>\n",
              "      <td>...</td>\n",
              "      <td>...</td>\n",
              "    </tr>\n",
              "    <tr>\n",
              "      <th>138</th>\n",
              "      <td>2018-02-01</td>\n",
              "      <td>281.070007</td>\n",
              "      <td>283.059998</td>\n",
              "      <td>280.679993</td>\n",
              "      <td>281.579987</td>\n",
              "      <td>273.787720</td>\n",
              "      <td>90102500</td>\n",
              "      <td>-0.001135</td>\n",
              "      <td>0.001814</td>\n",
              "      <td>-0.002944</td>\n",
              "      <td>0</td>\n",
              "      <td>0.998865</td>\n",
              "      <td>-0.001135</td>\n",
              "      <td>10.251627</td>\n",
              "      <td>0.953569</td>\n",
              "      <td>10.743161</td>\n",
              "      <td>72.910004</td>\n",
              "      <td>72.910004</td>\n",
              "      <td>67.349998</td>\n",
              "      <td>69.809998</td>\n",
              "      <td>69.474571</td>\n",
              "      <td>0</td>\n",
              "      <td>-0.040676</td>\n",
              "      <td>-0.042518</td>\n",
              "      <td>0.001924</td>\n",
              "    </tr>\n",
              "    <tr>\n",
              "      <th>139</th>\n",
              "      <td>2018-03-01</td>\n",
              "      <td>271.410004</td>\n",
              "      <td>273.170013</td>\n",
              "      <td>266.000000</td>\n",
              "      <td>267.700012</td>\n",
              "      <td>260.291840</td>\n",
              "      <td>176855100</td>\n",
              "      <td>-0.014541</td>\n",
              "      <td>-0.013669</td>\n",
              "      <td>-0.000883</td>\n",
              "      <td>0</td>\n",
              "      <td>0.985459</td>\n",
              "      <td>-0.014541</td>\n",
              "      <td>9.746292</td>\n",
              "      <td>0.905602</td>\n",
              "      <td>10.754570</td>\n",
              "      <td>69.500000</td>\n",
              "      <td>73.309998</td>\n",
              "      <td>69.169998</td>\n",
              "      <td>70.400002</td>\n",
              "      <td>70.061737</td>\n",
              "      <td>0</td>\n",
              "      <td>0.008452</td>\n",
              "      <td>0.012950</td>\n",
              "      <td>-0.004441</td>\n",
              "    </tr>\n",
              "    <tr>\n",
              "      <th>140</th>\n",
              "      <td>2018-05-01</td>\n",
              "      <td>263.869995</td>\n",
              "      <td>265.100006</td>\n",
              "      <td>262.109985</td>\n",
              "      <td>264.980011</td>\n",
              "      <td>258.679016</td>\n",
              "      <td>74203400</td>\n",
              "      <td>0.001777</td>\n",
              "      <td>0.004207</td>\n",
              "      <td>-0.002420</td>\n",
              "      <td>0</td>\n",
              "      <td>1.001777</td>\n",
              "      <td>0.001777</td>\n",
              "      <td>9.685901</td>\n",
              "      <td>0.848407</td>\n",
              "      <td>11.408458</td>\n",
              "      <td>70.839996</td>\n",
              "      <td>74.860001</td>\n",
              "      <td>70.610001</td>\n",
              "      <td>74.209999</td>\n",
              "      <td>74.054916</td>\n",
              "      <td>0</td>\n",
              "      <td>0.050687</td>\n",
              "      <td>0.047572</td>\n",
              "      <td>0.002973</td>\n",
              "    </tr>\n",
              "    <tr>\n",
              "      <th>141</th>\n",
              "      <td>2018-06-01</td>\n",
              "      <td>272.410004</td>\n",
              "      <td>273.940002</td>\n",
              "      <td>272.329987</td>\n",
              "      <td>273.600006</td>\n",
              "      <td>267.094025</td>\n",
              "      <td>71258400</td>\n",
              "      <td>0.009818</td>\n",
              "      <td>0.004368</td>\n",
              "      <td>0.005426</td>\n",
              "      <td>0</td>\n",
              "      <td>1.009818</td>\n",
              "      <td>0.009818</td>\n",
              "      <td>10.000991</td>\n",
              "      <td>0.880153</td>\n",
              "      <td>11.354712</td>\n",
              "      <td>74.779999</td>\n",
              "      <td>77.040001</td>\n",
              "      <td>74.199997</td>\n",
              "      <td>74.589996</td>\n",
              "      <td>74.434120</td>\n",
              "      <td>0</td>\n",
              "      <td>0.005121</td>\n",
              "      <td>-0.002541</td>\n",
              "      <td>0.007681</td>\n",
              "    </tr>\n",
              "    <tr>\n",
              "      <th>142</th>\n",
              "      <td>2018-08-01</td>\n",
              "      <td>281.559998</td>\n",
              "      <td>282.130005</td>\n",
              "      <td>280.130005</td>\n",
              "      <td>280.859985</td>\n",
              "      <td>275.412537</td>\n",
              "      <td>53853300</td>\n",
              "      <td>-0.001670</td>\n",
              "      <td>-0.002486</td>\n",
              "      <td>0.000818</td>\n",
              "      <td>0</td>\n",
              "      <td>0.998330</td>\n",
              "      <td>-0.001670</td>\n",
              "      <td>10.312467</td>\n",
              "      <td>0.895103</td>\n",
              "      <td>11.512790</td>\n",
              "      <td>75.919998</td>\n",
              "      <td>78.709999</td>\n",
              "      <td>75.919998</td>\n",
              "      <td>78.709999</td>\n",
              "      <td>78.709999</td>\n",
              "      <td>0</td>\n",
              "      <td>0.036340</td>\n",
              "      <td>0.036749</td>\n",
              "      <td>-0.000395</td>\n",
              "    </tr>\n",
              "  </tbody>\n",
              "</table>\n",
              "<p>143 rows × 25 columns</p>\n",
              "</div>"
            ],
            "text/plain": [
              "         key_0    Open_spy  ...  Day_Returns_naesx  Night_Returns_naesx\n",
              "0   2000-02-01  139.750000  ...           0.147771             0.015086\n",
              "1   2000-03-01  137.625000  ...          -0.091173             0.018498\n",
              "2   2000-05-01  146.562500  ...          -0.080846             0.025074\n",
              "3   2000-06-01  143.687500  ...           0.058464             0.033830\n",
              "4   2000-08-01  143.625000  ...           0.082045            -0.005553\n",
              "..         ...         ...  ...                ...                  ...\n",
              "138 2018-02-01  281.070007  ...          -0.042518             0.001924\n",
              "139 2018-03-01  271.410004  ...           0.012950            -0.004441\n",
              "140 2018-05-01  263.869995  ...           0.047572             0.002973\n",
              "141 2018-06-01  272.410004  ...          -0.002541             0.007681\n",
              "142 2018-08-01  281.559998  ...           0.036749            -0.000395\n",
              "\n",
              "[143 rows x 25 columns]"
            ]
          },
          "metadata": {
            "tags": []
          },
          "execution_count": 23
        }
      ]
    },
    {
      "cell_type": "markdown",
      "metadata": {
        "id": "mcQA8JQ5Vvm0",
        "colab_type": "text"
      },
      "source": [
        "##Now, to make our portfolio and proceed to calculate monthly returns, we can just make a dataframe that hold the Adjusted Close Price data for SPY and NAESX."
      ]
    },
    {
      "cell_type": "code",
      "metadata": {
        "id": "OKT5vVbWplSF",
        "colab_type": "code",
        "outputId": "58adc959-5faa-45fa-d0ee-e4e43dabd83f",
        "colab": {
          "base_uri": "https://localhost:8080/",
          "height": 450
        }
      },
      "source": [
        "prtf = pd.DataFrame(merged_df, columns=['key_0', 'Adj_Close_spy', 'Adj_Close_naesx'])\n",
        "prtf.set_index('key_0', inplace=True)\n",
        "prtf"
      ],
      "execution_count": 0,
      "outputs": [
        {
          "output_type": "execute_result",
          "data": {
            "text/html": [
              "<div>\n",
              "<style scoped>\n",
              "    .dataframe tbody tr th:only-of-type {\n",
              "        vertical-align: middle;\n",
              "    }\n",
              "\n",
              "    .dataframe tbody tr th {\n",
              "        vertical-align: top;\n",
              "    }\n",
              "\n",
              "    .dataframe thead th {\n",
              "        text-align: right;\n",
              "    }\n",
              "</style>\n",
              "<table border=\"1\" class=\"dataframe\">\n",
              "  <thead>\n",
              "    <tr style=\"text-align: right;\">\n",
              "      <th></th>\n",
              "      <th>Adj_Close_spy</th>\n",
              "      <th>Adj_Close_naesx</th>\n",
              "    </tr>\n",
              "    <tr>\n",
              "      <th>key_0</th>\n",
              "      <th></th>\n",
              "      <th></th>\n",
              "    </tr>\n",
              "  </thead>\n",
              "  <tbody>\n",
              "    <tr>\n",
              "      <th>2000-02-01</th>\n",
              "      <td>97.811455</td>\n",
              "      <td>18.528204</td>\n",
              "    </tr>\n",
              "    <tr>\n",
              "      <th>2000-03-01</th>\n",
              "      <td>96.076462</td>\n",
              "      <td>17.150412</td>\n",
              "    </tr>\n",
              "    <tr>\n",
              "      <th>2000-05-01</th>\n",
              "      <td>102.321617</td>\n",
              "      <td>15.319451</td>\n",
              "    </tr>\n",
              "    <tr>\n",
              "      <th>2000-06-01</th>\n",
              "      <td>101.104042</td>\n",
              "      <td>16.763649</td>\n",
              "    </tr>\n",
              "    <tr>\n",
              "      <th>2000-08-01</th>\n",
              "      <td>100.339561</td>\n",
              "      <td>17.406275</td>\n",
              "    </tr>\n",
              "    <tr>\n",
              "      <th>...</th>\n",
              "      <td>...</td>\n",
              "      <td>...</td>\n",
              "    </tr>\n",
              "    <tr>\n",
              "      <th>2018-02-01</th>\n",
              "      <td>273.787720</td>\n",
              "      <td>69.474571</td>\n",
              "    </tr>\n",
              "    <tr>\n",
              "      <th>2018-03-01</th>\n",
              "      <td>260.291840</td>\n",
              "      <td>70.061737</td>\n",
              "    </tr>\n",
              "    <tr>\n",
              "      <th>2018-05-01</th>\n",
              "      <td>258.679016</td>\n",
              "      <td>74.054916</td>\n",
              "    </tr>\n",
              "    <tr>\n",
              "      <th>2018-06-01</th>\n",
              "      <td>267.094025</td>\n",
              "      <td>74.434120</td>\n",
              "    </tr>\n",
              "    <tr>\n",
              "      <th>2018-08-01</th>\n",
              "      <td>275.412537</td>\n",
              "      <td>78.709999</td>\n",
              "    </tr>\n",
              "  </tbody>\n",
              "</table>\n",
              "<p>143 rows × 2 columns</p>\n",
              "</div>"
            ],
            "text/plain": [
              "            Adj_Close_spy  Adj_Close_naesx\n",
              "key_0                                     \n",
              "2000-02-01      97.811455        18.528204\n",
              "2000-03-01      96.076462        17.150412\n",
              "2000-05-01     102.321617        15.319451\n",
              "2000-06-01     101.104042        16.763649\n",
              "2000-08-01     100.339561        17.406275\n",
              "...                   ...              ...\n",
              "2018-02-01     273.787720        69.474571\n",
              "2018-03-01     260.291840        70.061737\n",
              "2018-05-01     258.679016        74.054916\n",
              "2018-06-01     267.094025        74.434120\n",
              "2018-08-01     275.412537        78.709999\n",
              "\n",
              "[143 rows x 2 columns]"
            ]
          },
          "metadata": {
            "tags": []
          },
          "execution_count": 24
        }
      ]
    },
    {
      "cell_type": "markdown",
      "metadata": {
        "id": "LG6DqX8zWI2E",
        "colab_type": "text"
      },
      "source": [
        "###Our SPY portfolio weight will be 0.6"
      ]
    },
    {
      "cell_type": "code",
      "metadata": {
        "id": "AsP5jIeOqG3S",
        "colab_type": "code",
        "outputId": "a1157c94-4440-4498-9aee-96ec56ca13fb",
        "colab": {
          "base_uri": "https://localhost:8080/",
          "height": 450
        }
      },
      "source": [
        "prtf['Weight_spy'] = 0.6\n",
        "# Monthly retruns for SPY \n",
        "prtf['Returns_spy'] = prtf['Adj_Close_spy'].pct_change(1)\n",
        "prtf"
      ],
      "execution_count": 0,
      "outputs": [
        {
          "output_type": "execute_result",
          "data": {
            "text/html": [
              "<div>\n",
              "<style scoped>\n",
              "    .dataframe tbody tr th:only-of-type {\n",
              "        vertical-align: middle;\n",
              "    }\n",
              "\n",
              "    .dataframe tbody tr th {\n",
              "        vertical-align: top;\n",
              "    }\n",
              "\n",
              "    .dataframe thead th {\n",
              "        text-align: right;\n",
              "    }\n",
              "</style>\n",
              "<table border=\"1\" class=\"dataframe\">\n",
              "  <thead>\n",
              "    <tr style=\"text-align: right;\">\n",
              "      <th></th>\n",
              "      <th>Adj_Close_spy</th>\n",
              "      <th>Adj_Close_naesx</th>\n",
              "      <th>Weight_spy</th>\n",
              "      <th>Returns_spy</th>\n",
              "    </tr>\n",
              "    <tr>\n",
              "      <th>key_0</th>\n",
              "      <th></th>\n",
              "      <th></th>\n",
              "      <th></th>\n",
              "      <th></th>\n",
              "    </tr>\n",
              "  </thead>\n",
              "  <tbody>\n",
              "    <tr>\n",
              "      <th>2000-02-01</th>\n",
              "      <td>97.811455</td>\n",
              "      <td>18.528204</td>\n",
              "      <td>0.6</td>\n",
              "      <td>NaN</td>\n",
              "    </tr>\n",
              "    <tr>\n",
              "      <th>2000-03-01</th>\n",
              "      <td>96.076462</td>\n",
              "      <td>17.150412</td>\n",
              "      <td>0.6</td>\n",
              "      <td>-0.017738</td>\n",
              "    </tr>\n",
              "    <tr>\n",
              "      <th>2000-05-01</th>\n",
              "      <td>102.321617</td>\n",
              "      <td>15.319451</td>\n",
              "      <td>0.6</td>\n",
              "      <td>0.065002</td>\n",
              "    </tr>\n",
              "    <tr>\n",
              "      <th>2000-06-01</th>\n",
              "      <td>101.104042</td>\n",
              "      <td>16.763649</td>\n",
              "      <td>0.6</td>\n",
              "      <td>-0.011899</td>\n",
              "    </tr>\n",
              "    <tr>\n",
              "      <th>2000-08-01</th>\n",
              "      <td>100.339561</td>\n",
              "      <td>17.406275</td>\n",
              "      <td>0.6</td>\n",
              "      <td>-0.007561</td>\n",
              "    </tr>\n",
              "    <tr>\n",
              "      <th>...</th>\n",
              "      <td>...</td>\n",
              "      <td>...</td>\n",
              "      <td>...</td>\n",
              "      <td>...</td>\n",
              "    </tr>\n",
              "    <tr>\n",
              "      <th>2018-02-01</th>\n",
              "      <td>273.787720</td>\n",
              "      <td>69.474571</td>\n",
              "      <td>0.6</td>\n",
              "      <td>0.070178</td>\n",
              "    </tr>\n",
              "    <tr>\n",
              "      <th>2018-03-01</th>\n",
              "      <td>260.291840</td>\n",
              "      <td>70.061737</td>\n",
              "      <td>0.6</td>\n",
              "      <td>-0.049293</td>\n",
              "    </tr>\n",
              "    <tr>\n",
              "      <th>2018-05-01</th>\n",
              "      <td>258.679016</td>\n",
              "      <td>74.054916</td>\n",
              "      <td>0.6</td>\n",
              "      <td>-0.006196</td>\n",
              "    </tr>\n",
              "    <tr>\n",
              "      <th>2018-06-01</th>\n",
              "      <td>267.094025</td>\n",
              "      <td>74.434120</td>\n",
              "      <td>0.6</td>\n",
              "      <td>0.032531</td>\n",
              "    </tr>\n",
              "    <tr>\n",
              "      <th>2018-08-01</th>\n",
              "      <td>275.412537</td>\n",
              "      <td>78.709999</td>\n",
              "      <td>0.6</td>\n",
              "      <td>0.031145</td>\n",
              "    </tr>\n",
              "  </tbody>\n",
              "</table>\n",
              "<p>143 rows × 4 columns</p>\n",
              "</div>"
            ],
            "text/plain": [
              "            Adj_Close_spy  Adj_Close_naesx  Weight_spy  Returns_spy\n",
              "key_0                                                              \n",
              "2000-02-01      97.811455        18.528204         0.6          NaN\n",
              "2000-03-01      96.076462        17.150412         0.6    -0.017738\n",
              "2000-05-01     102.321617        15.319451         0.6     0.065002\n",
              "2000-06-01     101.104042        16.763649         0.6    -0.011899\n",
              "2000-08-01     100.339561        17.406275         0.6    -0.007561\n",
              "...                   ...              ...         ...          ...\n",
              "2018-02-01     273.787720        69.474571         0.6     0.070178\n",
              "2018-03-01     260.291840        70.061737         0.6    -0.049293\n",
              "2018-05-01     258.679016        74.054916         0.6    -0.006196\n",
              "2018-06-01     267.094025        74.434120         0.6     0.032531\n",
              "2018-08-01     275.412537        78.709999         0.6     0.031145\n",
              "\n",
              "[143 rows x 4 columns]"
            ]
          },
          "metadata": {
            "tags": []
          },
          "execution_count": 25
        }
      ]
    },
    {
      "cell_type": "markdown",
      "metadata": {
        "id": "_tlGoCuzWeGw",
        "colab_type": "text"
      },
      "source": [
        "###Our NAESX portfolio weight will be 0.4"
      ]
    },
    {
      "cell_type": "code",
      "metadata": {
        "id": "5ElUDdL0qhLg",
        "colab_type": "code",
        "outputId": "6145e6a1-7073-4352-de52-8823100065ad",
        "colab": {
          "base_uri": "https://localhost:8080/",
          "height": 640
        }
      },
      "source": [
        "prtf['Weight_naesx'] = 0.4\n",
        "# Monthly return for NAESX\n",
        "prtf['Returns_naesx'] = prtf['Adj_Close_naesx'].pct_change(1)\n",
        "prtf"
      ],
      "execution_count": 0,
      "outputs": [
        {
          "output_type": "execute_result",
          "data": {
            "text/html": [
              "<div>\n",
              "<style scoped>\n",
              "    .dataframe tbody tr th:only-of-type {\n",
              "        vertical-align: middle;\n",
              "    }\n",
              "\n",
              "    .dataframe tbody tr th {\n",
              "        vertical-align: top;\n",
              "    }\n",
              "\n",
              "    .dataframe thead th {\n",
              "        text-align: right;\n",
              "    }\n",
              "</style>\n",
              "<table border=\"1\" class=\"dataframe\">\n",
              "  <thead>\n",
              "    <tr style=\"text-align: right;\">\n",
              "      <th></th>\n",
              "      <th>Adj_Close_spy</th>\n",
              "      <th>Adj_Close_naesx</th>\n",
              "      <th>Weight_spy</th>\n",
              "      <th>Returns_spy</th>\n",
              "      <th>Weight_naesx</th>\n",
              "      <th>Returns_naesx</th>\n",
              "    </tr>\n",
              "    <tr>\n",
              "      <th>key_0</th>\n",
              "      <th></th>\n",
              "      <th></th>\n",
              "      <th></th>\n",
              "      <th></th>\n",
              "      <th></th>\n",
              "      <th></th>\n",
              "    </tr>\n",
              "  </thead>\n",
              "  <tbody>\n",
              "    <tr>\n",
              "      <th>2000-02-01</th>\n",
              "      <td>97.811455</td>\n",
              "      <td>18.528204</td>\n",
              "      <td>0.6</td>\n",
              "      <td>NaN</td>\n",
              "      <td>0.4</td>\n",
              "      <td>NaN</td>\n",
              "    </tr>\n",
              "    <tr>\n",
              "      <th>2000-03-01</th>\n",
              "      <td>96.076462</td>\n",
              "      <td>17.150412</td>\n",
              "      <td>0.6</td>\n",
              "      <td>-0.017738</td>\n",
              "      <td>0.4</td>\n",
              "      <td>-0.074362</td>\n",
              "    </tr>\n",
              "    <tr>\n",
              "      <th>2000-05-01</th>\n",
              "      <td>102.321617</td>\n",
              "      <td>15.319451</td>\n",
              "      <td>0.6</td>\n",
              "      <td>0.065002</td>\n",
              "      <td>0.4</td>\n",
              "      <td>-0.106759</td>\n",
              "    </tr>\n",
              "    <tr>\n",
              "      <th>2000-06-01</th>\n",
              "      <td>101.104042</td>\n",
              "      <td>16.763649</td>\n",
              "      <td>0.6</td>\n",
              "      <td>-0.011899</td>\n",
              "      <td>0.4</td>\n",
              "      <td>0.094272</td>\n",
              "    </tr>\n",
              "    <tr>\n",
              "      <th>2000-08-01</th>\n",
              "      <td>100.339561</td>\n",
              "      <td>17.406275</td>\n",
              "      <td>0.6</td>\n",
              "      <td>-0.007561</td>\n",
              "      <td>0.4</td>\n",
              "      <td>0.038334</td>\n",
              "    </tr>\n",
              "    <tr>\n",
              "      <th>...</th>\n",
              "      <td>...</td>\n",
              "      <td>...</td>\n",
              "      <td>...</td>\n",
              "      <td>...</td>\n",
              "      <td>...</td>\n",
              "      <td>...</td>\n",
              "    </tr>\n",
              "    <tr>\n",
              "      <th>2018-02-01</th>\n",
              "      <td>273.787720</td>\n",
              "      <td>69.474571</td>\n",
              "      <td>0.6</td>\n",
              "      <td>0.070178</td>\n",
              "      <td>0.4</td>\n",
              "      <td>-0.008495</td>\n",
              "    </tr>\n",
              "    <tr>\n",
              "      <th>2018-03-01</th>\n",
              "      <td>260.291840</td>\n",
              "      <td>70.061737</td>\n",
              "      <td>0.6</td>\n",
              "      <td>-0.049293</td>\n",
              "      <td>0.4</td>\n",
              "      <td>0.008452</td>\n",
              "    </tr>\n",
              "    <tr>\n",
              "      <th>2018-05-01</th>\n",
              "      <td>258.679016</td>\n",
              "      <td>74.054916</td>\n",
              "      <td>0.6</td>\n",
              "      <td>-0.006196</td>\n",
              "      <td>0.4</td>\n",
              "      <td>0.056995</td>\n",
              "    </tr>\n",
              "    <tr>\n",
              "      <th>2018-06-01</th>\n",
              "      <td>267.094025</td>\n",
              "      <td>74.434120</td>\n",
              "      <td>0.6</td>\n",
              "      <td>0.032531</td>\n",
              "      <td>0.4</td>\n",
              "      <td>0.005121</td>\n",
              "    </tr>\n",
              "    <tr>\n",
              "      <th>2018-08-01</th>\n",
              "      <td>275.412537</td>\n",
              "      <td>78.709999</td>\n",
              "      <td>0.6</td>\n",
              "      <td>0.031145</td>\n",
              "      <td>0.4</td>\n",
              "      <td>0.057445</td>\n",
              "    </tr>\n",
              "  </tbody>\n",
              "</table>\n",
              "<p>143 rows × 6 columns</p>\n",
              "</div>"
            ],
            "text/plain": [
              "            Adj_Close_spy  Adj_Close_naesx  ...  Weight_naesx  Returns_naesx\n",
              "key_0                                       ...                             \n",
              "2000-02-01      97.811455        18.528204  ...           0.4            NaN\n",
              "2000-03-01      96.076462        17.150412  ...           0.4      -0.074362\n",
              "2000-05-01     102.321617        15.319451  ...           0.4      -0.106759\n",
              "2000-06-01     101.104042        16.763649  ...           0.4       0.094272\n",
              "2000-08-01     100.339561        17.406275  ...           0.4       0.038334\n",
              "...                   ...              ...  ...           ...            ...\n",
              "2018-02-01     273.787720        69.474571  ...           0.4      -0.008495\n",
              "2018-03-01     260.291840        70.061737  ...           0.4       0.008452\n",
              "2018-05-01     258.679016        74.054916  ...           0.4       0.056995\n",
              "2018-06-01     267.094025        74.434120  ...           0.4       0.005121\n",
              "2018-08-01     275.412537        78.709999  ...           0.4       0.057445\n",
              "\n",
              "[143 rows x 6 columns]"
            ]
          },
          "metadata": {
            "tags": []
          },
          "execution_count": 26
        }
      ]
    },
    {
      "cell_type": "markdown",
      "metadata": {
        "id": "hs8TffmPWjWH",
        "colab_type": "text"
      },
      "source": [
        "###Drop every \"NA\" and return our new portfolio"
      ]
    },
    {
      "cell_type": "code",
      "metadata": {
        "id": "ynh7uMaCq_1t",
        "colab_type": "code",
        "outputId": "40dd326e-ccad-4a9c-d138-40cc4f0bbf73",
        "colab": {
          "base_uri": "https://localhost:8080/",
          "height": 340
        }
      },
      "source": [
        "prtf.dropna(inplace=True)\n",
        "prtf.head()"
      ],
      "execution_count": 0,
      "outputs": [
        {
          "output_type": "execute_result",
          "data": {
            "text/html": [
              "<div>\n",
              "<style scoped>\n",
              "    .dataframe tbody tr th:only-of-type {\n",
              "        vertical-align: middle;\n",
              "    }\n",
              "\n",
              "    .dataframe tbody tr th {\n",
              "        vertical-align: top;\n",
              "    }\n",
              "\n",
              "    .dataframe thead th {\n",
              "        text-align: right;\n",
              "    }\n",
              "</style>\n",
              "<table border=\"1\" class=\"dataframe\">\n",
              "  <thead>\n",
              "    <tr style=\"text-align: right;\">\n",
              "      <th></th>\n",
              "      <th>Adj_Close_spy</th>\n",
              "      <th>Adj_Close_naesx</th>\n",
              "      <th>Weight_spy</th>\n",
              "      <th>Returns_spy</th>\n",
              "      <th>Weight_naesx</th>\n",
              "      <th>Returns_naesx</th>\n",
              "    </tr>\n",
              "    <tr>\n",
              "      <th>key_0</th>\n",
              "      <th></th>\n",
              "      <th></th>\n",
              "      <th></th>\n",
              "      <th></th>\n",
              "      <th></th>\n",
              "      <th></th>\n",
              "    </tr>\n",
              "  </thead>\n",
              "  <tbody>\n",
              "    <tr>\n",
              "      <th>2000-03-01</th>\n",
              "      <td>96.076462</td>\n",
              "      <td>17.150412</td>\n",
              "      <td>0.6</td>\n",
              "      <td>-0.017738</td>\n",
              "      <td>0.4</td>\n",
              "      <td>-0.074362</td>\n",
              "    </tr>\n",
              "    <tr>\n",
              "      <th>2000-05-01</th>\n",
              "      <td>102.321617</td>\n",
              "      <td>15.319451</td>\n",
              "      <td>0.6</td>\n",
              "      <td>0.065002</td>\n",
              "      <td>0.4</td>\n",
              "      <td>-0.106759</td>\n",
              "    </tr>\n",
              "    <tr>\n",
              "      <th>2000-06-01</th>\n",
              "      <td>101.104042</td>\n",
              "      <td>16.763649</td>\n",
              "      <td>0.6</td>\n",
              "      <td>-0.011899</td>\n",
              "      <td>0.4</td>\n",
              "      <td>0.094272</td>\n",
              "    </tr>\n",
              "    <tr>\n",
              "      <th>2000-08-01</th>\n",
              "      <td>100.339561</td>\n",
              "      <td>17.406275</td>\n",
              "      <td>0.6</td>\n",
              "      <td>-0.007561</td>\n",
              "      <td>0.4</td>\n",
              "      <td>0.038334</td>\n",
              "    </tr>\n",
              "    <tr>\n",
              "      <th>2000-09-01</th>\n",
              "      <td>106.354683</td>\n",
              "      <td>16.888020</td>\n",
              "      <td>0.6</td>\n",
              "      <td>0.059948</td>\n",
              "      <td>0.4</td>\n",
              "      <td>-0.029774</td>\n",
              "    </tr>\n",
              "  </tbody>\n",
              "</table>\n",
              "</div>"
            ],
            "text/plain": [
              "            Adj_Close_spy  Adj_Close_naesx  ...  Weight_naesx  Returns_naesx\n",
              "key_0                                       ...                             \n",
              "2000-03-01      96.076462        17.150412  ...           0.4      -0.074362\n",
              "2000-05-01     102.321617        15.319451  ...           0.4      -0.106759\n",
              "2000-06-01     101.104042        16.763649  ...           0.4       0.094272\n",
              "2000-08-01     100.339561        17.406275  ...           0.4       0.038334\n",
              "2000-09-01     106.354683        16.888020  ...           0.4      -0.029774\n",
              "\n",
              "[5 rows x 6 columns]"
            ]
          },
          "metadata": {
            "tags": []
          },
          "execution_count": 27
        }
      ]
    },
    {
      "cell_type": "markdown",
      "metadata": {
        "id": "BH2q6eYdWrp5",
        "colab_type": "text"
      },
      "source": [
        "##Now we can simpy calculate our portfolio returns:\n",
        "(SPY_weight * SPY_monthly_return) + (NAESX_weight * NAESX_monthly_return)"
      ]
    },
    {
      "cell_type": "code",
      "metadata": {
        "id": "EN7IU0Nrr8AN",
        "colab_type": "code",
        "outputId": "38c3bb66-399c-44da-9a4b-c0cc9a7491f1",
        "colab": {
          "base_uri": "https://localhost:8080/",
          "height": 640
        }
      },
      "source": [
        "prtf['Portfolio_Returns'] = prtf['Weight_spy']*prtf['Returns_spy'] + prtf['Weight_naesx']*prtf['Returns_naesx']\n",
        "prtf"
      ],
      "execution_count": 0,
      "outputs": [
        {
          "output_type": "execute_result",
          "data": {
            "text/html": [
              "<div>\n",
              "<style scoped>\n",
              "    .dataframe tbody tr th:only-of-type {\n",
              "        vertical-align: middle;\n",
              "    }\n",
              "\n",
              "    .dataframe tbody tr th {\n",
              "        vertical-align: top;\n",
              "    }\n",
              "\n",
              "    .dataframe thead th {\n",
              "        text-align: right;\n",
              "    }\n",
              "</style>\n",
              "<table border=\"1\" class=\"dataframe\">\n",
              "  <thead>\n",
              "    <tr style=\"text-align: right;\">\n",
              "      <th></th>\n",
              "      <th>Adj_Close_spy</th>\n",
              "      <th>Adj_Close_naesx</th>\n",
              "      <th>Weight_spy</th>\n",
              "      <th>Returns_spy</th>\n",
              "      <th>Weight_naesx</th>\n",
              "      <th>Returns_naesx</th>\n",
              "      <th>Portfolio_Returns</th>\n",
              "    </tr>\n",
              "    <tr>\n",
              "      <th>key_0</th>\n",
              "      <th></th>\n",
              "      <th></th>\n",
              "      <th></th>\n",
              "      <th></th>\n",
              "      <th></th>\n",
              "      <th></th>\n",
              "      <th></th>\n",
              "    </tr>\n",
              "  </thead>\n",
              "  <tbody>\n",
              "    <tr>\n",
              "      <th>2000-03-01</th>\n",
              "      <td>96.076462</td>\n",
              "      <td>17.150412</td>\n",
              "      <td>0.6</td>\n",
              "      <td>-0.017738</td>\n",
              "      <td>0.4</td>\n",
              "      <td>-0.074362</td>\n",
              "      <td>-0.040388</td>\n",
              "    </tr>\n",
              "    <tr>\n",
              "      <th>2000-05-01</th>\n",
              "      <td>102.321617</td>\n",
              "      <td>15.319451</td>\n",
              "      <td>0.6</td>\n",
              "      <td>0.065002</td>\n",
              "      <td>0.4</td>\n",
              "      <td>-0.106759</td>\n",
              "      <td>-0.003702</td>\n",
              "    </tr>\n",
              "    <tr>\n",
              "      <th>2000-06-01</th>\n",
              "      <td>101.104042</td>\n",
              "      <td>16.763649</td>\n",
              "      <td>0.6</td>\n",
              "      <td>-0.011899</td>\n",
              "      <td>0.4</td>\n",
              "      <td>0.094272</td>\n",
              "      <td>0.030569</td>\n",
              "    </tr>\n",
              "    <tr>\n",
              "      <th>2000-08-01</th>\n",
              "      <td>100.339561</td>\n",
              "      <td>17.406275</td>\n",
              "      <td>0.6</td>\n",
              "      <td>-0.007561</td>\n",
              "      <td>0.4</td>\n",
              "      <td>0.038334</td>\n",
              "      <td>0.010797</td>\n",
              "    </tr>\n",
              "    <tr>\n",
              "      <th>2000-09-01</th>\n",
              "      <td>106.354683</td>\n",
              "      <td>16.888020</td>\n",
              "      <td>0.6</td>\n",
              "      <td>0.059948</td>\n",
              "      <td>0.4</td>\n",
              "      <td>-0.029774</td>\n",
              "      <td>0.024059</td>\n",
              "    </tr>\n",
              "    <tr>\n",
              "      <th>...</th>\n",
              "      <td>...</td>\n",
              "      <td>...</td>\n",
              "      <td>...</td>\n",
              "      <td>...</td>\n",
              "      <td>...</td>\n",
              "      <td>...</td>\n",
              "      <td>...</td>\n",
              "    </tr>\n",
              "    <tr>\n",
              "      <th>2018-02-01</th>\n",
              "      <td>273.787720</td>\n",
              "      <td>69.474571</td>\n",
              "      <td>0.6</td>\n",
              "      <td>0.070178</td>\n",
              "      <td>0.4</td>\n",
              "      <td>-0.008495</td>\n",
              "      <td>0.038709</td>\n",
              "    </tr>\n",
              "    <tr>\n",
              "      <th>2018-03-01</th>\n",
              "      <td>260.291840</td>\n",
              "      <td>70.061737</td>\n",
              "      <td>0.6</td>\n",
              "      <td>-0.049293</td>\n",
              "      <td>0.4</td>\n",
              "      <td>0.008452</td>\n",
              "      <td>-0.026195</td>\n",
              "    </tr>\n",
              "    <tr>\n",
              "      <th>2018-05-01</th>\n",
              "      <td>258.679016</td>\n",
              "      <td>74.054916</td>\n",
              "      <td>0.6</td>\n",
              "      <td>-0.006196</td>\n",
              "      <td>0.4</td>\n",
              "      <td>0.056995</td>\n",
              "      <td>0.019080</td>\n",
              "    </tr>\n",
              "    <tr>\n",
              "      <th>2018-06-01</th>\n",
              "      <td>267.094025</td>\n",
              "      <td>74.434120</td>\n",
              "      <td>0.6</td>\n",
              "      <td>0.032531</td>\n",
              "      <td>0.4</td>\n",
              "      <td>0.005121</td>\n",
              "      <td>0.021567</td>\n",
              "    </tr>\n",
              "    <tr>\n",
              "      <th>2018-08-01</th>\n",
              "      <td>275.412537</td>\n",
              "      <td>78.709999</td>\n",
              "      <td>0.6</td>\n",
              "      <td>0.031145</td>\n",
              "      <td>0.4</td>\n",
              "      <td>0.057445</td>\n",
              "      <td>0.041665</td>\n",
              "    </tr>\n",
              "  </tbody>\n",
              "</table>\n",
              "<p>142 rows × 7 columns</p>\n",
              "</div>"
            ],
            "text/plain": [
              "            Adj_Close_spy  Adj_Close_naesx  ...  Returns_naesx  Portfolio_Returns\n",
              "key_0                                       ...                                  \n",
              "2000-03-01      96.076462        17.150412  ...      -0.074362          -0.040388\n",
              "2000-05-01     102.321617        15.319451  ...      -0.106759          -0.003702\n",
              "2000-06-01     101.104042        16.763649  ...       0.094272           0.030569\n",
              "2000-08-01     100.339561        17.406275  ...       0.038334           0.010797\n",
              "2000-09-01     106.354683        16.888020  ...      -0.029774           0.024059\n",
              "...                   ...              ...  ...            ...                ...\n",
              "2018-02-01     273.787720        69.474571  ...      -0.008495           0.038709\n",
              "2018-03-01     260.291840        70.061737  ...       0.008452          -0.026195\n",
              "2018-05-01     258.679016        74.054916  ...       0.056995           0.019080\n",
              "2018-06-01     267.094025        74.434120  ...       0.005121           0.021567\n",
              "2018-08-01     275.412537        78.709999  ...       0.057445           0.041665\n",
              "\n",
              "[142 rows x 7 columns]"
            ]
          },
          "metadata": {
            "tags": []
          },
          "execution_count": 28
        }
      ]
    },
    {
      "cell_type": "markdown",
      "metadata": {
        "id": "eKC1Wg7P2MIj",
        "colab_type": "text"
      },
      "source": [
        "#7. Run a linear regression, using StatsModels or SkLearn to forecast next month’s return of your portfolio using a two month (you could do longer if you want) lag of previous returns. Be sure to create a train and a test set, you should also create a validation set to do cross-validation (i.e. backtest). (this will require you to create a feature matrix where the features are the lagged returns, and a response vector which is the returns). Note a typical k-fold cross validation will not work on time series because of the ordering of time!\n"
      ]
    },
    {
      "cell_type": "code",
      "metadata": {
        "id": "jNDhJG972Txc",
        "colab_type": "code",
        "outputId": "c4d099e7-44d9-4f54-d8db-de5984c8d207",
        "colab": {
          "base_uri": "https://localhost:8080/",
          "height": 450
        }
      },
      "source": [
        "X = pd.DataFrame()\n",
        "for i in range(1,3):\n",
        "    X['portfolio_return t'+str(-i)] = prtf['Portfolio_Returns'].shift(i)\n",
        "    \n",
        "X"
      ],
      "execution_count": 0,
      "outputs": [
        {
          "output_type": "execute_result",
          "data": {
            "text/html": [
              "<div>\n",
              "<style scoped>\n",
              "    .dataframe tbody tr th:only-of-type {\n",
              "        vertical-align: middle;\n",
              "    }\n",
              "\n",
              "    .dataframe tbody tr th {\n",
              "        vertical-align: top;\n",
              "    }\n",
              "\n",
              "    .dataframe thead th {\n",
              "        text-align: right;\n",
              "    }\n",
              "</style>\n",
              "<table border=\"1\" class=\"dataframe\">\n",
              "  <thead>\n",
              "    <tr style=\"text-align: right;\">\n",
              "      <th></th>\n",
              "      <th>portfolio_return t-1</th>\n",
              "      <th>portfolio_return t-2</th>\n",
              "    </tr>\n",
              "    <tr>\n",
              "      <th>key_0</th>\n",
              "      <th></th>\n",
              "      <th></th>\n",
              "    </tr>\n",
              "  </thead>\n",
              "  <tbody>\n",
              "    <tr>\n",
              "      <th>2000-03-01</th>\n",
              "      <td>NaN</td>\n",
              "      <td>NaN</td>\n",
              "    </tr>\n",
              "    <tr>\n",
              "      <th>2000-05-01</th>\n",
              "      <td>-0.040388</td>\n",
              "      <td>NaN</td>\n",
              "    </tr>\n",
              "    <tr>\n",
              "      <th>2000-06-01</th>\n",
              "      <td>-0.003702</td>\n",
              "      <td>-0.040388</td>\n",
              "    </tr>\n",
              "    <tr>\n",
              "      <th>2000-08-01</th>\n",
              "      <td>0.030569</td>\n",
              "      <td>-0.003702</td>\n",
              "    </tr>\n",
              "    <tr>\n",
              "      <th>2000-09-01</th>\n",
              "      <td>0.010797</td>\n",
              "      <td>0.030569</td>\n",
              "    </tr>\n",
              "    <tr>\n",
              "      <th>...</th>\n",
              "      <td>...</td>\n",
              "      <td>...</td>\n",
              "    </tr>\n",
              "    <tr>\n",
              "      <th>2018-02-01</th>\n",
              "      <td>0.015733</td>\n",
              "      <td>0.046685</td>\n",
              "    </tr>\n",
              "    <tr>\n",
              "      <th>2018-03-01</th>\n",
              "      <td>0.038709</td>\n",
              "      <td>0.015733</td>\n",
              "    </tr>\n",
              "    <tr>\n",
              "      <th>2018-05-01</th>\n",
              "      <td>-0.026195</td>\n",
              "      <td>0.038709</td>\n",
              "    </tr>\n",
              "    <tr>\n",
              "      <th>2018-06-01</th>\n",
              "      <td>0.019080</td>\n",
              "      <td>-0.026195</td>\n",
              "    </tr>\n",
              "    <tr>\n",
              "      <th>2018-08-01</th>\n",
              "      <td>0.021567</td>\n",
              "      <td>0.019080</td>\n",
              "    </tr>\n",
              "  </tbody>\n",
              "</table>\n",
              "<p>142 rows × 2 columns</p>\n",
              "</div>"
            ],
            "text/plain": [
              "            portfolio_return t-1  portfolio_return t-2\n",
              "key_0                                                 \n",
              "2000-03-01                   NaN                   NaN\n",
              "2000-05-01             -0.040388                   NaN\n",
              "2000-06-01             -0.003702             -0.040388\n",
              "2000-08-01              0.030569             -0.003702\n",
              "2000-09-01              0.010797              0.030569\n",
              "...                          ...                   ...\n",
              "2018-02-01              0.015733              0.046685\n",
              "2018-03-01              0.038709              0.015733\n",
              "2018-05-01             -0.026195              0.038709\n",
              "2018-06-01              0.019080             -0.026195\n",
              "2018-08-01              0.021567              0.019080\n",
              "\n",
              "[142 rows x 2 columns]"
            ]
          },
          "metadata": {
            "tags": []
          },
          "execution_count": 29
        }
      ]
    },
    {
      "cell_type": "code",
      "metadata": {
        "id": "inNM4Mye3FBb",
        "colab_type": "code",
        "outputId": "e9201cd6-7c1b-4e60-a8be-55d86b473768",
        "colab": {
          "base_uri": "https://localhost:8080/",
          "height": 450
        }
      },
      "source": [
        "# Let's drop NAs\n",
        "X.dropna(inplace=True)\n",
        "X # X = the portfolio returns that were lagged by 2 months"
      ],
      "execution_count": 0,
      "outputs": [
        {
          "output_type": "execute_result",
          "data": {
            "text/html": [
              "<div>\n",
              "<style scoped>\n",
              "    .dataframe tbody tr th:only-of-type {\n",
              "        vertical-align: middle;\n",
              "    }\n",
              "\n",
              "    .dataframe tbody tr th {\n",
              "        vertical-align: top;\n",
              "    }\n",
              "\n",
              "    .dataframe thead th {\n",
              "        text-align: right;\n",
              "    }\n",
              "</style>\n",
              "<table border=\"1\" class=\"dataframe\">\n",
              "  <thead>\n",
              "    <tr style=\"text-align: right;\">\n",
              "      <th></th>\n",
              "      <th>portfolio_return t-1</th>\n",
              "      <th>portfolio_return t-2</th>\n",
              "    </tr>\n",
              "    <tr>\n",
              "      <th>key_0</th>\n",
              "      <th></th>\n",
              "      <th></th>\n",
              "    </tr>\n",
              "  </thead>\n",
              "  <tbody>\n",
              "    <tr>\n",
              "      <th>2000-06-01</th>\n",
              "      <td>-0.003702</td>\n",
              "      <td>-0.040388</td>\n",
              "    </tr>\n",
              "    <tr>\n",
              "      <th>2000-08-01</th>\n",
              "      <td>0.030569</td>\n",
              "      <td>-0.003702</td>\n",
              "    </tr>\n",
              "    <tr>\n",
              "      <th>2000-09-01</th>\n",
              "      <td>0.010797</td>\n",
              "      <td>0.030569</td>\n",
              "    </tr>\n",
              "    <tr>\n",
              "      <th>2000-11-01</th>\n",
              "      <td>0.024059</td>\n",
              "      <td>0.010797</td>\n",
              "    </tr>\n",
              "    <tr>\n",
              "      <th>2000-12-01</th>\n",
              "      <td>-0.094687</td>\n",
              "      <td>0.024059</td>\n",
              "    </tr>\n",
              "    <tr>\n",
              "      <th>...</th>\n",
              "      <td>...</td>\n",
              "      <td>...</td>\n",
              "    </tr>\n",
              "    <tr>\n",
              "      <th>2018-02-01</th>\n",
              "      <td>0.015733</td>\n",
              "      <td>0.046685</td>\n",
              "    </tr>\n",
              "    <tr>\n",
              "      <th>2018-03-01</th>\n",
              "      <td>0.038709</td>\n",
              "      <td>0.015733</td>\n",
              "    </tr>\n",
              "    <tr>\n",
              "      <th>2018-05-01</th>\n",
              "      <td>-0.026195</td>\n",
              "      <td>0.038709</td>\n",
              "    </tr>\n",
              "    <tr>\n",
              "      <th>2018-06-01</th>\n",
              "      <td>0.019080</td>\n",
              "      <td>-0.026195</td>\n",
              "    </tr>\n",
              "    <tr>\n",
              "      <th>2018-08-01</th>\n",
              "      <td>0.021567</td>\n",
              "      <td>0.019080</td>\n",
              "    </tr>\n",
              "  </tbody>\n",
              "</table>\n",
              "<p>140 rows × 2 columns</p>\n",
              "</div>"
            ],
            "text/plain": [
              "            portfolio_return t-1  portfolio_return t-2\n",
              "key_0                                                 \n",
              "2000-06-01             -0.003702             -0.040388\n",
              "2000-08-01              0.030569             -0.003702\n",
              "2000-09-01              0.010797              0.030569\n",
              "2000-11-01              0.024059              0.010797\n",
              "2000-12-01             -0.094687              0.024059\n",
              "...                          ...                   ...\n",
              "2018-02-01              0.015733              0.046685\n",
              "2018-03-01              0.038709              0.015733\n",
              "2018-05-01             -0.026195              0.038709\n",
              "2018-06-01              0.019080             -0.026195\n",
              "2018-08-01              0.021567              0.019080\n",
              "\n",
              "[140 rows x 2 columns]"
            ]
          },
          "metadata": {
            "tags": []
          },
          "execution_count": 30
        }
      ]
    },
    {
      "cell_type": "code",
      "metadata": {
        "id": "JxTmMi153N98",
        "colab_type": "code",
        "outputId": "c7cb602c-6be3-40b1-9117-a78e3c7d27b4",
        "colab": {
          "base_uri": "https://localhost:8080/",
          "height": 238
        }
      },
      "source": [
        "y = prtf['Portfolio_Returns'].iloc[2:]\n",
        "y # y = portfolio returns"
      ],
      "execution_count": 0,
      "outputs": [
        {
          "output_type": "execute_result",
          "data": {
            "text/plain": [
              "key_0\n",
              "2000-06-01    0.030569\n",
              "2000-08-01    0.010797\n",
              "2000-09-01    0.024059\n",
              "2000-11-01   -0.094687\n",
              "2000-12-01   -0.072529\n",
              "                ...   \n",
              "2018-02-01    0.038709\n",
              "2018-03-01   -0.026195\n",
              "2018-05-01    0.019080\n",
              "2018-06-01    0.021567\n",
              "2018-08-01    0.041665\n",
              "Name: Portfolio_Returns, Length: 140, dtype: float64"
            ]
          },
          "metadata": {
            "tags": []
          },
          "execution_count": 31
        }
      ]
    },
    {
      "cell_type": "markdown",
      "metadata": {
        "id": "V0RjeSuoX-g3",
        "colab_type": "text"
      },
      "source": [
        "##We now make our training and test sets"
      ]
    },
    {
      "cell_type": "code",
      "metadata": {
        "id": "Dk_MkS1Y31qP",
        "colab_type": "code",
        "outputId": "36f20afd-4817-46d5-abd2-56a43bdfc04a",
        "colab": {
          "base_uri": "https://localhost:8080/",
          "height": 34
        }
      },
      "source": [
        "# For a 80% train and 20% test split, what index what I need to start split at?\n",
        "len(y)*0.8"
      ],
      "execution_count": 0,
      "outputs": [
        {
          "output_type": "execute_result",
          "data": {
            "text/plain": [
              "112.0"
            ]
          },
          "metadata": {
            "tags": []
          },
          "execution_count": 32
        }
      ]
    },
    {
      "cell_type": "code",
      "metadata": {
        "id": "OSeYisU035kU",
        "colab_type": "code",
        "colab": {}
      },
      "source": [
        "X_train = X[:113]\n",
        "X_test = X[113:]\n",
        "y_train = y[:113]\n",
        "y_test = y[113:]"
      ],
      "execution_count": 0,
      "outputs": []
    },
    {
      "cell_type": "markdown",
      "metadata": {
        "id": "FB1x-M19YSwM",
        "colab_type": "text"
      },
      "source": [
        "##Now we begin predicting portfolio returns with a linear regression model"
      ]
    },
    {
      "cell_type": "code",
      "metadata": {
        "id": "4SGfHvB04IXQ",
        "colab_type": "code",
        "outputId": "513fead3-e41f-4235-9a27-6098d8ce3b6e",
        "colab": {
          "base_uri": "https://localhost:8080/",
          "height": 139
        }
      },
      "source": [
        "from sklearn.linear_model import LinearRegression\n",
        "\n",
        "model = LinearRegression()\n",
        "predictor = model.fit(X_train, y_train) # train linear regression model\n",
        "\n",
        "predictor.predict(X_test) # predict portfolio returns"
      ],
      "execution_count": 0,
      "outputs": [
        {
          "output_type": "execute_result",
          "data": {
            "text/plain": [
              "array([ 0.01242829,  0.00837646,  0.00643967, -0.00715038,  0.01166351,\n",
              "        0.01653394, -0.00302841,  0.01471193,  0.01544715,  0.01182634,\n",
              "        0.01245173,  0.01241663,  0.00873248,  0.00879623,  0.01519543,\n",
              "        0.0144104 ,  0.01384348,  0.00864977,  0.01154778,  0.01089885,\n",
              "        0.01136195,  0.01642631,  0.01168465,  0.01503508,  0.00438289,\n",
              "        0.0109133 ,  0.01217155])"
            ]
          },
          "metadata": {
            "tags": []
          },
          "execution_count": 34
        }
      ]
    },
    {
      "cell_type": "markdown",
      "metadata": {
        "id": "JL7bWG5S2PSs",
        "colab_type": "text"
      },
      "source": [
        "#8. Evaluate performance of this predictor on a validation or test set using the square root of the mean square error and R^2."
      ]
    },
    {
      "cell_type": "markdown",
      "metadata": {
        "id": "ey-HgyBJv6Z-",
        "colab_type": "text"
      },
      "source": [
        "##RMSE Evaluation"
      ]
    },
    {
      "cell_type": "code",
      "metadata": {
        "id": "mKqTc4Gk4U3a",
        "colab_type": "code",
        "outputId": "ec04c9ec-ee54-456f-e75c-07a2cc3a05ce",
        "colab": {
          "base_uri": "https://localhost:8080/",
          "height": 34
        }
      },
      "source": [
        "from sklearn.metrics import mean_squared_error\n",
        "\n",
        "np.sqrt(mean_squared_error(predictor.predict(X_test), y_test))"
      ],
      "execution_count": 0,
      "outputs": [
        {
          "output_type": "execute_result",
          "data": {
            "text/plain": [
              "0.0332379892727263"
            ]
          },
          "metadata": {
            "tags": []
          },
          "execution_count": 35
        }
      ]
    },
    {
      "cell_type": "markdown",
      "metadata": {
        "id": "jzSQfpMAaHAq",
        "colab_type": "text"
      },
      "source": [
        "# The RMSE is rather high given the set of values predicted portfolio returns we got."
      ]
    },
    {
      "cell_type": "markdown",
      "metadata": {
        "id": "xvffMvHcvzSp",
        "colab_type": "text"
      },
      "source": [
        "##R^2 Evaluation"
      ]
    },
    {
      "cell_type": "code",
      "metadata": {
        "id": "zL8HuerzvgOk",
        "colab_type": "code",
        "outputId": "4381c971-50a5-4652-b1c0-8536a338caf3",
        "colab": {
          "base_uri": "https://localhost:8080/",
          "height": 235
        }
      },
      "source": [
        "# Initialize a new dataframe holding portfolio returns for OLS (R^2 assessment)\n",
        "prtf_Returns = pd.DataFrame()\n",
        "\n",
        "prtf_Returns['return_t'] = prtf['Portfolio_Returns'] # Our response variable values\n",
        "prtf_Returns['return_lag'] = prtf['Portfolio_Returns'].shift() # Lagged portfolio returns by one month\n",
        "prtf_Returns['return_laglag'] = prtf['Portfolio_Returns'].shift(2) # Lagged portfolio returns by 2 months\n",
        "\n",
        "prtf_Returns.dropna(inplace=True) # Drop NAs\n",
        "prtf_Returns.head() # Return portfolio returns"
      ],
      "execution_count": 0,
      "outputs": [
        {
          "output_type": "execute_result",
          "data": {
            "text/html": [
              "<div>\n",
              "<style scoped>\n",
              "    .dataframe tbody tr th:only-of-type {\n",
              "        vertical-align: middle;\n",
              "    }\n",
              "\n",
              "    .dataframe tbody tr th {\n",
              "        vertical-align: top;\n",
              "    }\n",
              "\n",
              "    .dataframe thead th {\n",
              "        text-align: right;\n",
              "    }\n",
              "</style>\n",
              "<table border=\"1\" class=\"dataframe\">\n",
              "  <thead>\n",
              "    <tr style=\"text-align: right;\">\n",
              "      <th></th>\n",
              "      <th>return_t</th>\n",
              "      <th>return_lag</th>\n",
              "      <th>return_laglag</th>\n",
              "    </tr>\n",
              "    <tr>\n",
              "      <th>key_0</th>\n",
              "      <th></th>\n",
              "      <th></th>\n",
              "      <th></th>\n",
              "    </tr>\n",
              "  </thead>\n",
              "  <tbody>\n",
              "    <tr>\n",
              "      <th>2000-06-01</th>\n",
              "      <td>0.030569</td>\n",
              "      <td>-0.003702</td>\n",
              "      <td>-0.040388</td>\n",
              "    </tr>\n",
              "    <tr>\n",
              "      <th>2000-08-01</th>\n",
              "      <td>0.010797</td>\n",
              "      <td>0.030569</td>\n",
              "      <td>-0.003702</td>\n",
              "    </tr>\n",
              "    <tr>\n",
              "      <th>2000-09-01</th>\n",
              "      <td>0.024059</td>\n",
              "      <td>0.010797</td>\n",
              "      <td>0.030569</td>\n",
              "    </tr>\n",
              "    <tr>\n",
              "      <th>2000-11-01</th>\n",
              "      <td>-0.094687</td>\n",
              "      <td>0.024059</td>\n",
              "      <td>0.010797</td>\n",
              "    </tr>\n",
              "    <tr>\n",
              "      <th>2000-12-01</th>\n",
              "      <td>-0.072529</td>\n",
              "      <td>-0.094687</td>\n",
              "      <td>0.024059</td>\n",
              "    </tr>\n",
              "  </tbody>\n",
              "</table>\n",
              "</div>"
            ],
            "text/plain": [
              "            return_t  return_lag  return_laglag\n",
              "key_0                                          \n",
              "2000-06-01  0.030569   -0.003702      -0.040388\n",
              "2000-08-01  0.010797    0.030569      -0.003702\n",
              "2000-09-01  0.024059    0.010797       0.030569\n",
              "2000-11-01 -0.094687    0.024059       0.010797\n",
              "2000-12-01 -0.072529   -0.094687       0.024059"
            ]
          },
          "metadata": {
            "tags": []
          },
          "execution_count": 36
        }
      ]
    },
    {
      "cell_type": "markdown",
      "metadata": {
        "id": "dXsb8SgwZLbp",
        "colab_type": "text"
      },
      "source": [
        "####OLS ANALYSIS"
      ]
    },
    {
      "cell_type": "code",
      "metadata": {
        "id": "yH4d5-mPwXyg",
        "colab_type": "code",
        "outputId": "43f71132-ca97-4889-f936-21bbd8f65eb9",
        "colab": {
          "base_uri": "https://localhost:8080/",
          "height": 479
        }
      },
      "source": [
        "import statsmodels.formula.api as sm\n",
        "# OLS REGRESSION RESULTS\n",
        "results = sm.ols('return_t ~ return_lag + return_laglag', data=prtf_Returns).fit()\n",
        "print(results.summary()) "
      ],
      "execution_count": 0,
      "outputs": [
        {
          "output_type": "stream",
          "text": [
            "                            OLS Regression Results                            \n",
            "==============================================================================\n",
            "Dep. Variable:               return_t   R-squared:                       0.023\n",
            "Model:                            OLS   Adj. R-squared:                  0.009\n",
            "Method:                 Least Squares   F-statistic:                     1.611\n",
            "Date:                Fri, 13 Dec 2019   Prob (F-statistic):              0.203\n",
            "Time:                        18:37:25   Log-Likelihood:                 222.20\n",
            "No. Observations:                 140   AIC:                            -438.4\n",
            "Df Residuals:                     137   BIC:                            -429.6\n",
            "Df Model:                           2                                         \n",
            "Covariance Type:            nonrobust                                         \n",
            "=================================================================================\n",
            "                    coef    std err          t      P>|t|      [0.025      0.975]\n",
            "---------------------------------------------------------------------------------\n",
            "Intercept         0.0090      0.004      2.064      0.041       0.000       0.018\n",
            "return_lag        0.1498      0.086      1.751      0.082      -0.019       0.319\n",
            "return_laglag     0.0107      0.085      0.126      0.900      -0.158       0.179\n",
            "==============================================================================\n",
            "Omnibus:                       34.560   Durbin-Watson:                   1.996\n",
            "Prob(Omnibus):                  0.000   Jarque-Bera (JB):               57.931\n",
            "Skew:                          -1.180   Prob(JB):                     2.63e-13\n",
            "Kurtosis:                       5.089   Cond. No.                         21.7\n",
            "==============================================================================\n",
            "\n",
            "Warnings:\n",
            "[1] Standard Errors assume that the covariance matrix of the errors is correctly specified.\n"
          ],
          "name": "stdout"
        }
      ]
    },
    {
      "cell_type": "markdown",
      "metadata": {
        "id": "BEScAqbLZasv",
        "colab_type": "text"
      },
      "source": [
        "Our R^2 is very weak (meaning our model performs poorly when it comes to explaing the variation in the data) and we can see from our p-value that these lagged predictors aren't really statistically significant."
      ]
    }
  ]
}