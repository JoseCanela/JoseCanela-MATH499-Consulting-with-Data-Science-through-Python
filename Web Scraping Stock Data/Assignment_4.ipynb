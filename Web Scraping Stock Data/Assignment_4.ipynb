{
  "nbformat": 4,
  "nbformat_minor": 0,
  "metadata": {
    "colab": {
      "name": "Assignment_4.ipynb",
      "provenance": [],
      "collapsed_sections": []
    },
    "kernelspec": {
      "name": "python3",
      "display_name": "Python 3"
    },
    "accelerator": "GPU"
  },
  "cells": [
    {
      "cell_type": "markdown",
      "metadata": {
        "id": "m6wtWGJDITuv",
        "colab_type": "text"
      },
      "source": [
        "# Importing Libraries"
      ]
    },
    {
      "cell_type": "code",
      "metadata": {
        "id": "ERbpobkHHNPK",
        "colab_type": "code",
        "colab": {}
      },
      "source": [
        "import numpy as np\n",
        "import pandas as pd\n",
        "import matplotlib.pyplot as plt\n",
        "import datetime as dt\n",
        "import pandas_datareader as pdr #API wrapper"
      ],
      "execution_count": 0,
      "outputs": []
    },
    {
      "cell_type": "code",
      "metadata": {
        "id": "Elu7yMGTHy7C",
        "colab_type": "code",
        "colab": {}
      },
      "source": [
        "from bs4 import BeautifulSoup\n",
        "import requests\n",
        "import bs4\n",
        "from urllib.request import urlopen"
      ],
      "execution_count": 0,
      "outputs": []
    },
    {
      "cell_type": "markdown",
      "metadata": {
        "id": "XcvXBw2YIJAC",
        "colab_type": "text"
      },
      "source": [
        "#Beautiful Soup Documentation\n",
        "https://www.crummy.com/software/BeautifulSoup/bs4/doc/"
      ]
    },
    {
      "cell_type": "markdown",
      "metadata": {
        "id": "Bklzbu9yekKg",
        "colab_type": "text"
      },
      "source": [
        "# 1. Pick any stock and go to their Yahoo Finance page. \n",
        "## I decided to choose Apple for my first stock\n",
        "\n",
        "---\n",
        "\n",
        "\n",
        "\n",
        "\n",
        "# 2. Scrape the Summary Statistics starting from \"Previous Close\" to \"1y Target Est\".\n"
      ]
    },
    {
      "cell_type": "markdown",
      "metadata": {
        "id": "b7jRMY3P8B_w",
        "colab_type": "text"
      },
      "source": [
        "##Creating Apple Stock Dataframe  "
      ]
    },
    {
      "cell_type": "code",
      "metadata": {
        "id": "PHYE8DHFH1kV",
        "colab_type": "code",
        "colab": {}
      },
      "source": [
        "# Read url into Python\n",
        "aapl = requests.get('https://finance.yahoo.com/quote/AAPL')\n",
        "# Parse HTML object and turn it into a string"
      ],
      "execution_count": 0,
      "outputs": []
    },
    {
      "cell_type": "code",
      "metadata": {
        "id": "XwaAjsflMUv-",
        "colab_type": "code",
        "colab": {}
      },
      "source": [
        "# Parse HTML object and turn it into a string using Beautiful Soup library!\n",
        "aapl_soup = bs4.BeautifulSoup(aapl.text, 'html.parser') "
      ],
      "execution_count": 0,
      "outputs": []
    },
    {
      "cell_type": "code",
      "metadata": {
        "id": "xoAMM3WwNY-G",
        "colab_type": "code",
        "colab": {}
      },
      "source": [
        "# Find all the column data (containing both labels and values that we need) \n",
        "# using the appropriate id: \"quote-summary\"\n",
        "aapl_columns = aapl_soup.find(id=\"quote-summary\")"
      ],
      "execution_count": 0,
      "outputs": []
    },
    {
      "cell_type": "code",
      "metadata": {
        "id": "Tb07YFhjNj4q",
        "colab_type": "code",
        "outputId": "3a9a7c29-3dbf-4791-b5bc-387b08a5ec56",
        "colab": {
          "base_uri": "https://localhost:8080/",
          "height": 54
        }
      },
      "source": [
        "aapl_columns"
      ],
      "execution_count": 0,
      "outputs": [
        {
          "output_type": "execute_result",
          "data": {
            "text/plain": [
              "<div class=\"Bxz(bb) D(ib) Va(t) Mih(250px)--lgv2 W(100%) Mt(-6px) Mt(0px)--mobp Mt(0px)--mobl W(50%)--lgv2 Mend(20px)--lgv2 Pend(10px)--lgv2 \" data-reactid=\"8\" data-test=\"quote-summary-stats\" id=\"quote-summary\"><div class=\"D(ib) W(1/2) Bxz(bb) Pend(12px) Va(t) ie-7_D(i) smartphone_D(b) smartphone_W(100%) smartphone_Pend(0px) smartphone_BdY smartphone_Bdc($seperatorColor)\" data-reactid=\"9\" data-test=\"left-summary-table\"><table class=\"W(100%)\" data-reactid=\"10\"><tbody data-reactid=\"11\"><tr class=\"Bxz(bb) Bdbw(1px) Bdbs(s) Bdc($seperatorColor) H(36px) \" data-reactid=\"12\"><td class=\"C($primaryColor) W(51%)\" data-reactid=\"13\"><span data-reactid=\"14\">Previous Close</span></td><td class=\"Ta(end) Fw(600) Lh(14px)\" data-reactid=\"15\" data-test=\"PREV_CLOSE-value\"><span class=\"Trsdu(0.3s) \" data-reactid=\"16\">270.77</span></td></tr><tr class=\"Bxz(bb) Bdbw(1px) Bdbs(s) Bdc($seperatorColor) H(36px) \" data-reactid=\"17\"><td class=\"C($primaryColor) W(51%)\" data-reactid=\"18\"><span data-reactid=\"19\">Open</span></td><td class=\"Ta(end) Fw(600) Lh(14px)\" data-reactid=\"20\" data-test=\"OPEN-value\"><span class=\"Trsdu(0.3s) \" data-reactid=\"21\">267.78</span></td></tr><tr class=\"Bxz(bb) Bdbw(1px) Bdbs(s) Bdc($seperatorColor) H(36px) \" data-reactid=\"22\"><td class=\"C($primaryColor) W(51%)\" data-reactid=\"23\"><span data-reactid=\"24\">Bid</span></td><td class=\"Ta(end) Fw(600) Lh(14px)\" data-reactid=\"25\" data-test=\"BID-value\"><span class=\"Trsdu(0.3s) \" data-reactid=\"26\">272.65 x 1000</span></td></tr><tr class=\"Bxz(bb) Bdbw(1px) Bdbs(s) Bdc($seperatorColor) H(36px) \" data-reactid=\"27\"><td class=\"C($primaryColor) W(51%)\" data-reactid=\"28\"><span data-reactid=\"29\">Ask</span></td><td class=\"Ta(end) Fw(600) Lh(14px)\" data-reactid=\"30\" data-test=\"ASK-value\"><span class=\"Trsdu(0.3s) \" data-reactid=\"31\">272.74 x 1300</span></td></tr><tr class=\"Bxz(bb) Bdbw(1px) Bdbs(s) Bdc($seperatorColor) H(36px) \" data-reactid=\"32\"><td class=\"C($primaryColor) W(51%)\" data-reactid=\"33\"><span data-reactid=\"34\">Day's Range</span></td><td class=\"Ta(end) Fw(600) Lh(14px)\" data-reactid=\"35\" data-test=\"DAYS_RANGE-value\">267.32 - 272.55</td></tr><tr class=\"Bxz(bb) Bdbw(1px) Bdbs(s) Bdc($seperatorColor) H(36px) \" data-reactid=\"36\"><td class=\"C($primaryColor) W(51%)\" data-reactid=\"37\"><span data-reactid=\"38\">52 Week Range</span></td><td class=\"Ta(end) Fw(600) Lh(14px)\" data-reactid=\"39\" data-test=\"FIFTY_TWO_WK_RANGE-value\">142.00 - 272.56</td></tr><tr class=\"Bxz(bb) Bdbw(1px) Bdbs(s) Bdc($seperatorColor) H(36px) \" data-reactid=\"40\"><td class=\"C($primaryColor) W(51%)\" data-reactid=\"41\"><span data-reactid=\"42\">Volume</span></td><td class=\"Ta(end) Fw(600) Lh(14px)\" data-reactid=\"43\" data-test=\"TD_VOLUME-value\"><span class=\"Trsdu(0.3s) \" data-reactid=\"44\">34,437,042</span></td></tr><tr class=\"Bxz(bb) Bdbw(1px) Bdbs(s) Bdc($seperatorColor) H(36px) Bdbw(0)! \" data-reactid=\"45\"><td class=\"C($primaryColor) W(51%)\" data-reactid=\"46\"><span data-reactid=\"47\">Avg. Volume</span></td><td class=\"Ta(end) Fw(600) Lh(14px)\" data-reactid=\"48\" data-test=\"AVERAGE_VOLUME_3MONTH-value\"><span class=\"Trsdu(0.3s) \" data-reactid=\"49\">25,060,826</span></td></tr></tbody></table></div><div class=\"D(ib) W(1/2) Bxz(bb) Pstart(12px) Va(t) ie-7_D(i) ie-7_Pos(a) smartphone_D(b) smartphone_W(100%) smartphone_Pstart(0px) smartphone_BdB smartphone_Bdc($seperatorColor)\" data-reactid=\"50\" data-test=\"right-summary-table\"><table class=\"W(100%) M(0) Bdcl(c)\" data-reactid=\"51\"><tbody data-reactid=\"52\"><tr class=\"Bxz(bb) Bdbw(1px) Bdbs(s) Bdc($seperatorColor) H(36px) \" data-reactid=\"53\"><td class=\"C($primaryColor) W(51%)\" data-reactid=\"54\"><span data-reactid=\"55\">Market Cap</span></td><td class=\"Ta(end) Fw(600) Lh(14px)\" data-reactid=\"56\" data-test=\"MARKET_CAP-value\"><span class=\"Trsdu(0.3s) \" data-reactid=\"57\">1.2T</span></td></tr><tr class=\"Bxz(bb) Bdbw(1px) Bdbs(s) Bdc($seperatorColor) H(36px) \" data-reactid=\"58\"><td class=\"C($primaryColor) W(51%)\" data-reactid=\"59\"><span data-reactid=\"60\">Beta (5Y Monthly)</span></td><td class=\"Ta(end) Fw(600) Lh(14px)\" data-reactid=\"61\" data-test=\"BETA_5Y-value\"><span class=\"Trsdu(0.3s) \" data-reactid=\"62\">1.23</span></td></tr><tr class=\"Bxz(bb) Bdbw(1px) Bdbs(s) Bdc($seperatorColor) H(36px) \" data-reactid=\"63\"><td class=\"C($primaryColor) W(51%)\" data-reactid=\"64\"><span data-reactid=\"65\">PE Ratio (TTM)</span></td><td class=\"Ta(end) Fw(600) Lh(14px)\" data-reactid=\"66\" data-test=\"PE_RATIO-value\"><span class=\"Trsdu(0.3s) \" data-reactid=\"67\">22.83</span></td></tr><tr class=\"Bxz(bb) Bdbw(1px) Bdbs(s) Bdc($seperatorColor) H(36px) \" data-reactid=\"68\"><td class=\"C($primaryColor) W(51%)\" data-reactid=\"69\"><span data-reactid=\"70\">EPS (TTM)</span></td><td class=\"Ta(end) Fw(600) Lh(14px)\" data-reactid=\"71\" data-test=\"EPS_RATIO-value\"><span class=\"Trsdu(0.3s) \" data-reactid=\"72\">11.89</span></td></tr><tr class=\"Bxz(bb) Bdbw(1px) Bdbs(s) Bdc($seperatorColor) H(36px) \" data-reactid=\"73\"><td class=\"C($primaryColor) W(51%)\" data-reactid=\"74\"><span data-reactid=\"75\">Earnings Date</span></td><td class=\"Ta(end) Fw(600) Lh(14px)\" data-reactid=\"76\" data-test=\"EARNINGS_DATE-value\"><span data-reactid=\"77\">Jan 27, 2020</span><!-- react-text: 78 --> - <!-- /react-text --><span data-reactid=\"79\">Jan 31, 2020</span></td></tr><tr class=\"Bxz(bb) Bdbw(1px) Bdbs(s) Bdc($seperatorColor) H(36px) \" data-reactid=\"80\"><td class=\"C($primaryColor) W(51%)\" data-reactid=\"81\"><span data-reactid=\"82\">Forward Dividend &amp; Yield</span></td><td class=\"Ta(end) Fw(600) Lh(14px)\" data-reactid=\"83\" data-test=\"DIVIDEND_AND_YIELD-value\">3.08 (1.14%)</td></tr><tr class=\"Bxz(bb) Bdbw(1px) Bdbs(s) Bdc($seperatorColor) H(36px) \" data-reactid=\"84\"><td class=\"C($primaryColor) W(51%)\" data-reactid=\"85\"><span data-reactid=\"86\">Ex-Dividend Date</span></td><td class=\"Ta(end) Fw(600) Lh(14px)\" data-reactid=\"87\" data-test=\"EX_DIVIDEND_DATE-value\"><span class=\"Trsdu(0.3s) \" data-reactid=\"88\">2019-11-07</span></td></tr><tr class=\"Bxz(bb) Bdbw(1px) Bdbs(s) Bdc($seperatorColor) H(36px) Bdbw(0)! \" data-reactid=\"89\"><td class=\"C($primaryColor) W(51%)\" data-reactid=\"90\"><span data-reactid=\"91\">1y Target Est</span></td><td class=\"Ta(end) Fw(600) Lh(14px)\" data-reactid=\"92\" data-test=\"ONE_YEAR_TARGET_PRICE-value\"><span class=\"Trsdu(0.3s) \" data-reactid=\"93\">262.85</span></td></tr></tbody></table></div></div>"
            ]
          },
          "metadata": {
            "tags": []
          },
          "execution_count": 759
        }
      ]
    },
    {
      "cell_type": "code",
      "metadata": {
        "id": "iK_CSivMNc4o",
        "colab_type": "code",
        "outputId": "3e5c31bd-f4de-4209-e055-342e1e095603",
        "colab": {
          "base_uri": "https://localhost:8080/",
          "height": 34
        }
      },
      "source": [
        "# Find out what type of the object does the column data represent\n",
        "type(aapl_columns) # This data happents to be a tag!"
      ],
      "execution_count": 0,
      "outputs": [
        {
          "output_type": "execute_result",
          "data": {
            "text/plain": [
              "bs4.element.Tag"
            ]
          },
          "metadata": {
            "tags": []
          },
          "execution_count": 760
        }
      ]
    },
    {
      "cell_type": "markdown",
      "metadata": {
        "id": "vOqLndEMwLzG",
        "colab_type": "text"
      },
      "source": [
        "###Finding all of the data (labels and values) that are identified by a specific tag key (\"td\")"
      ]
    },
    {
      "cell_type": "code",
      "metadata": {
        "id": "fiv_X3prPc4s",
        "colab_type": "code",
        "outputId": "cc274489-8605-49c3-ae98-6594d3de2f11",
        "colab": {
          "base_uri": "https://localhost:8080/",
          "height": 581
        }
      },
      "source": [
        "aapl_columns.find_all('td')"
      ],
      "execution_count": 0,
      "outputs": [
        {
          "output_type": "execute_result",
          "data": {
            "text/plain": [
              "[<td class=\"C($primaryColor) W(51%)\" data-reactid=\"13\"><span data-reactid=\"14\">Previous Close</span></td>,\n",
              " <td class=\"Ta(end) Fw(600) Lh(14px)\" data-reactid=\"15\" data-test=\"PREV_CLOSE-value\"><span class=\"Trsdu(0.3s) \" data-reactid=\"16\">270.77</span></td>,\n",
              " <td class=\"C($primaryColor) W(51%)\" data-reactid=\"18\"><span data-reactid=\"19\">Open</span></td>,\n",
              " <td class=\"Ta(end) Fw(600) Lh(14px)\" data-reactid=\"20\" data-test=\"OPEN-value\"><span class=\"Trsdu(0.3s) \" data-reactid=\"21\">267.78</span></td>,\n",
              " <td class=\"C($primaryColor) W(51%)\" data-reactid=\"23\"><span data-reactid=\"24\">Bid</span></td>,\n",
              " <td class=\"Ta(end) Fw(600) Lh(14px)\" data-reactid=\"25\" data-test=\"BID-value\"><span class=\"Trsdu(0.3s) \" data-reactid=\"26\">272.65 x 1000</span></td>,\n",
              " <td class=\"C($primaryColor) W(51%)\" data-reactid=\"28\"><span data-reactid=\"29\">Ask</span></td>,\n",
              " <td class=\"Ta(end) Fw(600) Lh(14px)\" data-reactid=\"30\" data-test=\"ASK-value\"><span class=\"Trsdu(0.3s) \" data-reactid=\"31\">272.74 x 1300</span></td>,\n",
              " <td class=\"C($primaryColor) W(51%)\" data-reactid=\"33\"><span data-reactid=\"34\">Day's Range</span></td>,\n",
              " <td class=\"Ta(end) Fw(600) Lh(14px)\" data-reactid=\"35\" data-test=\"DAYS_RANGE-value\">267.32 - 272.55</td>,\n",
              " <td class=\"C($primaryColor) W(51%)\" data-reactid=\"37\"><span data-reactid=\"38\">52 Week Range</span></td>,\n",
              " <td class=\"Ta(end) Fw(600) Lh(14px)\" data-reactid=\"39\" data-test=\"FIFTY_TWO_WK_RANGE-value\">142.00 - 272.56</td>,\n",
              " <td class=\"C($primaryColor) W(51%)\" data-reactid=\"41\"><span data-reactid=\"42\">Volume</span></td>,\n",
              " <td class=\"Ta(end) Fw(600) Lh(14px)\" data-reactid=\"43\" data-test=\"TD_VOLUME-value\"><span class=\"Trsdu(0.3s) \" data-reactid=\"44\">34,437,042</span></td>,\n",
              " <td class=\"C($primaryColor) W(51%)\" data-reactid=\"46\"><span data-reactid=\"47\">Avg. Volume</span></td>,\n",
              " <td class=\"Ta(end) Fw(600) Lh(14px)\" data-reactid=\"48\" data-test=\"AVERAGE_VOLUME_3MONTH-value\"><span class=\"Trsdu(0.3s) \" data-reactid=\"49\">25,060,826</span></td>,\n",
              " <td class=\"C($primaryColor) W(51%)\" data-reactid=\"54\"><span data-reactid=\"55\">Market Cap</span></td>,\n",
              " <td class=\"Ta(end) Fw(600) Lh(14px)\" data-reactid=\"56\" data-test=\"MARKET_CAP-value\"><span class=\"Trsdu(0.3s) \" data-reactid=\"57\">1.2T</span></td>,\n",
              " <td class=\"C($primaryColor) W(51%)\" data-reactid=\"59\"><span data-reactid=\"60\">Beta (5Y Monthly)</span></td>,\n",
              " <td class=\"Ta(end) Fw(600) Lh(14px)\" data-reactid=\"61\" data-test=\"BETA_5Y-value\"><span class=\"Trsdu(0.3s) \" data-reactid=\"62\">1.23</span></td>,\n",
              " <td class=\"C($primaryColor) W(51%)\" data-reactid=\"64\"><span data-reactid=\"65\">PE Ratio (TTM)</span></td>,\n",
              " <td class=\"Ta(end) Fw(600) Lh(14px)\" data-reactid=\"66\" data-test=\"PE_RATIO-value\"><span class=\"Trsdu(0.3s) \" data-reactid=\"67\">22.83</span></td>,\n",
              " <td class=\"C($primaryColor) W(51%)\" data-reactid=\"69\"><span data-reactid=\"70\">EPS (TTM)</span></td>,\n",
              " <td class=\"Ta(end) Fw(600) Lh(14px)\" data-reactid=\"71\" data-test=\"EPS_RATIO-value\"><span class=\"Trsdu(0.3s) \" data-reactid=\"72\">11.89</span></td>,\n",
              " <td class=\"C($primaryColor) W(51%)\" data-reactid=\"74\"><span data-reactid=\"75\">Earnings Date</span></td>,\n",
              " <td class=\"Ta(end) Fw(600) Lh(14px)\" data-reactid=\"76\" data-test=\"EARNINGS_DATE-value\"><span data-reactid=\"77\">Jan 27, 2020</span><!-- react-text: 78 --> - <!-- /react-text --><span data-reactid=\"79\">Jan 31, 2020</span></td>,\n",
              " <td class=\"C($primaryColor) W(51%)\" data-reactid=\"81\"><span data-reactid=\"82\">Forward Dividend &amp; Yield</span></td>,\n",
              " <td class=\"Ta(end) Fw(600) Lh(14px)\" data-reactid=\"83\" data-test=\"DIVIDEND_AND_YIELD-value\">3.08 (1.14%)</td>,\n",
              " <td class=\"C($primaryColor) W(51%)\" data-reactid=\"85\"><span data-reactid=\"86\">Ex-Dividend Date</span></td>,\n",
              " <td class=\"Ta(end) Fw(600) Lh(14px)\" data-reactid=\"87\" data-test=\"EX_DIVIDEND_DATE-value\"><span class=\"Trsdu(0.3s) \" data-reactid=\"88\">2019-11-07</span></td>,\n",
              " <td class=\"C($primaryColor) W(51%)\" data-reactid=\"90\"><span data-reactid=\"91\">1y Target Est</span></td>,\n",
              " <td class=\"Ta(end) Fw(600) Lh(14px)\" data-reactid=\"92\" data-test=\"ONE_YEAR_TARGET_PRICE-value\"><span class=\"Trsdu(0.3s) \" data-reactid=\"93\">262.85</span></td>]"
            ]
          },
          "metadata": {
            "tags": []
          },
          "execution_count": 761
        }
      ]
    },
    {
      "cell_type": "markdown",
      "metadata": {
        "id": "1k_TKv5Hw1hA",
        "colab_type": "text"
      },
      "source": [
        "###Stock data values is identified by the tag key: \"Ta(end) Fw(600) Lh(14px)\""
      ]
    },
    {
      "cell_type": "code",
      "metadata": {
        "id": "U-3SVorNPpxa",
        "colab_type": "code",
        "colab": {}
      },
      "source": [
        "# Convert the data values into text and put them into a list\n",
        "aapl_values = [v.text for v in aapl_columns.find_all('td', attrs={'class':\"Ta(end) Fw(600) Lh(14px)\"})]"
      ],
      "execution_count": 0,
      "outputs": []
    },
    {
      "cell_type": "code",
      "metadata": {
        "id": "XOX2UbTjQgUH",
        "colab_type": "code",
        "outputId": "600924da-0ac5-425e-bbf7-109747894df7",
        "colab": {
          "base_uri": "https://localhost:8080/",
          "height": 289
        }
      },
      "source": [
        "aapl_values"
      ],
      "execution_count": 0,
      "outputs": [
        {
          "output_type": "execute_result",
          "data": {
            "text/plain": [
              "['270.77',\n",
              " '267.78',\n",
              " '272.65 x 1000',\n",
              " '272.74 x 1300',\n",
              " '267.32 - 272.55',\n",
              " '142.00 - 272.56',\n",
              " '34,437,042',\n",
              " '25,060,826',\n",
              " '1.2T',\n",
              " '1.23',\n",
              " '22.83',\n",
              " '11.89',\n",
              " 'Jan 27, 2020 - Jan 31, 2020',\n",
              " '3.08 (1.14%)',\n",
              " '2019-11-07',\n",
              " '262.85']"
            ]
          },
          "metadata": {
            "tags": []
          },
          "execution_count": 763
        }
      ]
    },
    {
      "cell_type": "markdown",
      "metadata": {
        "id": "4R6raoYKxGCQ",
        "colab_type": "text"
      },
      "source": [
        "##Now we must find the appropriate column names (labels) corresponding to each value we need"
      ]
    },
    {
      "cell_type": "markdown",
      "metadata": {
        "id": "6OaK7YwyxjHh",
        "colab_type": "text"
      },
      "source": [
        "###These are our stock data values tags\n",
        "\n"
      ]
    },
    {
      "cell_type": "code",
      "metadata": {
        "id": "ndnsx_CXSFnB",
        "colab_type": "code",
        "outputId": "b54a26a7-f7fd-4ee0-9d50-65d8347aacb0",
        "colab": {
          "base_uri": "https://localhost:8080/",
          "height": 309
        }
      },
      "source": [
        "[l for l in aapl_columns.find_all('td', attrs={'class':\"Ta(end) Fw(600) Lh(14px)\"})]"
      ],
      "execution_count": 0,
      "outputs": [
        {
          "output_type": "execute_result",
          "data": {
            "text/plain": [
              "[<td class=\"Ta(end) Fw(600) Lh(14px)\" data-reactid=\"15\" data-test=\"PREV_CLOSE-value\"><span class=\"Trsdu(0.3s) \" data-reactid=\"16\">270.77</span></td>,\n",
              " <td class=\"Ta(end) Fw(600) Lh(14px)\" data-reactid=\"20\" data-test=\"OPEN-value\"><span class=\"Trsdu(0.3s) \" data-reactid=\"21\">267.78</span></td>,\n",
              " <td class=\"Ta(end) Fw(600) Lh(14px)\" data-reactid=\"25\" data-test=\"BID-value\"><span class=\"Trsdu(0.3s) \" data-reactid=\"26\">272.65 x 1000</span></td>,\n",
              " <td class=\"Ta(end) Fw(600) Lh(14px)\" data-reactid=\"30\" data-test=\"ASK-value\"><span class=\"Trsdu(0.3s) \" data-reactid=\"31\">272.74 x 1300</span></td>,\n",
              " <td class=\"Ta(end) Fw(600) Lh(14px)\" data-reactid=\"35\" data-test=\"DAYS_RANGE-value\">267.32 - 272.55</td>,\n",
              " <td class=\"Ta(end) Fw(600) Lh(14px)\" data-reactid=\"39\" data-test=\"FIFTY_TWO_WK_RANGE-value\">142.00 - 272.56</td>,\n",
              " <td class=\"Ta(end) Fw(600) Lh(14px)\" data-reactid=\"43\" data-test=\"TD_VOLUME-value\"><span class=\"Trsdu(0.3s) \" data-reactid=\"44\">34,437,042</span></td>,\n",
              " <td class=\"Ta(end) Fw(600) Lh(14px)\" data-reactid=\"48\" data-test=\"AVERAGE_VOLUME_3MONTH-value\"><span class=\"Trsdu(0.3s) \" data-reactid=\"49\">25,060,826</span></td>,\n",
              " <td class=\"Ta(end) Fw(600) Lh(14px)\" data-reactid=\"56\" data-test=\"MARKET_CAP-value\"><span class=\"Trsdu(0.3s) \" data-reactid=\"57\">1.2T</span></td>,\n",
              " <td class=\"Ta(end) Fw(600) Lh(14px)\" data-reactid=\"61\" data-test=\"BETA_5Y-value\"><span class=\"Trsdu(0.3s) \" data-reactid=\"62\">1.23</span></td>,\n",
              " <td class=\"Ta(end) Fw(600) Lh(14px)\" data-reactid=\"66\" data-test=\"PE_RATIO-value\"><span class=\"Trsdu(0.3s) \" data-reactid=\"67\">22.83</span></td>,\n",
              " <td class=\"Ta(end) Fw(600) Lh(14px)\" data-reactid=\"71\" data-test=\"EPS_RATIO-value\"><span class=\"Trsdu(0.3s) \" data-reactid=\"72\">11.89</span></td>,\n",
              " <td class=\"Ta(end) Fw(600) Lh(14px)\" data-reactid=\"76\" data-test=\"EARNINGS_DATE-value\"><span data-reactid=\"77\">Jan 27, 2020</span><!-- react-text: 78 --> - <!-- /react-text --><span data-reactid=\"79\">Jan 31, 2020</span></td>,\n",
              " <td class=\"Ta(end) Fw(600) Lh(14px)\" data-reactid=\"83\" data-test=\"DIVIDEND_AND_YIELD-value\">3.08 (1.14%)</td>,\n",
              " <td class=\"Ta(end) Fw(600) Lh(14px)\" data-reactid=\"87\" data-test=\"EX_DIVIDEND_DATE-value\"><span class=\"Trsdu(0.3s) \" data-reactid=\"88\">2019-11-07</span></td>,\n",
              " <td class=\"Ta(end) Fw(600) Lh(14px)\" data-reactid=\"92\" data-test=\"ONE_YEAR_TARGET_PRICE-value\"><span class=\"Trsdu(0.3s) \" data-reactid=\"93\">262.85</span></td>]"
            ]
          },
          "metadata": {
            "tags": []
          },
          "execution_count": 764
        }
      ]
    },
    {
      "cell_type": "markdown",
      "metadata": {
        "id": "AwdBk9mDx1BN",
        "colab_type": "text"
      },
      "source": [
        "###These are our stock data column tags!\n",
        "* This is found by looking at the list of data containing labels and values and picking out the tags from the entire list of relevant tags that are not tags that represent our data values, but instead refer to our labels."
      ]
    },
    {
      "cell_type": "code",
      "metadata": {
        "id": "Ogd28JxuXFqq",
        "colab_type": "code",
        "outputId": "9875bcfa-c8f4-4e3b-da90-898cd450bf00",
        "colab": {
          "base_uri": "https://localhost:8080/",
          "height": 289
        }
      },
      "source": [
        "[l for l in aapl_columns.find_all('td') if l not in aapl_columns.find_all('td', attrs={'class':\"Ta(end) Fw(600) Lh(14px)\"})]"
      ],
      "execution_count": 0,
      "outputs": [
        {
          "output_type": "execute_result",
          "data": {
            "text/plain": [
              "[<td class=\"C($primaryColor) W(51%)\" data-reactid=\"13\"><span data-reactid=\"14\">Previous Close</span></td>,\n",
              " <td class=\"C($primaryColor) W(51%)\" data-reactid=\"18\"><span data-reactid=\"19\">Open</span></td>,\n",
              " <td class=\"C($primaryColor) W(51%)\" data-reactid=\"23\"><span data-reactid=\"24\">Bid</span></td>,\n",
              " <td class=\"C($primaryColor) W(51%)\" data-reactid=\"28\"><span data-reactid=\"29\">Ask</span></td>,\n",
              " <td class=\"C($primaryColor) W(51%)\" data-reactid=\"33\"><span data-reactid=\"34\">Day's Range</span></td>,\n",
              " <td class=\"C($primaryColor) W(51%)\" data-reactid=\"37\"><span data-reactid=\"38\">52 Week Range</span></td>,\n",
              " <td class=\"C($primaryColor) W(51%)\" data-reactid=\"41\"><span data-reactid=\"42\">Volume</span></td>,\n",
              " <td class=\"C($primaryColor) W(51%)\" data-reactid=\"46\"><span data-reactid=\"47\">Avg. Volume</span></td>,\n",
              " <td class=\"C($primaryColor) W(51%)\" data-reactid=\"54\"><span data-reactid=\"55\">Market Cap</span></td>,\n",
              " <td class=\"C($primaryColor) W(51%)\" data-reactid=\"59\"><span data-reactid=\"60\">Beta (5Y Monthly)</span></td>,\n",
              " <td class=\"C($primaryColor) W(51%)\" data-reactid=\"64\"><span data-reactid=\"65\">PE Ratio (TTM)</span></td>,\n",
              " <td class=\"C($primaryColor) W(51%)\" data-reactid=\"69\"><span data-reactid=\"70\">EPS (TTM)</span></td>,\n",
              " <td class=\"C($primaryColor) W(51%)\" data-reactid=\"74\"><span data-reactid=\"75\">Earnings Date</span></td>,\n",
              " <td class=\"C($primaryColor) W(51%)\" data-reactid=\"81\"><span data-reactid=\"82\">Forward Dividend &amp; Yield</span></td>,\n",
              " <td class=\"C($primaryColor) W(51%)\" data-reactid=\"85\"><span data-reactid=\"86\">Ex-Dividend Date</span></td>,\n",
              " <td class=\"C($primaryColor) W(51%)\" data-reactid=\"90\"><span data-reactid=\"91\">1y Target Est</span></td>]"
            ]
          },
          "metadata": {
            "tags": []
          },
          "execution_count": 765
        }
      ]
    },
    {
      "cell_type": "code",
      "metadata": {
        "id": "iiNmrWRiYj3E",
        "colab_type": "code",
        "colab": {}
      },
      "source": [
        "aapl_labels = [l for l in aapl_columns.find_all('td') if l not in aapl_columns.find_all('td', attrs={'class':\"Ta(end) Fw(600) Lh(14px)\"})]"
      ],
      "execution_count": 0,
      "outputs": []
    },
    {
      "cell_type": "code",
      "metadata": {
        "id": "CwIXYA8wYzGx",
        "colab_type": "code",
        "colab": {}
      },
      "source": [
        "# Convert the labels into text and put them into a list.\n",
        "aapl_labels = [l.text for l in aapl_labels]"
      ],
      "execution_count": 0,
      "outputs": []
    },
    {
      "cell_type": "markdown",
      "metadata": {
        "id": "UcOpxAuByIpS",
        "colab_type": "text"
      },
      "source": [
        "###Here are our column names!"
      ]
    },
    {
      "cell_type": "code",
      "metadata": {
        "id": "HIy38J8zY-il",
        "colab_type": "code",
        "outputId": "fc5758d9-cd7a-4e9d-bb28-7c38266fc48a",
        "colab": {
          "base_uri": "https://localhost:8080/",
          "height": 289
        }
      },
      "source": [
        "aapl_labels"
      ],
      "execution_count": 0,
      "outputs": [
        {
          "output_type": "execute_result",
          "data": {
            "text/plain": [
              "['Previous Close',\n",
              " 'Open',\n",
              " 'Bid',\n",
              " 'Ask',\n",
              " \"Day's Range\",\n",
              " '52 Week Range',\n",
              " 'Volume',\n",
              " 'Avg. Volume',\n",
              " 'Market Cap',\n",
              " 'Beta (5Y Monthly)',\n",
              " 'PE Ratio (TTM)',\n",
              " 'EPS (TTM)',\n",
              " 'Earnings Date',\n",
              " 'Forward Dividend & Yield',\n",
              " 'Ex-Dividend Date',\n",
              " '1y Target Est']"
            ]
          },
          "metadata": {
            "tags": []
          },
          "execution_count": 768
        }
      ]
    },
    {
      "cell_type": "markdown",
      "metadata": {
        "id": "2eHroGoxyS_6",
        "colab_type": "text"
      },
      "source": [
        "###Here are our column values!"
      ]
    },
    {
      "cell_type": "code",
      "metadata": {
        "id": "9NgtZzR5frwD",
        "colab_type": "code",
        "outputId": "775c3de1-002f-4668-b038-3c2e16c01196",
        "colab": {
          "base_uri": "https://localhost:8080/",
          "height": 289
        }
      },
      "source": [
        "aapl_values"
      ],
      "execution_count": 0,
      "outputs": [
        {
          "output_type": "execute_result",
          "data": {
            "text/plain": [
              "['270.77',\n",
              " '267.78',\n",
              " '272.65 x 1000',\n",
              " '272.74 x 1300',\n",
              " '267.32 - 272.55',\n",
              " '142.00 - 272.56',\n",
              " '34,437,042',\n",
              " '25,060,826',\n",
              " '1.2T',\n",
              " '1.23',\n",
              " '22.83',\n",
              " '11.89',\n",
              " 'Jan 27, 2020 - Jan 31, 2020',\n",
              " '3.08 (1.14%)',\n",
              " '2019-11-07',\n",
              " '262.85']"
            ]
          },
          "metadata": {
            "tags": []
          },
          "execution_count": 769
        }
      ]
    },
    {
      "cell_type": "markdown",
      "metadata": {
        "id": "zk473mRRyWOD",
        "colab_type": "text"
      },
      "source": [
        "##Now, we make a preliminary dataframe base given we have our labels and values"
      ]
    },
    {
      "cell_type": "code",
      "metadata": {
        "id": "eqSxADNdZDRs",
        "colab_type": "code",
        "colab": {}
      },
      "source": [
        "aapl_df = pd.DataFrame({'labels': aapl_labels, 'values':aapl_values})\n"
      ],
      "execution_count": 0,
      "outputs": []
    },
    {
      "cell_type": "markdown",
      "metadata": {
        "id": "ifbVwN6Iy4U8",
        "colab_type": "text"
      },
      "source": [
        "### Now, we can make another dataframe so that has the same content as the preliminary datatframe but clean this second dataframe wihout worrying about messing anything up."
      ]
    },
    {
      "cell_type": "code",
      "metadata": {
        "id": "zMFIeVixbaXo",
        "colab_type": "code",
        "colab": {}
      },
      "source": [
        "aapl_df1 = aapl_df\n",
        "for l in range(len(aapl_labels)): # For every label\n",
        "  # Make a column that contains the value corresponding to that column\n",
        "  aapl_df1[aapl_labels[l]] = aapl_values[l] "
      ],
      "execution_count": 0,
      "outputs": []
    },
    {
      "cell_type": "code",
      "metadata": {
        "id": "qVx49B3ves3r",
        "colab_type": "code",
        "outputId": "599f1891-6baf-4258-a500-ecf69cb95810",
        "colab": {
          "base_uri": "https://localhost:8080/",
          "height": 1000
        }
      },
      "source": [
        "# Now, we can drop the 'labels' and 'values' columns.\n",
        "aapl_df1 = aapl_df1.drop(['labels', 'values'], axis = 1)\n",
        "# Return our uncleaned dataframe\n",
        "# Note: we have too many rows so we must take care of this in the next few steps\n",
        "aapl_df1"
      ],
      "execution_count": 0,
      "outputs": [
        {
          "output_type": "execute_result",
          "data": {
            "text/html": [
              "<div>\n",
              "<style scoped>\n",
              "    .dataframe tbody tr th:only-of-type {\n",
              "        vertical-align: middle;\n",
              "    }\n",
              "\n",
              "    .dataframe tbody tr th {\n",
              "        vertical-align: top;\n",
              "    }\n",
              "\n",
              "    .dataframe thead th {\n",
              "        text-align: right;\n",
              "    }\n",
              "</style>\n",
              "<table border=\"1\" class=\"dataframe\">\n",
              "  <thead>\n",
              "    <tr style=\"text-align: right;\">\n",
              "      <th></th>\n",
              "      <th>Previous Close</th>\n",
              "      <th>Open</th>\n",
              "      <th>Bid</th>\n",
              "      <th>Ask</th>\n",
              "      <th>Day's Range</th>\n",
              "      <th>52 Week Range</th>\n",
              "      <th>Volume</th>\n",
              "      <th>Avg. Volume</th>\n",
              "      <th>Market Cap</th>\n",
              "      <th>Beta (5Y Monthly)</th>\n",
              "      <th>PE Ratio (TTM)</th>\n",
              "      <th>EPS (TTM)</th>\n",
              "      <th>Earnings Date</th>\n",
              "      <th>Forward Dividend &amp; Yield</th>\n",
              "      <th>Ex-Dividend Date</th>\n",
              "      <th>1y Target Est</th>\n",
              "    </tr>\n",
              "  </thead>\n",
              "  <tbody>\n",
              "    <tr>\n",
              "      <th>0</th>\n",
              "      <td>270.77</td>\n",
              "      <td>267.78</td>\n",
              "      <td>272.65 x 1000</td>\n",
              "      <td>272.74 x 1300</td>\n",
              "      <td>267.32 - 272.55</td>\n",
              "      <td>142.00 - 272.56</td>\n",
              "      <td>34,437,042</td>\n",
              "      <td>25,060,826</td>\n",
              "      <td>1.2T</td>\n",
              "      <td>1.23</td>\n",
              "      <td>22.83</td>\n",
              "      <td>11.89</td>\n",
              "      <td>Jan 27, 2020 - Jan 31, 2020</td>\n",
              "      <td>3.08 (1.14%)</td>\n",
              "      <td>2019-11-07</td>\n",
              "      <td>262.85</td>\n",
              "    </tr>\n",
              "    <tr>\n",
              "      <th>1</th>\n",
              "      <td>270.77</td>\n",
              "      <td>267.78</td>\n",
              "      <td>272.65 x 1000</td>\n",
              "      <td>272.74 x 1300</td>\n",
              "      <td>267.32 - 272.55</td>\n",
              "      <td>142.00 - 272.56</td>\n",
              "      <td>34,437,042</td>\n",
              "      <td>25,060,826</td>\n",
              "      <td>1.2T</td>\n",
              "      <td>1.23</td>\n",
              "      <td>22.83</td>\n",
              "      <td>11.89</td>\n",
              "      <td>Jan 27, 2020 - Jan 31, 2020</td>\n",
              "      <td>3.08 (1.14%)</td>\n",
              "      <td>2019-11-07</td>\n",
              "      <td>262.85</td>\n",
              "    </tr>\n",
              "    <tr>\n",
              "      <th>2</th>\n",
              "      <td>270.77</td>\n",
              "      <td>267.78</td>\n",
              "      <td>272.65 x 1000</td>\n",
              "      <td>272.74 x 1300</td>\n",
              "      <td>267.32 - 272.55</td>\n",
              "      <td>142.00 - 272.56</td>\n",
              "      <td>34,437,042</td>\n",
              "      <td>25,060,826</td>\n",
              "      <td>1.2T</td>\n",
              "      <td>1.23</td>\n",
              "      <td>22.83</td>\n",
              "      <td>11.89</td>\n",
              "      <td>Jan 27, 2020 - Jan 31, 2020</td>\n",
              "      <td>3.08 (1.14%)</td>\n",
              "      <td>2019-11-07</td>\n",
              "      <td>262.85</td>\n",
              "    </tr>\n",
              "    <tr>\n",
              "      <th>3</th>\n",
              "      <td>270.77</td>\n",
              "      <td>267.78</td>\n",
              "      <td>272.65 x 1000</td>\n",
              "      <td>272.74 x 1300</td>\n",
              "      <td>267.32 - 272.55</td>\n",
              "      <td>142.00 - 272.56</td>\n",
              "      <td>34,437,042</td>\n",
              "      <td>25,060,826</td>\n",
              "      <td>1.2T</td>\n",
              "      <td>1.23</td>\n",
              "      <td>22.83</td>\n",
              "      <td>11.89</td>\n",
              "      <td>Jan 27, 2020 - Jan 31, 2020</td>\n",
              "      <td>3.08 (1.14%)</td>\n",
              "      <td>2019-11-07</td>\n",
              "      <td>262.85</td>\n",
              "    </tr>\n",
              "    <tr>\n",
              "      <th>4</th>\n",
              "      <td>270.77</td>\n",
              "      <td>267.78</td>\n",
              "      <td>272.65 x 1000</td>\n",
              "      <td>272.74 x 1300</td>\n",
              "      <td>267.32 - 272.55</td>\n",
              "      <td>142.00 - 272.56</td>\n",
              "      <td>34,437,042</td>\n",
              "      <td>25,060,826</td>\n",
              "      <td>1.2T</td>\n",
              "      <td>1.23</td>\n",
              "      <td>22.83</td>\n",
              "      <td>11.89</td>\n",
              "      <td>Jan 27, 2020 - Jan 31, 2020</td>\n",
              "      <td>3.08 (1.14%)</td>\n",
              "      <td>2019-11-07</td>\n",
              "      <td>262.85</td>\n",
              "    </tr>\n",
              "    <tr>\n",
              "      <th>5</th>\n",
              "      <td>270.77</td>\n",
              "      <td>267.78</td>\n",
              "      <td>272.65 x 1000</td>\n",
              "      <td>272.74 x 1300</td>\n",
              "      <td>267.32 - 272.55</td>\n",
              "      <td>142.00 - 272.56</td>\n",
              "      <td>34,437,042</td>\n",
              "      <td>25,060,826</td>\n",
              "      <td>1.2T</td>\n",
              "      <td>1.23</td>\n",
              "      <td>22.83</td>\n",
              "      <td>11.89</td>\n",
              "      <td>Jan 27, 2020 - Jan 31, 2020</td>\n",
              "      <td>3.08 (1.14%)</td>\n",
              "      <td>2019-11-07</td>\n",
              "      <td>262.85</td>\n",
              "    </tr>\n",
              "    <tr>\n",
              "      <th>6</th>\n",
              "      <td>270.77</td>\n",
              "      <td>267.78</td>\n",
              "      <td>272.65 x 1000</td>\n",
              "      <td>272.74 x 1300</td>\n",
              "      <td>267.32 - 272.55</td>\n",
              "      <td>142.00 - 272.56</td>\n",
              "      <td>34,437,042</td>\n",
              "      <td>25,060,826</td>\n",
              "      <td>1.2T</td>\n",
              "      <td>1.23</td>\n",
              "      <td>22.83</td>\n",
              "      <td>11.89</td>\n",
              "      <td>Jan 27, 2020 - Jan 31, 2020</td>\n",
              "      <td>3.08 (1.14%)</td>\n",
              "      <td>2019-11-07</td>\n",
              "      <td>262.85</td>\n",
              "    </tr>\n",
              "    <tr>\n",
              "      <th>7</th>\n",
              "      <td>270.77</td>\n",
              "      <td>267.78</td>\n",
              "      <td>272.65 x 1000</td>\n",
              "      <td>272.74 x 1300</td>\n",
              "      <td>267.32 - 272.55</td>\n",
              "      <td>142.00 - 272.56</td>\n",
              "      <td>34,437,042</td>\n",
              "      <td>25,060,826</td>\n",
              "      <td>1.2T</td>\n",
              "      <td>1.23</td>\n",
              "      <td>22.83</td>\n",
              "      <td>11.89</td>\n",
              "      <td>Jan 27, 2020 - Jan 31, 2020</td>\n",
              "      <td>3.08 (1.14%)</td>\n",
              "      <td>2019-11-07</td>\n",
              "      <td>262.85</td>\n",
              "    </tr>\n",
              "    <tr>\n",
              "      <th>8</th>\n",
              "      <td>270.77</td>\n",
              "      <td>267.78</td>\n",
              "      <td>272.65 x 1000</td>\n",
              "      <td>272.74 x 1300</td>\n",
              "      <td>267.32 - 272.55</td>\n",
              "      <td>142.00 - 272.56</td>\n",
              "      <td>34,437,042</td>\n",
              "      <td>25,060,826</td>\n",
              "      <td>1.2T</td>\n",
              "      <td>1.23</td>\n",
              "      <td>22.83</td>\n",
              "      <td>11.89</td>\n",
              "      <td>Jan 27, 2020 - Jan 31, 2020</td>\n",
              "      <td>3.08 (1.14%)</td>\n",
              "      <td>2019-11-07</td>\n",
              "      <td>262.85</td>\n",
              "    </tr>\n",
              "    <tr>\n",
              "      <th>9</th>\n",
              "      <td>270.77</td>\n",
              "      <td>267.78</td>\n",
              "      <td>272.65 x 1000</td>\n",
              "      <td>272.74 x 1300</td>\n",
              "      <td>267.32 - 272.55</td>\n",
              "      <td>142.00 - 272.56</td>\n",
              "      <td>34,437,042</td>\n",
              "      <td>25,060,826</td>\n",
              "      <td>1.2T</td>\n",
              "      <td>1.23</td>\n",
              "      <td>22.83</td>\n",
              "      <td>11.89</td>\n",
              "      <td>Jan 27, 2020 - Jan 31, 2020</td>\n",
              "      <td>3.08 (1.14%)</td>\n",
              "      <td>2019-11-07</td>\n",
              "      <td>262.85</td>\n",
              "    </tr>\n",
              "    <tr>\n",
              "      <th>10</th>\n",
              "      <td>270.77</td>\n",
              "      <td>267.78</td>\n",
              "      <td>272.65 x 1000</td>\n",
              "      <td>272.74 x 1300</td>\n",
              "      <td>267.32 - 272.55</td>\n",
              "      <td>142.00 - 272.56</td>\n",
              "      <td>34,437,042</td>\n",
              "      <td>25,060,826</td>\n",
              "      <td>1.2T</td>\n",
              "      <td>1.23</td>\n",
              "      <td>22.83</td>\n",
              "      <td>11.89</td>\n",
              "      <td>Jan 27, 2020 - Jan 31, 2020</td>\n",
              "      <td>3.08 (1.14%)</td>\n",
              "      <td>2019-11-07</td>\n",
              "      <td>262.85</td>\n",
              "    </tr>\n",
              "    <tr>\n",
              "      <th>11</th>\n",
              "      <td>270.77</td>\n",
              "      <td>267.78</td>\n",
              "      <td>272.65 x 1000</td>\n",
              "      <td>272.74 x 1300</td>\n",
              "      <td>267.32 - 272.55</td>\n",
              "      <td>142.00 - 272.56</td>\n",
              "      <td>34,437,042</td>\n",
              "      <td>25,060,826</td>\n",
              "      <td>1.2T</td>\n",
              "      <td>1.23</td>\n",
              "      <td>22.83</td>\n",
              "      <td>11.89</td>\n",
              "      <td>Jan 27, 2020 - Jan 31, 2020</td>\n",
              "      <td>3.08 (1.14%)</td>\n",
              "      <td>2019-11-07</td>\n",
              "      <td>262.85</td>\n",
              "    </tr>\n",
              "    <tr>\n",
              "      <th>12</th>\n",
              "      <td>270.77</td>\n",
              "      <td>267.78</td>\n",
              "      <td>272.65 x 1000</td>\n",
              "      <td>272.74 x 1300</td>\n",
              "      <td>267.32 - 272.55</td>\n",
              "      <td>142.00 - 272.56</td>\n",
              "      <td>34,437,042</td>\n",
              "      <td>25,060,826</td>\n",
              "      <td>1.2T</td>\n",
              "      <td>1.23</td>\n",
              "      <td>22.83</td>\n",
              "      <td>11.89</td>\n",
              "      <td>Jan 27, 2020 - Jan 31, 2020</td>\n",
              "      <td>3.08 (1.14%)</td>\n",
              "      <td>2019-11-07</td>\n",
              "      <td>262.85</td>\n",
              "    </tr>\n",
              "    <tr>\n",
              "      <th>13</th>\n",
              "      <td>270.77</td>\n",
              "      <td>267.78</td>\n",
              "      <td>272.65 x 1000</td>\n",
              "      <td>272.74 x 1300</td>\n",
              "      <td>267.32 - 272.55</td>\n",
              "      <td>142.00 - 272.56</td>\n",
              "      <td>34,437,042</td>\n",
              "      <td>25,060,826</td>\n",
              "      <td>1.2T</td>\n",
              "      <td>1.23</td>\n",
              "      <td>22.83</td>\n",
              "      <td>11.89</td>\n",
              "      <td>Jan 27, 2020 - Jan 31, 2020</td>\n",
              "      <td>3.08 (1.14%)</td>\n",
              "      <td>2019-11-07</td>\n",
              "      <td>262.85</td>\n",
              "    </tr>\n",
              "    <tr>\n",
              "      <th>14</th>\n",
              "      <td>270.77</td>\n",
              "      <td>267.78</td>\n",
              "      <td>272.65 x 1000</td>\n",
              "      <td>272.74 x 1300</td>\n",
              "      <td>267.32 - 272.55</td>\n",
              "      <td>142.00 - 272.56</td>\n",
              "      <td>34,437,042</td>\n",
              "      <td>25,060,826</td>\n",
              "      <td>1.2T</td>\n",
              "      <td>1.23</td>\n",
              "      <td>22.83</td>\n",
              "      <td>11.89</td>\n",
              "      <td>Jan 27, 2020 - Jan 31, 2020</td>\n",
              "      <td>3.08 (1.14%)</td>\n",
              "      <td>2019-11-07</td>\n",
              "      <td>262.85</td>\n",
              "    </tr>\n",
              "    <tr>\n",
              "      <th>15</th>\n",
              "      <td>270.77</td>\n",
              "      <td>267.78</td>\n",
              "      <td>272.65 x 1000</td>\n",
              "      <td>272.74 x 1300</td>\n",
              "      <td>267.32 - 272.55</td>\n",
              "      <td>142.00 - 272.56</td>\n",
              "      <td>34,437,042</td>\n",
              "      <td>25,060,826</td>\n",
              "      <td>1.2T</td>\n",
              "      <td>1.23</td>\n",
              "      <td>22.83</td>\n",
              "      <td>11.89</td>\n",
              "      <td>Jan 27, 2020 - Jan 31, 2020</td>\n",
              "      <td>3.08 (1.14%)</td>\n",
              "      <td>2019-11-07</td>\n",
              "      <td>262.85</td>\n",
              "    </tr>\n",
              "  </tbody>\n",
              "</table>\n",
              "</div>"
            ],
            "text/plain": [
              "   Previous Close    Open  ... Ex-Dividend Date 1y Target Est\n",
              "0          270.77  267.78  ...       2019-11-07        262.85\n",
              "1          270.77  267.78  ...       2019-11-07        262.85\n",
              "2          270.77  267.78  ...       2019-11-07        262.85\n",
              "3          270.77  267.78  ...       2019-11-07        262.85\n",
              "4          270.77  267.78  ...       2019-11-07        262.85\n",
              "5          270.77  267.78  ...       2019-11-07        262.85\n",
              "6          270.77  267.78  ...       2019-11-07        262.85\n",
              "7          270.77  267.78  ...       2019-11-07        262.85\n",
              "8          270.77  267.78  ...       2019-11-07        262.85\n",
              "9          270.77  267.78  ...       2019-11-07        262.85\n",
              "10         270.77  267.78  ...       2019-11-07        262.85\n",
              "11         270.77  267.78  ...       2019-11-07        262.85\n",
              "12         270.77  267.78  ...       2019-11-07        262.85\n",
              "13         270.77  267.78  ...       2019-11-07        262.85\n",
              "14         270.77  267.78  ...       2019-11-07        262.85\n",
              "15         270.77  267.78  ...       2019-11-07        262.85\n",
              "\n",
              "[16 rows x 16 columns]"
            ]
          },
          "metadata": {
            "tags": []
          },
          "execution_count": 772
        }
      ]
    },
    {
      "cell_type": "code",
      "metadata": {
        "id": "f6L83RNSEH8n",
        "colab_type": "code",
        "colab": {}
      },
      "source": [
        "# The url section that every request has in common can possibly be a good index for merging.\n",
        "aapl_df1['url_b4_ticker'] = 'https://finance.yahoo.com/quote/'"
      ],
      "execution_count": 0,
      "outputs": []
    },
    {
      "cell_type": "code",
      "metadata": {
        "id": "hwowZ9jhhqfZ",
        "colab_type": "code",
        "outputId": "b4fe3325-ef24-499d-8501-a68ca5f09d9e",
        "colab": {
          "base_uri": "https://localhost:8080/",
          "height": 168
        }
      },
      "source": [
        "# Get rid of all of the excess rows in the dataframe\n",
        "aapl_df1 = aapl_df1[0:1]\n",
        "aapl_df1"
      ],
      "execution_count": 0,
      "outputs": [
        {
          "output_type": "execute_result",
          "data": {
            "text/html": [
              "<div>\n",
              "<style scoped>\n",
              "    .dataframe tbody tr th:only-of-type {\n",
              "        vertical-align: middle;\n",
              "    }\n",
              "\n",
              "    .dataframe tbody tr th {\n",
              "        vertical-align: top;\n",
              "    }\n",
              "\n",
              "    .dataframe thead th {\n",
              "        text-align: right;\n",
              "    }\n",
              "</style>\n",
              "<table border=\"1\" class=\"dataframe\">\n",
              "  <thead>\n",
              "    <tr style=\"text-align: right;\">\n",
              "      <th></th>\n",
              "      <th>Previous Close</th>\n",
              "      <th>Open</th>\n",
              "      <th>Bid</th>\n",
              "      <th>Ask</th>\n",
              "      <th>Day's Range</th>\n",
              "      <th>52 Week Range</th>\n",
              "      <th>Volume</th>\n",
              "      <th>Avg. Volume</th>\n",
              "      <th>Market Cap</th>\n",
              "      <th>Beta (5Y Monthly)</th>\n",
              "      <th>PE Ratio (TTM)</th>\n",
              "      <th>EPS (TTM)</th>\n",
              "      <th>Earnings Date</th>\n",
              "      <th>Forward Dividend &amp; Yield</th>\n",
              "      <th>Ex-Dividend Date</th>\n",
              "      <th>1y Target Est</th>\n",
              "      <th>url_b4_ticker</th>\n",
              "    </tr>\n",
              "  </thead>\n",
              "  <tbody>\n",
              "    <tr>\n",
              "      <th>0</th>\n",
              "      <td>270.77</td>\n",
              "      <td>267.78</td>\n",
              "      <td>272.65 x 1000</td>\n",
              "      <td>272.74 x 1300</td>\n",
              "      <td>267.32 - 272.55</td>\n",
              "      <td>142.00 - 272.56</td>\n",
              "      <td>34,437,042</td>\n",
              "      <td>25,060,826</td>\n",
              "      <td>1.2T</td>\n",
              "      <td>1.23</td>\n",
              "      <td>22.83</td>\n",
              "      <td>11.89</td>\n",
              "      <td>Jan 27, 2020 - Jan 31, 2020</td>\n",
              "      <td>3.08 (1.14%)</td>\n",
              "      <td>2019-11-07</td>\n",
              "      <td>262.85</td>\n",
              "      <td>https://finance.yahoo.com/quote/</td>\n",
              "    </tr>\n",
              "  </tbody>\n",
              "</table>\n",
              "</div>"
            ],
            "text/plain": [
              "  Previous Close    Open  ... 1y Target Est                     url_b4_ticker\n",
              "0         270.77  267.78  ...        262.85  https://finance.yahoo.com/quote/\n",
              "\n",
              "[1 rows x 17 columns]"
            ]
          },
          "metadata": {
            "tags": []
          },
          "execution_count": 774
        }
      ]
    },
    {
      "cell_type": "markdown",
      "metadata": {
        "id": "AYNht8-oAzgF",
        "colab_type": "text"
      },
      "source": [
        "### Now, let's create a new column called \"Stocks\" that holds our ticker symbol. This will be beneficial when we merge multiple dataframes."
      ]
    },
    {
      "cell_type": "code",
      "metadata": {
        "id": "2nZh9dSYEVcg",
        "colab_type": "code",
        "outputId": "e889ebe3-c3e8-4f21-a59c-2396e2cadb36",
        "colab": {
          "base_uri": "https://localhost:8080/",
          "height": 168
        }
      },
      "source": [
        "# Let's forget about indexing based off common url segments\n",
        "aapl_summary = aapl_df1.drop('url_b4_ticker', axis = 1)\n",
        "# Insert a new column (in the first column slot) called \"Stocks\" with a corresponding string (which would be our ticker symbol) \n",
        "aapl_summary.insert(0, \"Stock\", \"AAPL\")\n",
        "aapl_summary"
      ],
      "execution_count": 0,
      "outputs": [
        {
          "output_type": "execute_result",
          "data": {
            "text/html": [
              "<div>\n",
              "<style scoped>\n",
              "    .dataframe tbody tr th:only-of-type {\n",
              "        vertical-align: middle;\n",
              "    }\n",
              "\n",
              "    .dataframe tbody tr th {\n",
              "        vertical-align: top;\n",
              "    }\n",
              "\n",
              "    .dataframe thead th {\n",
              "        text-align: right;\n",
              "    }\n",
              "</style>\n",
              "<table border=\"1\" class=\"dataframe\">\n",
              "  <thead>\n",
              "    <tr style=\"text-align: right;\">\n",
              "      <th></th>\n",
              "      <th>Stock</th>\n",
              "      <th>Previous Close</th>\n",
              "      <th>Open</th>\n",
              "      <th>Bid</th>\n",
              "      <th>Ask</th>\n",
              "      <th>Day's Range</th>\n",
              "      <th>52 Week Range</th>\n",
              "      <th>Volume</th>\n",
              "      <th>Avg. Volume</th>\n",
              "      <th>Market Cap</th>\n",
              "      <th>Beta (5Y Monthly)</th>\n",
              "      <th>PE Ratio (TTM)</th>\n",
              "      <th>EPS (TTM)</th>\n",
              "      <th>Earnings Date</th>\n",
              "      <th>Forward Dividend &amp; Yield</th>\n",
              "      <th>Ex-Dividend Date</th>\n",
              "      <th>1y Target Est</th>\n",
              "    </tr>\n",
              "  </thead>\n",
              "  <tbody>\n",
              "    <tr>\n",
              "      <th>0</th>\n",
              "      <td>AAPL</td>\n",
              "      <td>270.77</td>\n",
              "      <td>267.78</td>\n",
              "      <td>272.65 x 1000</td>\n",
              "      <td>272.74 x 1300</td>\n",
              "      <td>267.32 - 272.55</td>\n",
              "      <td>142.00 - 272.56</td>\n",
              "      <td>34,437,042</td>\n",
              "      <td>25,060,826</td>\n",
              "      <td>1.2T</td>\n",
              "      <td>1.23</td>\n",
              "      <td>22.83</td>\n",
              "      <td>11.89</td>\n",
              "      <td>Jan 27, 2020 - Jan 31, 2020</td>\n",
              "      <td>3.08 (1.14%)</td>\n",
              "      <td>2019-11-07</td>\n",
              "      <td>262.85</td>\n",
              "    </tr>\n",
              "  </tbody>\n",
              "</table>\n",
              "</div>"
            ],
            "text/plain": [
              "  Stock Previous Close  ... Ex-Dividend Date 1y Target Est\n",
              "0  AAPL         270.77  ...       2019-11-07        262.85\n",
              "\n",
              "[1 rows x 17 columns]"
            ]
          },
          "metadata": {
            "tags": []
          },
          "execution_count": 775
        }
      ]
    },
    {
      "cell_type": "markdown",
      "metadata": {
        "id": "Bb_kjHH_BmGd",
        "colab_type": "text"
      },
      "source": [
        "###Now that we have a column that we can use for merging, let's use it as our index."
      ]
    },
    {
      "cell_type": "code",
      "metadata": {
        "id": "qIXWe1ZjLUPQ",
        "colab_type": "code",
        "outputId": "45ce4afe-18cd-4eec-bc5c-f4c5fb79e7fe",
        "colab": {
          "base_uri": "https://localhost:8080/",
          "height": 199
        }
      },
      "source": [
        "aapl_summary = aapl_summary.set_index('Stock')\n",
        "aapl_summary"
      ],
      "execution_count": 0,
      "outputs": [
        {
          "output_type": "execute_result",
          "data": {
            "text/html": [
              "<div>\n",
              "<style scoped>\n",
              "    .dataframe tbody tr th:only-of-type {\n",
              "        vertical-align: middle;\n",
              "    }\n",
              "\n",
              "    .dataframe tbody tr th {\n",
              "        vertical-align: top;\n",
              "    }\n",
              "\n",
              "    .dataframe thead th {\n",
              "        text-align: right;\n",
              "    }\n",
              "</style>\n",
              "<table border=\"1\" class=\"dataframe\">\n",
              "  <thead>\n",
              "    <tr style=\"text-align: right;\">\n",
              "      <th></th>\n",
              "      <th>Previous Close</th>\n",
              "      <th>Open</th>\n",
              "      <th>Bid</th>\n",
              "      <th>Ask</th>\n",
              "      <th>Day's Range</th>\n",
              "      <th>52 Week Range</th>\n",
              "      <th>Volume</th>\n",
              "      <th>Avg. Volume</th>\n",
              "      <th>Market Cap</th>\n",
              "      <th>Beta (5Y Monthly)</th>\n",
              "      <th>PE Ratio (TTM)</th>\n",
              "      <th>EPS (TTM)</th>\n",
              "      <th>Earnings Date</th>\n",
              "      <th>Forward Dividend &amp; Yield</th>\n",
              "      <th>Ex-Dividend Date</th>\n",
              "      <th>1y Target Est</th>\n",
              "    </tr>\n",
              "    <tr>\n",
              "      <th>Stock</th>\n",
              "      <th></th>\n",
              "      <th></th>\n",
              "      <th></th>\n",
              "      <th></th>\n",
              "      <th></th>\n",
              "      <th></th>\n",
              "      <th></th>\n",
              "      <th></th>\n",
              "      <th></th>\n",
              "      <th></th>\n",
              "      <th></th>\n",
              "      <th></th>\n",
              "      <th></th>\n",
              "      <th></th>\n",
              "      <th></th>\n",
              "      <th></th>\n",
              "    </tr>\n",
              "  </thead>\n",
              "  <tbody>\n",
              "    <tr>\n",
              "      <th>AAPL</th>\n",
              "      <td>270.77</td>\n",
              "      <td>267.78</td>\n",
              "      <td>272.65 x 1000</td>\n",
              "      <td>272.74 x 1300</td>\n",
              "      <td>267.32 - 272.55</td>\n",
              "      <td>142.00 - 272.56</td>\n",
              "      <td>34,437,042</td>\n",
              "      <td>25,060,826</td>\n",
              "      <td>1.2T</td>\n",
              "      <td>1.23</td>\n",
              "      <td>22.83</td>\n",
              "      <td>11.89</td>\n",
              "      <td>Jan 27, 2020 - Jan 31, 2020</td>\n",
              "      <td>3.08 (1.14%)</td>\n",
              "      <td>2019-11-07</td>\n",
              "      <td>262.85</td>\n",
              "    </tr>\n",
              "  </tbody>\n",
              "</table>\n",
              "</div>"
            ],
            "text/plain": [
              "      Previous Close    Open  ... Ex-Dividend Date 1y Target Est\n",
              "Stock                         ...                               \n",
              "AAPL          270.77  267.78  ...       2019-11-07        262.85\n",
              "\n",
              "[1 rows x 16 columns]"
            ]
          },
          "metadata": {
            "tags": []
          },
          "execution_count": 776
        }
      ]
    },
    {
      "cell_type": "markdown",
      "metadata": {
        "id": "V4ocqY7qfRx9",
        "colab_type": "text"
      },
      "source": [
        "# 3. Clean up the Apple (AAPL) dataframe\n",
        "\n",
        "\n",
        "---\n",
        "The goal will be to make new columns with new column names (within reason) and appropriate dtypes and just drop all of the original columns. For example, a new column 'Previous_Close' will take the float casted value of the corresponding original column 'Previous Close' \n"
      ]
    },
    {
      "cell_type": "markdown",
      "metadata": {
        "id": "pR6kzM1VDC9g",
        "colab_type": "text"
      },
      "source": [
        "##Let's first find out what are the dtypes of each of these columns"
      ]
    },
    {
      "cell_type": "code",
      "metadata": {
        "id": "thmXXcQ-DM1z",
        "colab_type": "code",
        "colab": {}
      },
      "source": [
        "aapl_summary.info()"
      ],
      "execution_count": 0,
      "outputs": []
    },
    {
      "cell_type": "markdown",
      "metadata": {
        "id": "6Yx2nkWtDbWC",
        "colab_type": "text"
      },
      "source": [
        "#### We can see that we have some strings and we have some series objects. The series objects can be viewed as lists containing one string so our process for these objects would be to use iloc[0] to extract the string, cast the string into into appropriate dtype (some parsing may be necessary), and then, create a new column that contains this new value."
      ]
    },
    {
      "cell_type": "code",
      "metadata": {
        "id": "3NRNq4PAfWI5",
        "colab_type": "code",
        "colab": {}
      },
      "source": [
        "# First, Convert the strings corresponding to the more simple columns (the ones that can easily be casted as floats or ints)\n",
        "aapl_summary['Previous_Close'] = float(pd.to_numeric(aapl_summary['Previous Close']))\n",
        "aapl_summary['Open'] = float(pd.to_numeric(aapl_summary['Open']))\n",
        "aapl_summary['Beta_(5Y_Monthly)'] = float(pd.to_numeric(aapl_summary['Beta (5Y Monthly)']))\n",
        "aapl_summary['PE_Ratio_(TTM)'] = float(pd.to_numeric(aapl_summary['PE Ratio (TTM)']))\n",
        "aapl_summary['EPS_(TTM)'] = float(pd.to_numeric(aapl_summary['EPS (TTM)']))\n",
        "aapl_summary['1y_Target_Est'] = float(pd.to_numeric(aapl_summary['1y Target Est']))\n",
        "\n",
        "#---Now we convert the harder strings---------------------------------------#--- \n",
        "# NOTE: some of these columns will be heavily parsed and be split into 2 or 3 columns\n",
        "\n",
        "# Bids\n",
        "aapl_summary['Bid_Price'] = float(pd.to_numeric(aapl_summary['Bid'].iloc[0][:aapl_summary['Bid'].iloc[0].find(' x ')]))\n",
        "aapl_summary['Bid_Size'] = float(pd.to_numeric(aapl_summary['Bid'].iloc[0][aapl_summary['Bid'].iloc[0].find(' x ')+3:]))\n",
        "# Asks\n",
        "aapl_summary['Ask_Price'] = float(pd.to_numeric(aapl_summary['Ask'].iloc[0][:aapl_summary['Ask'].iloc[0].find(' x ')]))\n",
        "aapl_summary['Ask_Size'] = float(pd.to_numeric(aapl_summary['Ask'].iloc[0][aapl_summary['Ask'].iloc[0].find(' x ')+3:]))\n",
        "# Day's Range\n",
        "aapl_summary[\"Day's_Min_Price\"] = float(pd.to_numeric(aapl_summary[\"Day's Range\"].iloc[0][:aapl_summary[\"Day's Range\"].iloc[0].find(' - ')]))\n",
        "aapl_summary[\"Day's_Max_Price\"] = float(pd.to_numeric(aapl_summary[\"Day's Range\"].iloc[0][aapl_summary[\"Day's Range\"].iloc[0].find(' - ')+3:]))\n",
        "aapl_summary[\"Day's_Price_Range\"] = float(aapl_summary[\"Day's_Max_Price\"] - aapl_summary[\"Day's_Min_Price\"])\n",
        "# 52 Week Range\n",
        "aapl_summary[\"52wk_Min_Price\"] = float(pd.to_numeric(aapl_summary[\"52 Week Range\"].iloc[0][:aapl_summary[\"52 Week Range\"].iloc[0].find(' - ')]))\n",
        "aapl_summary[\"52wk_Max_Price\"] = float(pd.to_numeric(aapl_summary[\"52 Week Range\"].iloc[0][aapl_summary[\"52 Week Range\"].iloc[0].find(' - ')+3:]))\n",
        "aapl_summary[\"52wk_Price_Range\"] = aapl_summary[\"52wk_Max_Price\"] - aapl_summary[\"52wk_Min_Price\"]\n",
        "# Market Cap\n",
        "if aapl_summary['Market Cap'].iloc[0][-1] == \"T\":\n",
        "  aapl_summary['Market_Cap'] = float(pd.to_numeric(aapl_summary['Market Cap'].iloc[0][:-1])*1000000000000)\n",
        "elif aapl_summary['Market Cap'].iloc[0][-1] == \"B\":\n",
        "  aapl_summary['Market_Cap'] = float(pd.to_numeric(aapl_summary['Market Cap'].iloc[0][:-1])*1000000000)\n",
        "# Volumes\n",
        "aapl_summary['VOLUME'] = float(pd.to_numeric(aapl_summary['Volume'].iloc[0].replace(\",\", \"\")))\n",
        "aapl_summary['AVG_VOLUME'] = float(pd.to_numeric(aapl_summary['Avg. Volume'].iloc[0].replace(\",\", \"\")))\n",
        "# Forward Dividend & Yield\n",
        "aapl_summary['Forward_Dividend'] = float(pd.to_numeric(aapl_summary['Forward Dividend & Yield'].iloc[0][:aapl_summary['Forward Dividend & Yield'].iloc[0].find(' (')]))\n",
        "aapl_summary['Yield'] = float(pd.to_numeric(aapl_summary['Forward Dividend & Yield'].iloc[0][aapl_summary['Forward Dividend & Yield'].iloc[0].find('(')+1:aapl_summary['Forward Dividend & Yield'].iloc[0].find('%(')-1]))*0.01\n",
        "# Earnings Date\n",
        "from datetime import datetime # We will use the datetime.strptime() to convert a string date into a datetime w/ a format of our choice\n",
        "# Extract the string corresponding to the first date in the range (this will be considered the start earnings date)\n",
        "st=aapl_summary[\"Earnings Date\"].iloc[0][:aapl_summary[\"Earnings Date\"].iloc[0].find(' - ')]\n",
        "st\n",
        "aapl_summary[\"Earnings_Start_Date\"] = datetime.strptime(st,'%b %d, %Y')\n",
        "# The same type of procesx is repeated above but for the second earnings date in the range: end earnings date\n",
        "end = aapl_summary[\"Earnings Date\"].iloc[0][aapl_summary[\"Earnings Date\"].iloc[0].find(' - ')+3:]\n",
        "end\n",
        "aapl_summary[\"Earnings_End_Date\"] = datetime.strptime(end,'%b %d, %Y')\n",
        "# Ex-Dividend Date\n",
        "dvdt = aapl_summary['Ex-Dividend Date'].iloc[0] \n",
        "aapl_summary[\"Ex_Dividend_Date\"] = datetime.strptime(dvdt,\"%Y-%m-%d\")"
      ],
      "execution_count": 0,
      "outputs": []
    },
    {
      "cell_type": "markdown",
      "metadata": {
        "id": "drZ-pQIoFuRp",
        "colab_type": "text"
      },
      "source": [
        "###Now, all we need to do is drop the original columns and return our new and cleaned dataframe!"
      ]
    },
    {
      "cell_type": "code",
      "metadata": {
        "id": "T2TU_9s69gIP",
        "colab_type": "code",
        "outputId": "1d9023f2-5c38-44c5-af07-15547066aca4",
        "colab": {
          "base_uri": "https://localhost:8080/",
          "height": 131
        }
      },
      "source": [
        "aapl_summary = aapl_summary.drop(['Previous Close','Ex-Dividend Date',\n",
        "                                  'Forward Dividend & Yield',\"Earnings Date\",\n",
        "                                  'Open','Beta (5Y Monthly)','PE Ratio (TTM)',\n",
        "                                  'EPS (TTM)','1y Target Est','Bid','Ask',\n",
        "                                  \"Day's Range\",\"52 Week Range\",'Market Cap',\n",
        "                                  'Volume','Avg. Volume'], axis = 1)\n",
        "\n",
        "aapl_summary"
      ],
      "execution_count": 0,
      "outputs": [
        {
          "output_type": "execute_result",
          "data": {
            "text/html": [
              "<div>\n",
              "<style scoped>\n",
              "    .dataframe tbody tr th:only-of-type {\n",
              "        vertical-align: middle;\n",
              "    }\n",
              "\n",
              "    .dataframe tbody tr th {\n",
              "        vertical-align: top;\n",
              "    }\n",
              "\n",
              "    .dataframe thead th {\n",
              "        text-align: right;\n",
              "    }\n",
              "</style>\n",
              "<table border=\"1\" class=\"dataframe\">\n",
              "  <thead>\n",
              "    <tr style=\"text-align: right;\">\n",
              "      <th></th>\n",
              "      <th>Previous_Close</th>\n",
              "      <th>Beta_(5Y_Monthly)</th>\n",
              "      <th>PE_Ratio_(TTM)</th>\n",
              "      <th>EPS_(TTM)</th>\n",
              "      <th>1y_Target_Est</th>\n",
              "      <th>Bid_Price</th>\n",
              "      <th>Bid_Size</th>\n",
              "      <th>Ask_Price</th>\n",
              "      <th>Ask_Size</th>\n",
              "      <th>Day's_Min_Price</th>\n",
              "      <th>Day's_Max_Price</th>\n",
              "      <th>Day's_Price_Range</th>\n",
              "      <th>52wk_Min_Price</th>\n",
              "      <th>52wk_Max_Price</th>\n",
              "      <th>52wk_Price_Range</th>\n",
              "      <th>Market_Cap</th>\n",
              "      <th>VOLUME</th>\n",
              "      <th>AVG_VOLUME</th>\n",
              "      <th>Forward_Dividend</th>\n",
              "      <th>Yield</th>\n",
              "      <th>Earnings_Start_Date</th>\n",
              "      <th>Earnings_End_Date</th>\n",
              "      <th>Ex_Dividend_Date</th>\n",
              "    </tr>\n",
              "    <tr>\n",
              "      <th>Stock</th>\n",
              "      <th></th>\n",
              "      <th></th>\n",
              "      <th></th>\n",
              "      <th></th>\n",
              "      <th></th>\n",
              "      <th></th>\n",
              "      <th></th>\n",
              "      <th></th>\n",
              "      <th></th>\n",
              "      <th></th>\n",
              "      <th></th>\n",
              "      <th></th>\n",
              "      <th></th>\n",
              "      <th></th>\n",
              "      <th></th>\n",
              "      <th></th>\n",
              "      <th></th>\n",
              "      <th></th>\n",
              "      <th></th>\n",
              "      <th></th>\n",
              "      <th></th>\n",
              "      <th></th>\n",
              "      <th></th>\n",
              "    </tr>\n",
              "  </thead>\n",
              "  <tbody>\n",
              "    <tr>\n",
              "      <th>AAPL</th>\n",
              "      <td>270.77</td>\n",
              "      <td>1.23</td>\n",
              "      <td>22.83</td>\n",
              "      <td>11.89</td>\n",
              "      <td>262.85</td>\n",
              "      <td>272.65</td>\n",
              "      <td>1000.0</td>\n",
              "      <td>272.74</td>\n",
              "      <td>1300.0</td>\n",
              "      <td>267.32</td>\n",
              "      <td>272.55</td>\n",
              "      <td>5.23</td>\n",
              "      <td>142.0</td>\n",
              "      <td>272.56</td>\n",
              "      <td>130.56</td>\n",
              "      <td>1.200000e+12</td>\n",
              "      <td>34437042.0</td>\n",
              "      <td>25060826.0</td>\n",
              "      <td>3.08</td>\n",
              "      <td>0.0114</td>\n",
              "      <td>2020-01-27</td>\n",
              "      <td>2020-01-31</td>\n",
              "      <td>2019-11-07</td>\n",
              "    </tr>\n",
              "  </tbody>\n",
              "</table>\n",
              "</div>"
            ],
            "text/plain": [
              "       Previous_Close  Beta_(5Y_Monthly)  ...  Earnings_End_Date  Ex_Dividend_Date\n",
              "Stock                                     ...                                     \n",
              "AAPL           270.77               1.23  ...         2020-01-31        2019-11-07\n",
              "\n",
              "[1 rows x 23 columns]"
            ]
          },
          "metadata": {
            "tags": []
          },
          "execution_count": 778
        }
      ]
    },
    {
      "cell_type": "markdown",
      "metadata": {
        "id": "gdadPE_IgHyL",
        "colab_type": "text"
      },
      "source": [
        "# 4. Repeat this process for another stock and merge the two cleaned dataframes."
      ]
    },
    {
      "cell_type": "markdown",
      "metadata": {
        "id": "BjmXNx-L8Qch",
        "colab_type": "text"
      },
      "source": [
        "##Creating Microsoft (MSFT) Stock Dataframe\n",
        "* Note: this code will not be commented as it will consist of basically the same exact code as seen above. The only difference is that the prefixes of dataframes or lists, etc... will correspond the microsoft ticker symbol \"msft\"."
      ]
    },
    {
      "cell_type": "code",
      "metadata": {
        "id": "_9q6CvBJkD_M",
        "colab_type": "code",
        "colab": {}
      },
      "source": [
        "msft = requests.get('https://finance.yahoo.com/quote/MSFT')"
      ],
      "execution_count": 0,
      "outputs": []
    },
    {
      "cell_type": "code",
      "metadata": {
        "id": "2i6ehFCT9wVw",
        "colab_type": "code",
        "colab": {}
      },
      "source": [
        "msft_soup = bs4.BeautifulSoup(msft.text, 'html.parser')"
      ],
      "execution_count": 0,
      "outputs": []
    },
    {
      "cell_type": "code",
      "metadata": {
        "id": "9sO-cyp-9z82",
        "colab_type": "code",
        "colab": {}
      },
      "source": [
        "msft_columns = msft_soup.find(id=\"quote-summary\")"
      ],
      "execution_count": 0,
      "outputs": []
    },
    {
      "cell_type": "code",
      "metadata": {
        "id": "M1-1dZzQ-saU",
        "colab_type": "code",
        "outputId": "8c9ad1a5-2fa5-4daa-809e-a3417010472e",
        "colab": {
          "base_uri": "https://localhost:8080/",
          "height": 581
        }
      },
      "source": [
        "msft_columns.find_all('td')"
      ],
      "execution_count": 0,
      "outputs": [
        {
          "output_type": "execute_result",
          "data": {
            "text/plain": [
              "[<td class=\"C($primaryColor) W(51%)\" data-reactid=\"13\"><span data-reactid=\"14\">Previous Close</span></td>,\n",
              " <td class=\"Ta(end) Fw(600) Lh(14px)\" data-reactid=\"15\" data-test=\"PREV_CLOSE-value\"><span class=\"Trsdu(0.3s) \" data-reactid=\"16\">151.70</span></td>,\n",
              " <td class=\"C($primaryColor) W(51%)\" data-reactid=\"18\"><span data-reactid=\"19\">Open</span></td>,\n",
              " <td class=\"Ta(end) Fw(600) Lh(14px)\" data-reactid=\"20\" data-test=\"OPEN-value\"><span class=\"Trsdu(0.3s) \" data-reactid=\"21\">151.65</span></td>,\n",
              " <td class=\"C($primaryColor) W(51%)\" data-reactid=\"23\"><span data-reactid=\"24\">Bid</span></td>,\n",
              " <td class=\"Ta(end) Fw(600) Lh(14px)\" data-reactid=\"25\" data-test=\"BID-value\"><span class=\"Trsdu(0.3s) \" data-reactid=\"26\">153.57 x 1800</span></td>,\n",
              " <td class=\"C($primaryColor) W(51%)\" data-reactid=\"28\"><span data-reactid=\"29\">Ask</span></td>,\n",
              " <td class=\"Ta(end) Fw(600) Lh(14px)\" data-reactid=\"30\" data-test=\"ASK-value\"><span class=\"Trsdu(0.3s) \" data-reactid=\"31\">154.04 x 900</span></td>,\n",
              " <td class=\"C($primaryColor) W(51%)\" data-reactid=\"33\"><span data-reactid=\"34\">Day's Range</span></td>,\n",
              " <td class=\"Ta(end) Fw(600) Lh(14px)\" data-reactid=\"35\" data-test=\"DAYS_RANGE-value\">151.02 - 153.44</td>,\n",
              " <td class=\"C($primaryColor) W(51%)\" data-reactid=\"37\"><span data-reactid=\"38\">52 Week Range</span></td>,\n",
              " <td class=\"Ta(end) Fw(600) Lh(14px)\" data-reactid=\"39\" data-test=\"FIFTY_TWO_WK_RANGE-value\">93.96 - 153.44</td>,\n",
              " <td class=\"C($primaryColor) W(51%)\" data-reactid=\"41\"><span data-reactid=\"42\">Volume</span></td>,\n",
              " <td class=\"Ta(end) Fw(600) Lh(14px)\" data-reactid=\"43\" data-test=\"TD_VOLUME-value\"><span class=\"Trsdu(0.3s) \" data-reactid=\"44\">24,645,366</span></td>,\n",
              " <td class=\"C($primaryColor) W(51%)\" data-reactid=\"46\"><span data-reactid=\"47\">Avg. Volume</span></td>,\n",
              " <td class=\"Ta(end) Fw(600) Lh(14px)\" data-reactid=\"48\" data-test=\"AVERAGE_VOLUME_3MONTH-value\"><span class=\"Trsdu(0.3s) \" data-reactid=\"49\">21,940,609</span></td>,\n",
              " <td class=\"C($primaryColor) W(51%)\" data-reactid=\"54\"><span data-reactid=\"55\">Market Cap</span></td>,\n",
              " <td class=\"Ta(end) Fw(600) Lh(14px)\" data-reactid=\"56\" data-test=\"MARKET_CAP-value\"><span class=\"Trsdu(0.3s) \" data-reactid=\"57\">1.2T</span></td>,\n",
              " <td class=\"C($primaryColor) W(51%)\" data-reactid=\"59\"><span data-reactid=\"60\">Beta (5Y Monthly)</span></td>,\n",
              " <td class=\"Ta(end) Fw(600) Lh(14px)\" data-reactid=\"61\" data-test=\"BETA_5Y-value\"><span class=\"Trsdu(0.3s) \" data-reactid=\"62\">1.23</span></td>,\n",
              " <td class=\"C($primaryColor) W(51%)\" data-reactid=\"64\"><span data-reactid=\"65\">PE Ratio (TTM)</span></td>,\n",
              " <td class=\"Ta(end) Fw(600) Lh(14px)\" data-reactid=\"66\" data-test=\"PE_RATIO-value\"><span class=\"Trsdu(0.3s) \" data-reactid=\"67\">28.91</span></td>,\n",
              " <td class=\"C($primaryColor) W(51%)\" data-reactid=\"69\"><span data-reactid=\"70\">EPS (TTM)</span></td>,\n",
              " <td class=\"Ta(end) Fw(600) Lh(14px)\" data-reactid=\"71\" data-test=\"EPS_RATIO-value\"><span class=\"Trsdu(0.3s) \" data-reactid=\"72\">5.30</span></td>,\n",
              " <td class=\"C($primaryColor) W(51%)\" data-reactid=\"74\"><span data-reactid=\"75\">Earnings Date</span></td>,\n",
              " <td class=\"Ta(end) Fw(600) Lh(14px)\" data-reactid=\"76\" data-test=\"EARNINGS_DATE-value\"><span data-reactid=\"77\">Jan 28, 2020</span><!-- react-text: 78 --> - <!-- /react-text --><span data-reactid=\"79\">Feb 3, 2020</span></td>,\n",
              " <td class=\"C($primaryColor) W(51%)\" data-reactid=\"81\"><span data-reactid=\"82\">Forward Dividend &amp; Yield</span></td>,\n",
              " <td class=\"Ta(end) Fw(600) Lh(14px)\" data-reactid=\"83\" data-test=\"DIVIDEND_AND_YIELD-value\">2.04 (1.33%)</td>,\n",
              " <td class=\"C($primaryColor) W(51%)\" data-reactid=\"85\"><span data-reactid=\"86\">Ex-Dividend Date</span></td>,\n",
              " <td class=\"Ta(end) Fw(600) Lh(14px)\" data-reactid=\"87\" data-test=\"EX_DIVIDEND_DATE-value\"><span class=\"Trsdu(0.3s) \" data-reactid=\"88\">2020-02-19</span></td>,\n",
              " <td class=\"C($primaryColor) W(51%)\" data-reactid=\"90\"><span data-reactid=\"91\">1y Target Est</span></td>,\n",
              " <td class=\"Ta(end) Fw(600) Lh(14px)\" data-reactid=\"92\" data-test=\"ONE_YEAR_TARGET_PRICE-value\"><span class=\"Trsdu(0.3s) \" data-reactid=\"93\">160.69</span></td>]"
            ]
          },
          "metadata": {
            "tags": []
          },
          "execution_count": 782
        }
      ]
    },
    {
      "cell_type": "code",
      "metadata": {
        "id": "EGXGjsYo-zEf",
        "colab_type": "code",
        "colab": {}
      },
      "source": [
        "msft_values = [v.text for v in msft_columns.find_all('td', attrs={'class':\"Ta(end) Fw(600) Lh(14px)\"})]"
      ],
      "execution_count": 0,
      "outputs": []
    },
    {
      "cell_type": "code",
      "metadata": {
        "id": "3OrzY6HO-1kf",
        "colab_type": "code",
        "colab": {}
      },
      "source": [
        "msft_labels = [l for l in msft_columns.find_all('td') if l not in msft_columns.find_all('td', attrs={'class':\"Ta(end) Fw(600) Lh(14px)\"})]\n",
        "msft_labels = [l.text for l in msft_labels]"
      ],
      "execution_count": 0,
      "outputs": []
    },
    {
      "cell_type": "code",
      "metadata": {
        "id": "flIYJX_V--jO",
        "colab_type": "code",
        "outputId": "bcc5366b-e503-4afe-ed18-6bc6b0a2433d",
        "colab": {
          "base_uri": "https://localhost:8080/",
          "height": 289
        }
      },
      "source": [
        "msft_labels"
      ],
      "execution_count": 0,
      "outputs": [
        {
          "output_type": "execute_result",
          "data": {
            "text/plain": [
              "['Previous Close',\n",
              " 'Open',\n",
              " 'Bid',\n",
              " 'Ask',\n",
              " \"Day's Range\",\n",
              " '52 Week Range',\n",
              " 'Volume',\n",
              " 'Avg. Volume',\n",
              " 'Market Cap',\n",
              " 'Beta (5Y Monthly)',\n",
              " 'PE Ratio (TTM)',\n",
              " 'EPS (TTM)',\n",
              " 'Earnings Date',\n",
              " 'Forward Dividend & Yield',\n",
              " 'Ex-Dividend Date',\n",
              " '1y Target Est']"
            ]
          },
          "metadata": {
            "tags": []
          },
          "execution_count": 785
        }
      ]
    },
    {
      "cell_type": "code",
      "metadata": {
        "id": "OW1itArJ_BZ3",
        "colab_type": "code",
        "outputId": "2d3d7aa7-4df0-4aaa-b6e7-5a9e07ac4403",
        "colab": {
          "base_uri": "https://localhost:8080/",
          "height": 289
        }
      },
      "source": [
        "msft_values"
      ],
      "execution_count": 0,
      "outputs": [
        {
          "output_type": "execute_result",
          "data": {
            "text/plain": [
              "['151.70',\n",
              " '151.65',\n",
              " '153.57 x 1800',\n",
              " '154.04 x 900',\n",
              " '151.02 - 153.44',\n",
              " '93.96 - 153.44',\n",
              " '24,645,366',\n",
              " '21,940,609',\n",
              " '1.2T',\n",
              " '1.23',\n",
              " '28.91',\n",
              " '5.30',\n",
              " 'Jan 28, 2020 - Feb 3, 2020',\n",
              " '2.04 (1.33%)',\n",
              " '2020-02-19',\n",
              " '160.69']"
            ]
          },
          "metadata": {
            "tags": []
          },
          "execution_count": 786
        }
      ]
    },
    {
      "cell_type": "code",
      "metadata": {
        "id": "rzp9QDrs_Z8v",
        "colab_type": "code",
        "colab": {}
      },
      "source": [
        "msft_df = pd.DataFrame({'labels': msft_labels, 'values':msft_values})\n",
        "\n",
        "msft_df1 = msft_df\n",
        "for l in range(len(msft_labels)):\n",
        "  msft_df1[msft_labels[l]] = msft_values[l]\n",
        "\n",
        "msft_df1 = msft_df1.drop(['labels', 'values'], axis = 1)\n",
        "\n",
        "msft_df1 = msft_df1[0:1]"
      ],
      "execution_count": 0,
      "outputs": []
    },
    {
      "cell_type": "code",
      "metadata": {
        "id": "KHTJjLGrBLom",
        "colab_type": "code",
        "colab": {}
      },
      "source": [
        "msft_df1['url_b4_ticker'] = 'https://finance.yahoo.com/quote/'"
      ],
      "execution_count": 0,
      "outputs": []
    },
    {
      "cell_type": "code",
      "metadata": {
        "id": "IkfAOiQMAcOz",
        "colab_type": "code",
        "outputId": "fd7680a3-f882-498a-b56d-ce482c7feacd",
        "colab": {
          "base_uri": "https://localhost:8080/",
          "height": 168
        }
      },
      "source": [
        "msft_df1"
      ],
      "execution_count": 0,
      "outputs": [
        {
          "output_type": "execute_result",
          "data": {
            "text/html": [
              "<div>\n",
              "<style scoped>\n",
              "    .dataframe tbody tr th:only-of-type {\n",
              "        vertical-align: middle;\n",
              "    }\n",
              "\n",
              "    .dataframe tbody tr th {\n",
              "        vertical-align: top;\n",
              "    }\n",
              "\n",
              "    .dataframe thead th {\n",
              "        text-align: right;\n",
              "    }\n",
              "</style>\n",
              "<table border=\"1\" class=\"dataframe\">\n",
              "  <thead>\n",
              "    <tr style=\"text-align: right;\">\n",
              "      <th></th>\n",
              "      <th>Previous Close</th>\n",
              "      <th>Open</th>\n",
              "      <th>Bid</th>\n",
              "      <th>Ask</th>\n",
              "      <th>Day's Range</th>\n",
              "      <th>52 Week Range</th>\n",
              "      <th>Volume</th>\n",
              "      <th>Avg. Volume</th>\n",
              "      <th>Market Cap</th>\n",
              "      <th>Beta (5Y Monthly)</th>\n",
              "      <th>PE Ratio (TTM)</th>\n",
              "      <th>EPS (TTM)</th>\n",
              "      <th>Earnings Date</th>\n",
              "      <th>Forward Dividend &amp; Yield</th>\n",
              "      <th>Ex-Dividend Date</th>\n",
              "      <th>1y Target Est</th>\n",
              "      <th>url_b4_ticker</th>\n",
              "    </tr>\n",
              "  </thead>\n",
              "  <tbody>\n",
              "    <tr>\n",
              "      <th>0</th>\n",
              "      <td>151.70</td>\n",
              "      <td>151.65</td>\n",
              "      <td>153.57 x 1800</td>\n",
              "      <td>154.04 x 900</td>\n",
              "      <td>151.02 - 153.44</td>\n",
              "      <td>93.96 - 153.44</td>\n",
              "      <td>24,645,366</td>\n",
              "      <td>21,940,609</td>\n",
              "      <td>1.2T</td>\n",
              "      <td>1.23</td>\n",
              "      <td>28.91</td>\n",
              "      <td>5.30</td>\n",
              "      <td>Jan 28, 2020 - Feb 3, 2020</td>\n",
              "      <td>2.04 (1.33%)</td>\n",
              "      <td>2020-02-19</td>\n",
              "      <td>160.69</td>\n",
              "      <td>https://finance.yahoo.com/quote/</td>\n",
              "    </tr>\n",
              "  </tbody>\n",
              "</table>\n",
              "</div>"
            ],
            "text/plain": [
              "  Previous Close    Open  ... 1y Target Est                     url_b4_ticker\n",
              "0         151.70  151.65  ...        160.69  https://finance.yahoo.com/quote/\n",
              "\n",
              "[1 rows x 17 columns]"
            ]
          },
          "metadata": {
            "tags": []
          },
          "execution_count": 789
        }
      ]
    },
    {
      "cell_type": "code",
      "metadata": {
        "id": "RXBWOOxtBgh3",
        "colab_type": "code",
        "outputId": "1f058263-a894-4e57-d90d-60ab7f13fd9b",
        "colab": {
          "base_uri": "https://localhost:8080/",
          "height": 168
        }
      },
      "source": [
        "msft_summary = msft_df1.drop('url_b4_ticker', axis = 1)\n",
        "msft_summary.insert(0, \"Stock\", \"MSFT\")\n",
        "msft_summary"
      ],
      "execution_count": 0,
      "outputs": [
        {
          "output_type": "execute_result",
          "data": {
            "text/html": [
              "<div>\n",
              "<style scoped>\n",
              "    .dataframe tbody tr th:only-of-type {\n",
              "        vertical-align: middle;\n",
              "    }\n",
              "\n",
              "    .dataframe tbody tr th {\n",
              "        vertical-align: top;\n",
              "    }\n",
              "\n",
              "    .dataframe thead th {\n",
              "        text-align: right;\n",
              "    }\n",
              "</style>\n",
              "<table border=\"1\" class=\"dataframe\">\n",
              "  <thead>\n",
              "    <tr style=\"text-align: right;\">\n",
              "      <th></th>\n",
              "      <th>Stock</th>\n",
              "      <th>Previous Close</th>\n",
              "      <th>Open</th>\n",
              "      <th>Bid</th>\n",
              "      <th>Ask</th>\n",
              "      <th>Day's Range</th>\n",
              "      <th>52 Week Range</th>\n",
              "      <th>Volume</th>\n",
              "      <th>Avg. Volume</th>\n",
              "      <th>Market Cap</th>\n",
              "      <th>Beta (5Y Monthly)</th>\n",
              "      <th>PE Ratio (TTM)</th>\n",
              "      <th>EPS (TTM)</th>\n",
              "      <th>Earnings Date</th>\n",
              "      <th>Forward Dividend &amp; Yield</th>\n",
              "      <th>Ex-Dividend Date</th>\n",
              "      <th>1y Target Est</th>\n",
              "    </tr>\n",
              "  </thead>\n",
              "  <tbody>\n",
              "    <tr>\n",
              "      <th>0</th>\n",
              "      <td>MSFT</td>\n",
              "      <td>151.70</td>\n",
              "      <td>151.65</td>\n",
              "      <td>153.57 x 1800</td>\n",
              "      <td>154.04 x 900</td>\n",
              "      <td>151.02 - 153.44</td>\n",
              "      <td>93.96 - 153.44</td>\n",
              "      <td>24,645,366</td>\n",
              "      <td>21,940,609</td>\n",
              "      <td>1.2T</td>\n",
              "      <td>1.23</td>\n",
              "      <td>28.91</td>\n",
              "      <td>5.30</td>\n",
              "      <td>Jan 28, 2020 - Feb 3, 2020</td>\n",
              "      <td>2.04 (1.33%)</td>\n",
              "      <td>2020-02-19</td>\n",
              "      <td>160.69</td>\n",
              "    </tr>\n",
              "  </tbody>\n",
              "</table>\n",
              "</div>"
            ],
            "text/plain": [
              "  Stock Previous Close  ... Ex-Dividend Date 1y Target Est\n",
              "0  MSFT         151.70  ...       2020-02-19        160.69\n",
              "\n",
              "[1 rows x 17 columns]"
            ]
          },
          "metadata": {
            "tags": []
          },
          "execution_count": 790
        }
      ]
    },
    {
      "cell_type": "code",
      "metadata": {
        "id": "IYcKdQmAK9Se",
        "colab_type": "code",
        "outputId": "9e05bbef-699c-4d57-853d-d11277a0a853",
        "colab": {
          "base_uri": "https://localhost:8080/",
          "height": 199
        }
      },
      "source": [
        "msft_summary = msft_summary.set_index('Stock')\n",
        "msft_summary"
      ],
      "execution_count": 0,
      "outputs": [
        {
          "output_type": "execute_result",
          "data": {
            "text/html": [
              "<div>\n",
              "<style scoped>\n",
              "    .dataframe tbody tr th:only-of-type {\n",
              "        vertical-align: middle;\n",
              "    }\n",
              "\n",
              "    .dataframe tbody tr th {\n",
              "        vertical-align: top;\n",
              "    }\n",
              "\n",
              "    .dataframe thead th {\n",
              "        text-align: right;\n",
              "    }\n",
              "</style>\n",
              "<table border=\"1\" class=\"dataframe\">\n",
              "  <thead>\n",
              "    <tr style=\"text-align: right;\">\n",
              "      <th></th>\n",
              "      <th>Previous Close</th>\n",
              "      <th>Open</th>\n",
              "      <th>Bid</th>\n",
              "      <th>Ask</th>\n",
              "      <th>Day's Range</th>\n",
              "      <th>52 Week Range</th>\n",
              "      <th>Volume</th>\n",
              "      <th>Avg. Volume</th>\n",
              "      <th>Market Cap</th>\n",
              "      <th>Beta (5Y Monthly)</th>\n",
              "      <th>PE Ratio (TTM)</th>\n",
              "      <th>EPS (TTM)</th>\n",
              "      <th>Earnings Date</th>\n",
              "      <th>Forward Dividend &amp; Yield</th>\n",
              "      <th>Ex-Dividend Date</th>\n",
              "      <th>1y Target Est</th>\n",
              "    </tr>\n",
              "    <tr>\n",
              "      <th>Stock</th>\n",
              "      <th></th>\n",
              "      <th></th>\n",
              "      <th></th>\n",
              "      <th></th>\n",
              "      <th></th>\n",
              "      <th></th>\n",
              "      <th></th>\n",
              "      <th></th>\n",
              "      <th></th>\n",
              "      <th></th>\n",
              "      <th></th>\n",
              "      <th></th>\n",
              "      <th></th>\n",
              "      <th></th>\n",
              "      <th></th>\n",
              "      <th></th>\n",
              "    </tr>\n",
              "  </thead>\n",
              "  <tbody>\n",
              "    <tr>\n",
              "      <th>MSFT</th>\n",
              "      <td>151.70</td>\n",
              "      <td>151.65</td>\n",
              "      <td>153.57 x 1800</td>\n",
              "      <td>154.04 x 900</td>\n",
              "      <td>151.02 - 153.44</td>\n",
              "      <td>93.96 - 153.44</td>\n",
              "      <td>24,645,366</td>\n",
              "      <td>21,940,609</td>\n",
              "      <td>1.2T</td>\n",
              "      <td>1.23</td>\n",
              "      <td>28.91</td>\n",
              "      <td>5.30</td>\n",
              "      <td>Jan 28, 2020 - Feb 3, 2020</td>\n",
              "      <td>2.04 (1.33%)</td>\n",
              "      <td>2020-02-19</td>\n",
              "      <td>160.69</td>\n",
              "    </tr>\n",
              "  </tbody>\n",
              "</table>\n",
              "</div>"
            ],
            "text/plain": [
              "      Previous Close    Open  ... Ex-Dividend Date 1y Target Est\n",
              "Stock                         ...                               \n",
              "MSFT          151.70  151.65  ...       2020-02-19        160.69\n",
              "\n",
              "[1 rows x 16 columns]"
            ]
          },
          "metadata": {
            "tags": []
          },
          "execution_count": 791
        }
      ]
    },
    {
      "cell_type": "code",
      "metadata": {
        "id": "3wYkr_Cm-Lcz",
        "colab_type": "code",
        "colab": {}
      },
      "source": [
        "# Convert the easy strings first (the ones that can easily be casted as floats or ints)\n",
        "msft_summary['Previous_Close'] = float(pd.to_numeric(msft_summary['Previous Close']))\n",
        "msft_summary['Open'] = float(pd.to_numeric(msft_summary['Open']))\n",
        "msft_summary['Beta_(5Y_Monthly)'] = float(pd.to_numeric(msft_summary['Beta (5Y Monthly)']))\n",
        "msft_summary['PE_Ratio_(TTM)'] = float(pd.to_numeric(msft_summary['PE Ratio (TTM)']))\n",
        "msft_summary['EPS_(TTM)'] = float(pd.to_numeric(msft_summary['EPS (TTM)']))\n",
        "msft_summary['1y_Target_Est'] = float(pd.to_numeric(msft_summary['1y Target Est']))\n",
        "\n",
        "#---Now we convert the harder strings---------------------------------------#--- \n",
        "\n",
        "# Bids\n",
        "msft_summary['Bid_Price'] = float(pd.to_numeric(msft_summary['Bid'].iloc[0][:msft_summary['Bid'].iloc[0].find(' x ')]))\n",
        "msft_summary['Bid_Size'] = float(pd.to_numeric(msft_summary['Bid'].iloc[0][msft_summary['Bid'].iloc[0].find(' x ')+3:]))\n",
        "# Asks\n",
        "msft_summary['Ask_Price'] = float(pd.to_numeric(msft_summary['Ask'].iloc[0][:msft_summary['Ask'].iloc[0].find(' x ')]))\n",
        "msft_summary['Ask_Size'] = float(pd.to_numeric(msft_summary['Ask'].iloc[0][msft_summary['Ask'].iloc[0].find(' x ')+3:]))\n",
        "# Day's Range\n",
        "msft_summary[\"Day's_Min_Price\"] = float(pd.to_numeric(msft_summary[\"Day's Range\"].iloc[0][:msft_summary[\"Day's Range\"].iloc[0].find(' - ')]))\n",
        "msft_summary[\"Day's_Max_Price\"] = float(pd.to_numeric(msft_summary[\"Day's Range\"].iloc[0][msft_summary[\"Day's Range\"].iloc[0].find(' - ')+3:]))\n",
        "msft_summary[\"Day's_Price_Range\"] = float(msft_summary[\"Day's_Max_Price\"] - msft_summary[\"Day's_Min_Price\"])\n",
        "# 52 Week Range\n",
        "msft_summary[\"52wk_Min_Price\"] = float(pd.to_numeric(msft_summary[\"52 Week Range\"].iloc[0][:msft_summary[\"52 Week Range\"].iloc[0].find(' - ')]))\n",
        "msft_summary[\"52wk_Max_Price\"] = float(pd.to_numeric(msft_summary[\"52 Week Range\"].iloc[0][msft_summary[\"52 Week Range\"].iloc[0].find(' - ')+3:]))\n",
        "msft_summary[\"52wk_Price_Range\"] = msft_summary[\"52wk_Max_Price\"] - msft_summary[\"52wk_Min_Price\"]\n",
        "# Market Cap\n",
        "if msft_summary['Market Cap'].iloc[0][-1] == \"T\":\n",
        "  msft_summary['Market_Cap'] = float(pd.to_numeric(msft_summary['Market Cap'].iloc[0][:-1])*1000000000000)\n",
        "elif msft_summary['Market Cap'].iloc[0][-1] == \"B\":\n",
        "  msft_summary['Market_Cap'] = float(pd.to_numeric(msft_summary['Market Cap'].iloc[0][:-1])*1000000000)\n",
        "# Volumes\n",
        "msft_summary['VOLUME'] = float(pd.to_numeric(msft_summary['Volume'].iloc[0].replace(\",\", \"\")))\n",
        "msft_summary['AVG_VOLUME'] = float(pd.to_numeric(msft_summary['Avg. Volume'].iloc[0].replace(\",\", \"\")))\n",
        "# Forward Dividend & Yield\n",
        "msft_summary['Forward_Dividend'] = float(pd.to_numeric(msft_summary['Forward Dividend & Yield'].iloc[0][:msft_summary['Forward Dividend & Yield'].iloc[0].find(' (')]))\n",
        "msft_summary['Yield'] = float(pd.to_numeric(msft_summary['Forward Dividend & Yield'].iloc[0][msft_summary['Forward Dividend & Yield'].iloc[0].find('(')+1:msft_summary['Forward Dividend & Yield'].iloc[0].find('%(')-1]))*0.01\n",
        "# Earnings Date\n",
        "from datetime import datetime\n",
        "\n",
        "st=msft_summary[\"Earnings Date\"].iloc[0][:msft_summary[\"Earnings Date\"].iloc[0].find(' - ')]\n",
        "st\n",
        "msft_summary[\"Earnings_Start_Date\"] = datetime.strptime(st,'%b %d, %Y')\n",
        "\n",
        "end = msft_summary[\"Earnings Date\"].iloc[0][msft_summary[\"Earnings Date\"].iloc[0].find(' - ')+3:]\n",
        "end\n",
        "msft_summary[\"Earnings_End_Date\"] = datetime.strptime(end,'%b %d, %Y')\n",
        "# Ex-Dividend Date\n",
        "dvdt = msft_summary['Ex-Dividend Date'].iloc[0] \n",
        "msft_summary[\"Ex_Dividend_Date\"] = datetime.strptime(dvdt,\"%Y-%m-%d\")"
      ],
      "execution_count": 0,
      "outputs": []
    },
    {
      "cell_type": "code",
      "metadata": {
        "id": "gCIQNxHE-Mov",
        "colab_type": "code",
        "outputId": "55dcae8a-8fdf-4f0c-d0b7-3c08e19d7bea",
        "colab": {
          "base_uri": "https://localhost:8080/",
          "height": 131
        }
      },
      "source": [
        "msft_summary = msft_summary.drop(['Previous Close','Ex-Dividend Date',\n",
        "                                  'Forward Dividend & Yield',\"Earnings Date\",\n",
        "                                  'Open','Beta (5Y Monthly)','PE Ratio (TTM)',\n",
        "                                  'EPS (TTM)','1y Target Est','Bid','Ask',\n",
        "                                  \"Day's Range\",\"52 Week Range\",'Market Cap',\n",
        "                                  'Volume','Avg. Volume'], axis = 1)\n",
        "\n",
        "msft_summary"
      ],
      "execution_count": 0,
      "outputs": [
        {
          "output_type": "execute_result",
          "data": {
            "text/html": [
              "<div>\n",
              "<style scoped>\n",
              "    .dataframe tbody tr th:only-of-type {\n",
              "        vertical-align: middle;\n",
              "    }\n",
              "\n",
              "    .dataframe tbody tr th {\n",
              "        vertical-align: top;\n",
              "    }\n",
              "\n",
              "    .dataframe thead th {\n",
              "        text-align: right;\n",
              "    }\n",
              "</style>\n",
              "<table border=\"1\" class=\"dataframe\">\n",
              "  <thead>\n",
              "    <tr style=\"text-align: right;\">\n",
              "      <th></th>\n",
              "      <th>Previous_Close</th>\n",
              "      <th>Beta_(5Y_Monthly)</th>\n",
              "      <th>PE_Ratio_(TTM)</th>\n",
              "      <th>EPS_(TTM)</th>\n",
              "      <th>1y_Target_Est</th>\n",
              "      <th>Bid_Price</th>\n",
              "      <th>Bid_Size</th>\n",
              "      <th>Ask_Price</th>\n",
              "      <th>Ask_Size</th>\n",
              "      <th>Day's_Min_Price</th>\n",
              "      <th>Day's_Max_Price</th>\n",
              "      <th>Day's_Price_Range</th>\n",
              "      <th>52wk_Min_Price</th>\n",
              "      <th>52wk_Max_Price</th>\n",
              "      <th>52wk_Price_Range</th>\n",
              "      <th>Market_Cap</th>\n",
              "      <th>VOLUME</th>\n",
              "      <th>AVG_VOLUME</th>\n",
              "      <th>Forward_Dividend</th>\n",
              "      <th>Yield</th>\n",
              "      <th>Earnings_Start_Date</th>\n",
              "      <th>Earnings_End_Date</th>\n",
              "      <th>Ex_Dividend_Date</th>\n",
              "    </tr>\n",
              "    <tr>\n",
              "      <th>Stock</th>\n",
              "      <th></th>\n",
              "      <th></th>\n",
              "      <th></th>\n",
              "      <th></th>\n",
              "      <th></th>\n",
              "      <th></th>\n",
              "      <th></th>\n",
              "      <th></th>\n",
              "      <th></th>\n",
              "      <th></th>\n",
              "      <th></th>\n",
              "      <th></th>\n",
              "      <th></th>\n",
              "      <th></th>\n",
              "      <th></th>\n",
              "      <th></th>\n",
              "      <th></th>\n",
              "      <th></th>\n",
              "      <th></th>\n",
              "      <th></th>\n",
              "      <th></th>\n",
              "      <th></th>\n",
              "      <th></th>\n",
              "    </tr>\n",
              "  </thead>\n",
              "  <tbody>\n",
              "    <tr>\n",
              "      <th>MSFT</th>\n",
              "      <td>151.7</td>\n",
              "      <td>1.23</td>\n",
              "      <td>28.91</td>\n",
              "      <td>5.3</td>\n",
              "      <td>160.69</td>\n",
              "      <td>153.57</td>\n",
              "      <td>1800.0</td>\n",
              "      <td>154.04</td>\n",
              "      <td>900.0</td>\n",
              "      <td>151.02</td>\n",
              "      <td>153.44</td>\n",
              "      <td>2.42</td>\n",
              "      <td>93.96</td>\n",
              "      <td>153.44</td>\n",
              "      <td>59.48</td>\n",
              "      <td>1.200000e+12</td>\n",
              "      <td>24645366.0</td>\n",
              "      <td>21940609.0</td>\n",
              "      <td>2.04</td>\n",
              "      <td>0.0133</td>\n",
              "      <td>2020-01-28</td>\n",
              "      <td>2020-02-03</td>\n",
              "      <td>2020-02-19</td>\n",
              "    </tr>\n",
              "  </tbody>\n",
              "</table>\n",
              "</div>"
            ],
            "text/plain": [
              "       Previous_Close  Beta_(5Y_Monthly)  ...  Earnings_End_Date  Ex_Dividend_Date\n",
              "Stock                                     ...                                     \n",
              "MSFT            151.7               1.23  ...         2020-02-03        2020-02-19\n",
              "\n",
              "[1 rows x 23 columns]"
            ]
          },
          "metadata": {
            "tags": []
          },
          "execution_count": 793
        }
      ]
    },
    {
      "cell_type": "markdown",
      "metadata": {
        "id": "-MvlGV3xH9Sr",
        "colab_type": "text"
      },
      "source": [
        "##Merging Microsoft (MSFT) and Apple (AAPL) Dataframes\n",
        "\n",
        "\n",
        "---\n",
        "Given the two data frames share the same index and overall format, one just needs to concatenate the two dataframes\n",
        "\n"
      ]
    },
    {
      "cell_type": "code",
      "metadata": {
        "id": "R62p1HOrH7v5",
        "colab_type": "code",
        "outputId": "bba4f780-ef66-4ab0-d513-aa350c4987ff",
        "colab": {
          "base_uri": "https://localhost:8080/",
          "height": 162
        }
      },
      "source": [
        "pd.concat([aapl_summary, msft_summary])"
      ],
      "execution_count": 0,
      "outputs": [
        {
          "output_type": "execute_result",
          "data": {
            "text/html": [
              "<div>\n",
              "<style scoped>\n",
              "    .dataframe tbody tr th:only-of-type {\n",
              "        vertical-align: middle;\n",
              "    }\n",
              "\n",
              "    .dataframe tbody tr th {\n",
              "        vertical-align: top;\n",
              "    }\n",
              "\n",
              "    .dataframe thead th {\n",
              "        text-align: right;\n",
              "    }\n",
              "</style>\n",
              "<table border=\"1\" class=\"dataframe\">\n",
              "  <thead>\n",
              "    <tr style=\"text-align: right;\">\n",
              "      <th></th>\n",
              "      <th>Previous_Close</th>\n",
              "      <th>Beta_(5Y_Monthly)</th>\n",
              "      <th>PE_Ratio_(TTM)</th>\n",
              "      <th>EPS_(TTM)</th>\n",
              "      <th>1y_Target_Est</th>\n",
              "      <th>Bid_Price</th>\n",
              "      <th>Bid_Size</th>\n",
              "      <th>Ask_Price</th>\n",
              "      <th>Ask_Size</th>\n",
              "      <th>Day's_Min_Price</th>\n",
              "      <th>Day's_Max_Price</th>\n",
              "      <th>Day's_Price_Range</th>\n",
              "      <th>52wk_Min_Price</th>\n",
              "      <th>52wk_Max_Price</th>\n",
              "      <th>52wk_Price_Range</th>\n",
              "      <th>Market_Cap</th>\n",
              "      <th>VOLUME</th>\n",
              "      <th>AVG_VOLUME</th>\n",
              "      <th>Forward_Dividend</th>\n",
              "      <th>Yield</th>\n",
              "      <th>Earnings_Start_Date</th>\n",
              "      <th>Earnings_End_Date</th>\n",
              "      <th>Ex_Dividend_Date</th>\n",
              "    </tr>\n",
              "    <tr>\n",
              "      <th>Stock</th>\n",
              "      <th></th>\n",
              "      <th></th>\n",
              "      <th></th>\n",
              "      <th></th>\n",
              "      <th></th>\n",
              "      <th></th>\n",
              "      <th></th>\n",
              "      <th></th>\n",
              "      <th></th>\n",
              "      <th></th>\n",
              "      <th></th>\n",
              "      <th></th>\n",
              "      <th></th>\n",
              "      <th></th>\n",
              "      <th></th>\n",
              "      <th></th>\n",
              "      <th></th>\n",
              "      <th></th>\n",
              "      <th></th>\n",
              "      <th></th>\n",
              "      <th></th>\n",
              "      <th></th>\n",
              "      <th></th>\n",
              "    </tr>\n",
              "  </thead>\n",
              "  <tbody>\n",
              "    <tr>\n",
              "      <th>AAPL</th>\n",
              "      <td>270.77</td>\n",
              "      <td>1.23</td>\n",
              "      <td>22.83</td>\n",
              "      <td>11.89</td>\n",
              "      <td>262.85</td>\n",
              "      <td>272.65</td>\n",
              "      <td>1000.0</td>\n",
              "      <td>272.74</td>\n",
              "      <td>1300.0</td>\n",
              "      <td>267.32</td>\n",
              "      <td>272.55</td>\n",
              "      <td>5.23</td>\n",
              "      <td>142.00</td>\n",
              "      <td>272.56</td>\n",
              "      <td>130.56</td>\n",
              "      <td>1.200000e+12</td>\n",
              "      <td>34437042.0</td>\n",
              "      <td>25060826.0</td>\n",
              "      <td>3.08</td>\n",
              "      <td>0.0114</td>\n",
              "      <td>2020-01-27</td>\n",
              "      <td>2020-01-31</td>\n",
              "      <td>2019-11-07</td>\n",
              "    </tr>\n",
              "    <tr>\n",
              "      <th>MSFT</th>\n",
              "      <td>151.70</td>\n",
              "      <td>1.23</td>\n",
              "      <td>28.91</td>\n",
              "      <td>5.30</td>\n",
              "      <td>160.69</td>\n",
              "      <td>153.57</td>\n",
              "      <td>1800.0</td>\n",
              "      <td>154.04</td>\n",
              "      <td>900.0</td>\n",
              "      <td>151.02</td>\n",
              "      <td>153.44</td>\n",
              "      <td>2.42</td>\n",
              "      <td>93.96</td>\n",
              "      <td>153.44</td>\n",
              "      <td>59.48</td>\n",
              "      <td>1.200000e+12</td>\n",
              "      <td>24645366.0</td>\n",
              "      <td>21940609.0</td>\n",
              "      <td>2.04</td>\n",
              "      <td>0.0133</td>\n",
              "      <td>2020-01-28</td>\n",
              "      <td>2020-02-03</td>\n",
              "      <td>2020-02-19</td>\n",
              "    </tr>\n",
              "  </tbody>\n",
              "</table>\n",
              "</div>"
            ],
            "text/plain": [
              "       Previous_Close  Beta_(5Y_Monthly)  ...  Earnings_End_Date  Ex_Dividend_Date\n",
              "Stock                                     ...                                     \n",
              "AAPL           270.77               1.23  ...         2020-01-31        2019-11-07\n",
              "MSFT           151.70               1.23  ...         2020-02-03        2020-02-19\n",
              "\n",
              "[2 rows x 23 columns]"
            ]
          },
          "metadata": {
            "tags": []
          },
          "execution_count": 794
        }
      ]
    },
    {
      "cell_type": "markdown",
      "metadata": {
        "id": "fenoye-Qfv7d",
        "colab_type": "text"
      },
      "source": [
        "# 5. Define a function that allows you to do this process for many stocks."
      ]
    },
    {
      "cell_type": "markdown",
      "metadata": {
        "id": "sGZGpBHCLuaa",
        "colab_type": "text"
      },
      "source": [
        "## Summary Statistics for Yahoo Finance Stocks\n",
        "\n",
        "---\n",
        "We will use Nike (NKE), Apple (AAPL), and Microsoft (MSFT) as our test case.\n",
        "\n"
      ]
    },
    {
      "cell_type": "code",
      "metadata": {
        "id": "uNKkr8kKtqlw",
        "colab_type": "code",
        "colab": {}
      },
      "source": [
        "import pprint"
      ],
      "execution_count": 0,
      "outputs": []
    },
    {
      "cell_type": "markdown",
      "metadata": {
        "id": "F8bwenMpG2An",
        "colab_type": "text"
      },
      "source": [
        "###The goal here will be to make a nested dictionary that can basically be turned into a dataframe and does not require me to make preliminary dataframes and do extra cleaning (before the real parsing and data cleaning begins). "
      ]
    },
    {
      "cell_type": "code",
      "metadata": {
        "id": "Vr8RYrsctznN",
        "colab_type": "code",
        "outputId": "548ccb34-a99c-4d63-b4d8-d6ac2a605e93",
        "colab": {
          "base_uri": "https://localhost:8080/",
          "height": 833
        }
      },
      "source": [
        "#tickers = [t.upper() for t in tickers]\n",
        "tickers = ['NKE','AAPL','MSFT'] # Our list of stock tickers\n",
        "results = {} # Initialize an empty dictionary which will be filled with all of the necessary info\n",
        "with requests.Session() as s: # For a given session where we are getting stock data\n",
        "  \n",
        "  for ticker in tickers: # For a ticker in the list of tickers\n",
        "  ###-----HERE WE ARE BASICALLY JUST GETTING OUR COLUMN NAMES AD VALUES IN THE SAME WAY WE DID IT BEFORE SO NOTHING SPECIAL HERE---###\n",
        "\n",
        "    stock = s.get('https://finance.yahoo.com/quote/' + ticker)\n",
        "    stock_soup = bs4.BeautifulSoup(stock.text, 'html.parser')\n",
        "    \n",
        "    stock_columns = stock_soup.find(id=\"quote-summary\") \n",
        "    stock_columns.find_all('td')\n",
        "    \n",
        "    stock_labels = [l for l in stock_columns.find_all('td') if l not in stock_columns.find_all('td', attrs={'class':\"Ta(end) Fw(600) Lh(14px)\"})]\n",
        "    stock_labels = [l.text for l in stock_labels]\n",
        "    stock_values = [v.text for v in stock_columns.find_all('td', attrs={'class':\"Ta(end) Fw(600) Lh(14px)\"})]\n",
        "  ###---HERE WE MAKE A DICTIONARY THAT BASICALLY HAS OUR KEYS BE OUR COLUMN LABELS AND OUR COLUMN VALUES BE THE \n",
        "  ###---DATA CORRESPONDING TO EACH KEY\n",
        "    res = {stock_labels[i]: stock_values[i] for i in range(len(stock_labels))} \n",
        "    \n",
        "    results[ticker] = res # NOW FOR EACH STOCK DENOTED BY A TICKER, WE BASICALLY HAVE OUR TICKER SYMBOL BE THE KEY FOR THE\n",
        "                          # CORRESPONDING STOCK DATA IN THE WE JUST MADE ABOVE. THIS CREATES A NESTED DICTIONARY.\n",
        "\n",
        "pprint.pprint(results) ## PRINT OUR RESULTANT DICTIONARY\n",
        "\n",
        "\n"
      ],
      "execution_count": 0,
      "outputs": [
        {
          "output_type": "stream",
          "text": [
            "{'AAPL': {'1y Target Est': '262.85',\n",
            "          '52 Week Range': '142.00 - 272.56',\n",
            "          'Ask': '272.74 x 1300',\n",
            "          'Avg. Volume': '25,060,826',\n",
            "          'Beta (5Y Monthly)': '1.23',\n",
            "          'Bid': '272.65 x 1000',\n",
            "          \"Day's Range\": '267.32 - 272.55',\n",
            "          'EPS (TTM)': '11.89',\n",
            "          'Earnings Date': 'Jan 27, 2020 - Jan 31, 2020',\n",
            "          'Ex-Dividend Date': '2019-11-07',\n",
            "          'Forward Dividend & Yield': '3.08 (1.14%)',\n",
            "          'Market Cap': '1.2T',\n",
            "          'Open': '267.78',\n",
            "          'PE Ratio (TTM)': '22.83',\n",
            "          'Previous Close': '270.77',\n",
            "          'Volume': '34,437,042'},\n",
            " 'MSFT': {'1y Target Est': '160.69',\n",
            "          '52 Week Range': '93.96 - 153.44',\n",
            "          'Ask': '154.04 x 900',\n",
            "          'Avg. Volume': '21,940,609',\n",
            "          'Beta (5Y Monthly)': '1.23',\n",
            "          'Bid': '153.57 x 1800',\n",
            "          \"Day's Range\": '151.02 - 153.44',\n",
            "          'EPS (TTM)': '5.30',\n",
            "          'Earnings Date': 'Jan 28, 2020 - Feb 3, 2020',\n",
            "          'Ex-Dividend Date': '2020-02-19',\n",
            "          'Forward Dividend & Yield': '2.04 (1.33%)',\n",
            "          'Market Cap': '1.2T',\n",
            "          'Open': '151.65',\n",
            "          'PE Ratio (TTM)': '28.91',\n",
            "          'Previous Close': '151.70',\n",
            "          'Volume': '24,645,366'},\n",
            " 'NKE': {'1y Target Est': '103.60',\n",
            "         '52 Week Range': '66.53 - 98.18',\n",
            "         'Ask': '98.40 x 1100',\n",
            "         'Avg. Volume': '6,331,448',\n",
            "         'Beta (5Y Monthly)': '0.83',\n",
            "         'Bid': '98.30 x 1100',\n",
            "         \"Day's Range\": '96.90 - 98.18',\n",
            "         'EPS (TTM)': '2.68',\n",
            "         'Earnings Date': 'Dec 19, 2019',\n",
            "         'Ex-Dividend Date': '2019-11-29',\n",
            "         'Forward Dividend & Yield': '0.98 (1.01%)',\n",
            "         'Market Cap': '153B',\n",
            "         'Open': '97.32',\n",
            "         'PE Ratio (TTM)': '36.49',\n",
            "         'Previous Close': '97.18',\n",
            "         'Volume': '4561317'}}\n"
          ],
          "name": "stdout"
        }
      ]
    },
    {
      "cell_type": "markdown",
      "metadata": {
        "id": "I_WNkDWgJje9",
        "colab_type": "text"
      },
      "source": [
        "###Given we have a nice nested dictionary, all we have to do is use the pandas method DataFrame.from_dict() that makes a pandas dataframe from a dictionary.\n",
        "* What's even cooler is that we can basically orient everything based off the primary keys of our nested dictionary which were the ticker symbols! "
      ]
    },
    {
      "cell_type": "code",
      "metadata": {
        "id": "q-BovtAl9kjZ",
        "colab_type": "code",
        "outputId": "5a1a6d6b-2bb4-4439-e70a-dfaa3377cba8",
        "colab": {
          "base_uri": "https://localhost:8080/",
          "height": 298
        }
      },
      "source": [
        "pd.DataFrame.from_dict(results, orient = 'index')"
      ],
      "execution_count": 0,
      "outputs": [
        {
          "output_type": "execute_result",
          "data": {
            "text/html": [
              "<div>\n",
              "<style scoped>\n",
              "    .dataframe tbody tr th:only-of-type {\n",
              "        vertical-align: middle;\n",
              "    }\n",
              "\n",
              "    .dataframe tbody tr th {\n",
              "        vertical-align: top;\n",
              "    }\n",
              "\n",
              "    .dataframe thead th {\n",
              "        text-align: right;\n",
              "    }\n",
              "</style>\n",
              "<table border=\"1\" class=\"dataframe\">\n",
              "  <thead>\n",
              "    <tr style=\"text-align: right;\">\n",
              "      <th></th>\n",
              "      <th>Previous Close</th>\n",
              "      <th>Open</th>\n",
              "      <th>Bid</th>\n",
              "      <th>Ask</th>\n",
              "      <th>Day's Range</th>\n",
              "      <th>52 Week Range</th>\n",
              "      <th>Volume</th>\n",
              "      <th>Avg. Volume</th>\n",
              "      <th>Market Cap</th>\n",
              "      <th>Beta (5Y Monthly)</th>\n",
              "      <th>PE Ratio (TTM)</th>\n",
              "      <th>EPS (TTM)</th>\n",
              "      <th>Earnings Date</th>\n",
              "      <th>Forward Dividend &amp; Yield</th>\n",
              "      <th>Ex-Dividend Date</th>\n",
              "      <th>1y Target Est</th>\n",
              "    </tr>\n",
              "  </thead>\n",
              "  <tbody>\n",
              "    <tr>\n",
              "      <th>NKE</th>\n",
              "      <td>97.18</td>\n",
              "      <td>97.32</td>\n",
              "      <td>98.30 x 1100</td>\n",
              "      <td>98.40 x 1100</td>\n",
              "      <td>96.90 - 98.18</td>\n",
              "      <td>66.53 - 98.18</td>\n",
              "      <td>4561317</td>\n",
              "      <td>6,331,448</td>\n",
              "      <td>153B</td>\n",
              "      <td>0.83</td>\n",
              "      <td>36.49</td>\n",
              "      <td>2.68</td>\n",
              "      <td>Dec 19, 2019</td>\n",
              "      <td>0.98 (1.01%)</td>\n",
              "      <td>2019-11-29</td>\n",
              "      <td>103.60</td>\n",
              "    </tr>\n",
              "    <tr>\n",
              "      <th>AAPL</th>\n",
              "      <td>270.77</td>\n",
              "      <td>267.78</td>\n",
              "      <td>272.65 x 1000</td>\n",
              "      <td>272.74 x 1300</td>\n",
              "      <td>267.32 - 272.55</td>\n",
              "      <td>142.00 - 272.56</td>\n",
              "      <td>34,437,042</td>\n",
              "      <td>25,060,826</td>\n",
              "      <td>1.2T</td>\n",
              "      <td>1.23</td>\n",
              "      <td>22.83</td>\n",
              "      <td>11.89</td>\n",
              "      <td>Jan 27, 2020 - Jan 31, 2020</td>\n",
              "      <td>3.08 (1.14%)</td>\n",
              "      <td>2019-11-07</td>\n",
              "      <td>262.85</td>\n",
              "    </tr>\n",
              "    <tr>\n",
              "      <th>MSFT</th>\n",
              "      <td>151.70</td>\n",
              "      <td>151.65</td>\n",
              "      <td>153.57 x 1800</td>\n",
              "      <td>154.04 x 900</td>\n",
              "      <td>151.02 - 153.44</td>\n",
              "      <td>93.96 - 153.44</td>\n",
              "      <td>24,645,366</td>\n",
              "      <td>21,940,609</td>\n",
              "      <td>1.2T</td>\n",
              "      <td>1.23</td>\n",
              "      <td>28.91</td>\n",
              "      <td>5.30</td>\n",
              "      <td>Jan 28, 2020 - Feb 3, 2020</td>\n",
              "      <td>2.04 (1.33%)</td>\n",
              "      <td>2020-02-19</td>\n",
              "      <td>160.69</td>\n",
              "    </tr>\n",
              "  </tbody>\n",
              "</table>\n",
              "</div>"
            ],
            "text/plain": [
              "     Previous Close    Open  ... Ex-Dividend Date 1y Target Est\n",
              "NKE           97.18   97.32  ...       2019-11-29        103.60\n",
              "AAPL         270.77  267.78  ...       2019-11-07        262.85\n",
              "MSFT         151.70  151.65  ...       2020-02-19        160.69\n",
              "\n",
              "[3 rows x 16 columns]"
            ]
          },
          "metadata": {
            "tags": []
          },
          "execution_count": 797
        }
      ]
    },
    {
      "cell_type": "code",
      "metadata": {
        "id": "G9-MYmGEHGDp",
        "colab_type": "code",
        "outputId": "e096da44-2853-46cf-e0b4-8c4116e825da",
        "colab": {
          "base_uri": "https://localhost:8080/",
          "height": 34
        }
      },
      "source": [
        "# Checking if a date range exist for 'Earnings Dates' column (for NKE)\n",
        "# If we get a value greater than equal to 0, then there is a range somewhere in the colummn.  \n",
        "pd.DataFrame.from_dict(results, orient = 'index')['Earnings Date'].iloc[0].find(' - ')"
      ],
      "execution_count": 0,
      "outputs": [
        {
          "output_type": "execute_result",
          "data": {
            "text/plain": [
              "-1"
            ]
          },
          "metadata": {
            "tags": []
          },
          "execution_count": 798
        }
      ]
    },
    {
      "cell_type": "markdown",
      "metadata": {
        "id": "FmXNDmfSKqUu",
        "colab_type": "text"
      },
      "source": [
        "##Finally we make our function that creates Yahoo Finance Summary Stats dataframe called \"stock_stats()\" from webscraped data from the Yahoo Finance website."
      ]
    },
    {
      "cell_type": "code",
      "metadata": {
        "id": "wI1ara60AK4L",
        "colab_type": "code",
        "colab": {}
      },
      "source": [
        "def stock_stats(tickers):\n",
        "  tickers = [t.upper() for t in tickers] # this is done so that we immediately capitalize all of the characters in the tickers \n",
        "                                         # after passing in our list of tickers\n",
        "  ###---CREATE OUR NESTED DICTIONARY AND TURN IT INTO A DATAFRAME (AS WE DID ABOVE) CALLED \"stock_summaries\"---###\n",
        "  results = {}                            \n",
        "  with requests.Session() as s:\n",
        "    for ticker in tickers:\n",
        "      stock = s.get('https://finance.yahoo.com/quote/' + ticker)\n",
        "      stock_soup = bs4.BeautifulSoup(stock.text, 'html.parser')\n",
        "      stock_columns = stock_soup.find(id=\"quote-summary\") \n",
        "      stock_columns.find_all('td')\n",
        "      \n",
        "      stock_labels = [l for l in stock_columns.find_all('td') if l not in stock_columns.find_all('td', attrs={'class':\"Ta(end) Fw(600) Lh(14px)\"})]\n",
        "      stock_labels = [l.text for l in stock_labels]\n",
        "      stock_values = [v.text for v in stock_columns.find_all('td', attrs={'class':\"Ta(end) Fw(600) Lh(14px)\"})]\n",
        "    \n",
        "      res = {stock_labels[i]: stock_values[i] for i in range(len(stock_labels))} \n",
        "      results[ticker] = res\n",
        "       \n",
        "      stock_summaries = pd.DataFrame.from_dict(results, orient = 'index')\n",
        "  ###--Now let's make a new dataframe called \"stock_sum\" and fill it up with the cleaned version of the original data\n",
        "  ###--from the dataframe that have from turning our nested dictionary to a dataframe.\n",
        "      stock_sum = pd.DataFrame(index = stock_summaries.index)\n",
        "\n",
        "  # As we did previously when cleaning the previous dataframes that had a single stock's info, let's type cast the easy strings\n",
        "  # (non-Series objects). The harder ones (Series objects containing strings) will need to be inititialized with \"NA\" and be filled\n",
        "  # in with their appropriate values.\n",
        "  stock_sum['Previous_Close'] = pd.to_numeric(stock_summaries['Previous Close'])\n",
        "  stock_sum['Open'] = pd.to_numeric(stock_summaries['Open'])\n",
        "  stock_sum['Bid_Price'] = \"NA\"\n",
        "  stock_sum['Bid_Size'] = \"NA\"\n",
        "  stock_sum['Ask_Price'] = \"NA\"\n",
        "  stock_sum['Ask_Size'] = \"NA\"\n",
        "  stock_sum[\"Day's_Min_Price\"] = \"NA\"\n",
        "  stock_sum[\"Day's_Max_Price\"] = \"NA\"\n",
        "  stock_sum[\"Day's_Price_Range\"] = \"NA\"\n",
        "  stock_sum[\"52wk_Min_Price\"] = \"NA\"\n",
        "  stock_sum[\"52wk_Max_Price\"] = \"NA\"\n",
        "  stock_sum[\"52wk_Price_Range\"] = \"NA\"\n",
        "  stock_sum['VOLUME'] = \"NA\"\n",
        "  stock_sum['AVG_VOLUME'] = \"NA\"\n",
        "  stock_sum['Market_Cap'] = \"NA\"\n",
        "  stock_sum['Beta_(5Y_Monthly)'] = pd.to_numeric(stock_summaries['Beta (5Y Monthly)'])\n",
        "  stock_sum['PE_Ratio_(TTM)'] = pd.to_numeric(stock_summaries['PE Ratio (TTM)'])\n",
        "  stock_sum['EPS_(TTM)'] = pd.to_numeric(stock_summaries['EPS (TTM)'])\n",
        "  stock_sum[\"Earnings_Start_Date\"] = \"NA\"\n",
        "  stock_sum[\"Earnings_End_Date\"] = \"NA\"\n",
        "  stock_sum['Forward_Dividend'] = \"NA\"\n",
        "  stock_sum['Yield'] = \"NA\"\n",
        "  stock_sum[\"Ex_Dividend_Date\"] = \"NA\"\n",
        "  stock_sum['1y_Target_Est'] = pd.to_numeric(stock_summaries['1y Target Est'])\n",
        "  # Parameters for casting \"Earnings_Start_Date\", \"Earnings_End_Date\", and \"Ex_Dividend_Date\" as datetimes.\n",
        "  st = [\"NA\"]*len(tickers) # -> [\"NA\",\"NA\",\"NA\",...]\n",
        "  end = [\"NA\"]*len(tickers)\n",
        "  dvdt = [\"NA\"]*len(tickers)\n",
        "\n",
        "  # NOW, before we just had to use iloc[0] because our series objects only had strings for one stock. However, now we have \n",
        "  # muliple stocks. Hence, we need to use a for loop and iterate through through multiple indices in the series objects. As \n",
        "  # we do this, we just appropriately fill up the columns like we did before, but now there will be multiple rows of data \n",
        "  # where each row corresponds to the data for a given ticker in the list of tickers. \n",
        "  for i in range(0,len(tickers)):\n",
        "    # Bid\n",
        "    stock_sum['Bid_Price'][i] = float(pd.to_numeric(stock_summaries['Bid'].iloc[i][:stock_summaries['Bid'].iloc[i].find(' x ')]))\n",
        "    stock_sum['Bid_Size'][i] = float(pd.to_numeric(stock_summaries['Bid'].iloc[i][stock_summaries['Bid'].iloc[i].find(' x ')+3:]))\n",
        "    # Ask\n",
        "    stock_sum['Ask_Price'][i] = float(pd.to_numeric(stock_summaries['Ask'].iloc[i][:stock_summaries['Ask'].iloc[i].find(' x ')]))\n",
        "    stock_sum['Ask_Size'][i] = float(pd.to_numeric(stock_summaries['Ask'].iloc[i][stock_summaries['Ask'].iloc[i].find(' x ')+3:]))\n",
        "    # Day's Range\n",
        "    stock_sum[\"Day's_Min_Price\"][i] = float(pd.to_numeric(stock_summaries[\"Day's Range\"].iloc[i][:stock_summaries[\"Day's Range\"].iloc[i].find(' - ')]))\n",
        "    stock_sum[\"Day's_Max_Price\"][i] = float(pd.to_numeric(stock_summaries[\"Day's Range\"].iloc[i][stock_summaries[\"Day's Range\"].iloc[i].find(' - ')+3:]))\n",
        "    stock_sum[\"Day's_Price_Range\"][i] = stock_sum[\"Day's_Max_Price\"][i] - stock_sum[\"Day's_Min_Price\"][i]\n",
        "    # 52 Week Range\n",
        "    stock_sum[\"52wk_Min_Price\"][i] = float(pd.to_numeric(stock_summaries[\"52 Week Range\"].iloc[i][:stock_summaries[\"52 Week Range\"].iloc[i].find(' - ')]))\n",
        "    stock_sum[\"52wk_Max_Price\"][i] = float(pd.to_numeric(stock_summaries[\"52 Week Range\"].iloc[i][stock_summaries[\"52 Week Range\"].iloc[i].find(' - ')+3:]))\n",
        "    stock_sum[\"52wk_Price_Range\"][i] = stock_sum[\"52wk_Max_Price\"][i] - stock_sum[\"52wk_Min_Price\"][i]\n",
        "    # Market Cap\n",
        "    if stock_summaries['Market Cap'].iloc[i][-1] == \"T\":\n",
        "      stock_sum['Market_Cap'][i] = float(pd.to_numeric(stock_summaries['Market Cap'].iloc[i][:-1])*1000000000000)\n",
        "    elif stock_summaries['Market Cap'].iloc[i][-1] == \"B\":\n",
        "      stock_sum['Market_Cap'][i] = float(pd.to_numeric(stock_summaries['Market Cap'].iloc[i][:-1])*1000000000)\n",
        "    # Volumes\n",
        "    stock_sum['VOLUME'][i] = float(pd.to_numeric(stock_summaries['Volume'].iloc[i].replace(\",\", \"\")))\n",
        "    stock_sum['AVG_VOLUME'][i] = float(pd.to_numeric(stock_summaries['Avg. Volume'].iloc[i].replace(\",\", \"\")))\n",
        "    # Forward Dividend & Yield\n",
        "    stock_sum['Forward_Dividend'][i] = float(pd.to_numeric(stock_summaries['Forward Dividend & Yield'].iloc[i][:stock_summaries['Forward Dividend & Yield'].iloc[i].find(' (')]))\n",
        "    stock_sum['Yield'][i] = float(pd.to_numeric(stock_summaries['Forward Dividend & Yield'].iloc[i][stock_summaries['Forward Dividend & Yield'].iloc[i].find('(')+1:stock_summaries['Forward Dividend & Yield'].iloc[i].find('%(')-1]))*0.01\n",
        "    # Earnings Date (this cleaning process is tricky because, as seen for the NKE stock data, there could be less than two \n",
        "    #                earnings dates)\n",
        "    if stock_summaries[\"Earnings Date\"].iloc[i].find(' - ') >= 0: # If two earnings dates exist\n",
        "      st[i]=stock_summaries[\"Earnings Date\"].iloc[i][:stock_summaries[\"Earnings Date\"].iloc[i].find(' - ')]\n",
        "      stock_sum[\"Earnings_Start_Date\"][i] = datetime.strptime(st[i],'%b %d, %Y')\n",
        "      end[i] = stock_summaries[\"Earnings Date\"].iloc[i][stock_summaries[\"Earnings Date\"].iloc[i].find(' - ')+3:]\n",
        "      stock_sum[\"Earnings_End_Date\"][i] = datetime.strptime(end[i],'%b %d, %Y')\n",
        "    else: # If only one earnings date exists\n",
        "      st[i] = stock_summaries[\"Earnings Date\"].iloc[i]\n",
        "      stock_sum[\"Earnings_Start_Date\"][i] = datetime.strptime(st[i],'%b %d, %Y')\n",
        "      stock_sum[\"Earnings_End_Date\"][i] = datetime.strptime(st[i],'%b %d, %Y')\n",
        "    # Ex-Dividend Date\n",
        "    dvdt[i] = stock_summaries['Ex-Dividend Date'].iloc[i] \n",
        "    stock_sum[\"Ex_Dividend_Date\"][i] = datetime.strptime(dvdt[i],\"%Y-%m-%d\")   \n",
        "\n",
        "      \n",
        "  return stock_sum # Return the cleaned dataframe of Yahoo Finance Summary Stats for a given list of stocks"
      ],
      "execution_count": 0,
      "outputs": []
    },
    {
      "cell_type": "code",
      "metadata": {
        "id": "hOCC6bgqCVc9",
        "colab_type": "code",
        "colab": {}
      },
      "source": [
        "# Ignore warnings\n",
        "import warnings\n",
        "warnings.filterwarnings('ignore')"
      ],
      "execution_count": 0,
      "outputs": []
    },
    {
      "cell_type": "markdown",
      "metadata": {
        "id": "rV0uElx-ag6d",
        "colab_type": "text"
      },
      "source": [
        "##The Yahoo Finance Summary Stats for Nike, Apple, and Microsoft stocks\n",
        "* **NOTE**: **My \"stock_stats()\" function even works when you don't capitalize all of the characters for a given ticker.**"
      ]
    },
    {
      "cell_type": "code",
      "metadata": {
        "id": "a-ZR8ULDadvk",
        "colab_type": "code",
        "outputId": "c1b65c37-48da-4069-d303-ecced1457416",
        "colab": {
          "base_uri": "https://localhost:8080/",
          "height": 162
        }
      },
      "source": [
        "stock_stats(['NKE','AAPL','MSFT'])"
      ],
      "execution_count": 0,
      "outputs": [
        {
          "output_type": "execute_result",
          "data": {
            "text/html": [
              "<div>\n",
              "<style scoped>\n",
              "    .dataframe tbody tr th:only-of-type {\n",
              "        vertical-align: middle;\n",
              "    }\n",
              "\n",
              "    .dataframe tbody tr th {\n",
              "        vertical-align: top;\n",
              "    }\n",
              "\n",
              "    .dataframe thead th {\n",
              "        text-align: right;\n",
              "    }\n",
              "</style>\n",
              "<table border=\"1\" class=\"dataframe\">\n",
              "  <thead>\n",
              "    <tr style=\"text-align: right;\">\n",
              "      <th></th>\n",
              "      <th>Previous_Close</th>\n",
              "      <th>Open</th>\n",
              "      <th>Bid_Price</th>\n",
              "      <th>Bid_Size</th>\n",
              "      <th>Ask_Price</th>\n",
              "      <th>Ask_Size</th>\n",
              "      <th>Day's_Min_Price</th>\n",
              "      <th>Day's_Max_Price</th>\n",
              "      <th>Day's_Price_Range</th>\n",
              "      <th>52wk_Min_Price</th>\n",
              "      <th>52wk_Max_Price</th>\n",
              "      <th>52wk_Price_Range</th>\n",
              "      <th>VOLUME</th>\n",
              "      <th>AVG_VOLUME</th>\n",
              "      <th>Market_Cap</th>\n",
              "      <th>Beta_(5Y_Monthly)</th>\n",
              "      <th>PE_Ratio_(TTM)</th>\n",
              "      <th>EPS_(TTM)</th>\n",
              "      <th>Earnings_Start_Date</th>\n",
              "      <th>Earnings_End_Date</th>\n",
              "      <th>Forward_Dividend</th>\n",
              "      <th>Yield</th>\n",
              "      <th>Ex_Dividend_Date</th>\n",
              "      <th>1y_Target_Est</th>\n",
              "    </tr>\n",
              "  </thead>\n",
              "  <tbody>\n",
              "    <tr>\n",
              "      <th>NKE</th>\n",
              "      <td>97.18</td>\n",
              "      <td>97.32</td>\n",
              "      <td>98.3</td>\n",
              "      <td>1100</td>\n",
              "      <td>98.4</td>\n",
              "      <td>1100</td>\n",
              "      <td>96.9</td>\n",
              "      <td>98.18</td>\n",
              "      <td>1.28</td>\n",
              "      <td>66.53</td>\n",
              "      <td>98.18</td>\n",
              "      <td>31.65</td>\n",
              "      <td>4.56132e+06</td>\n",
              "      <td>6.33145e+06</td>\n",
              "      <td>1.53e+11</td>\n",
              "      <td>0.83</td>\n",
              "      <td>36.49</td>\n",
              "      <td>2.68</td>\n",
              "      <td>2019-12-19 00:00:00</td>\n",
              "      <td>2019-12-19 00:00:00</td>\n",
              "      <td>0.98</td>\n",
              "      <td>0.0101</td>\n",
              "      <td>2019-11-29 00:00:00</td>\n",
              "      <td>103.60</td>\n",
              "    </tr>\n",
              "    <tr>\n",
              "      <th>AAPL</th>\n",
              "      <td>270.77</td>\n",
              "      <td>267.78</td>\n",
              "      <td>272.65</td>\n",
              "      <td>1000</td>\n",
              "      <td>272.74</td>\n",
              "      <td>1300</td>\n",
              "      <td>267.32</td>\n",
              "      <td>272.55</td>\n",
              "      <td>5.23</td>\n",
              "      <td>142</td>\n",
              "      <td>272.56</td>\n",
              "      <td>130.56</td>\n",
              "      <td>3.4437e+07</td>\n",
              "      <td>2.50608e+07</td>\n",
              "      <td>1.2e+12</td>\n",
              "      <td>1.23</td>\n",
              "      <td>22.83</td>\n",
              "      <td>11.89</td>\n",
              "      <td>2020-01-27 00:00:00</td>\n",
              "      <td>2020-01-31 00:00:00</td>\n",
              "      <td>3.08</td>\n",
              "      <td>0.0114</td>\n",
              "      <td>2019-11-07 00:00:00</td>\n",
              "      <td>262.85</td>\n",
              "    </tr>\n",
              "    <tr>\n",
              "      <th>MSFT</th>\n",
              "      <td>151.70</td>\n",
              "      <td>151.65</td>\n",
              "      <td>153.57</td>\n",
              "      <td>1800</td>\n",
              "      <td>154.04</td>\n",
              "      <td>900</td>\n",
              "      <td>151.02</td>\n",
              "      <td>153.44</td>\n",
              "      <td>2.42</td>\n",
              "      <td>93.96</td>\n",
              "      <td>153.44</td>\n",
              "      <td>59.48</td>\n",
              "      <td>2.46454e+07</td>\n",
              "      <td>2.19406e+07</td>\n",
              "      <td>1.2e+12</td>\n",
              "      <td>1.23</td>\n",
              "      <td>28.91</td>\n",
              "      <td>5.30</td>\n",
              "      <td>2020-01-28 00:00:00</td>\n",
              "      <td>2020-02-03 00:00:00</td>\n",
              "      <td>2.04</td>\n",
              "      <td>0.0133</td>\n",
              "      <td>2020-02-19 00:00:00</td>\n",
              "      <td>160.69</td>\n",
              "    </tr>\n",
              "  </tbody>\n",
              "</table>\n",
              "</div>"
            ],
            "text/plain": [
              "      Previous_Close    Open  ...     Ex_Dividend_Date 1y_Target_Est\n",
              "NKE            97.18   97.32  ...  2019-11-29 00:00:00        103.60\n",
              "AAPL          270.77  267.78  ...  2019-11-07 00:00:00        262.85\n",
              "MSFT          151.70  151.65  ...  2020-02-19 00:00:00        160.69\n",
              "\n",
              "[3 rows x 24 columns]"
            ]
          },
          "metadata": {
            "tags": []
          },
          "execution_count": 803
        }
      ]
    },
    {
      "cell_type": "code",
      "metadata": {
        "id": "LetM79uVDItI",
        "colab_type": "code",
        "outputId": "0422dd13-f5f9-44ee-9b34-8aed515bb24a",
        "colab": {
          "base_uri": "https://localhost:8080/",
          "height": 162
        }
      },
      "source": [
        "stock_stats(['Nke','aApl','msFT'])"
      ],
      "execution_count": 0,
      "outputs": [
        {
          "output_type": "execute_result",
          "data": {
            "text/html": [
              "<div>\n",
              "<style scoped>\n",
              "    .dataframe tbody tr th:only-of-type {\n",
              "        vertical-align: middle;\n",
              "    }\n",
              "\n",
              "    .dataframe tbody tr th {\n",
              "        vertical-align: top;\n",
              "    }\n",
              "\n",
              "    .dataframe thead th {\n",
              "        text-align: right;\n",
              "    }\n",
              "</style>\n",
              "<table border=\"1\" class=\"dataframe\">\n",
              "  <thead>\n",
              "    <tr style=\"text-align: right;\">\n",
              "      <th></th>\n",
              "      <th>Previous_Close</th>\n",
              "      <th>Open</th>\n",
              "      <th>Bid_Price</th>\n",
              "      <th>Bid_Size</th>\n",
              "      <th>Ask_Price</th>\n",
              "      <th>Ask_Size</th>\n",
              "      <th>Day's_Min_Price</th>\n",
              "      <th>Day's_Max_Price</th>\n",
              "      <th>Day's_Price_Range</th>\n",
              "      <th>52wk_Min_Price</th>\n",
              "      <th>52wk_Max_Price</th>\n",
              "      <th>52wk_Price_Range</th>\n",
              "      <th>VOLUME</th>\n",
              "      <th>AVG_VOLUME</th>\n",
              "      <th>Market_Cap</th>\n",
              "      <th>Beta_(5Y_Monthly)</th>\n",
              "      <th>PE_Ratio_(TTM)</th>\n",
              "      <th>EPS_(TTM)</th>\n",
              "      <th>Earnings_Start_Date</th>\n",
              "      <th>Earnings_End_Date</th>\n",
              "      <th>Forward_Dividend</th>\n",
              "      <th>Yield</th>\n",
              "      <th>Ex_Dividend_Date</th>\n",
              "      <th>1y_Target_Est</th>\n",
              "    </tr>\n",
              "  </thead>\n",
              "  <tbody>\n",
              "    <tr>\n",
              "      <th>NKE</th>\n",
              "      <td>97.18</td>\n",
              "      <td>97.32</td>\n",
              "      <td>98.3</td>\n",
              "      <td>1100</td>\n",
              "      <td>98.4</td>\n",
              "      <td>1100</td>\n",
              "      <td>96.9</td>\n",
              "      <td>98.18</td>\n",
              "      <td>1.28</td>\n",
              "      <td>66.53</td>\n",
              "      <td>98.18</td>\n",
              "      <td>31.65</td>\n",
              "      <td>4.56132e+06</td>\n",
              "      <td>6.33145e+06</td>\n",
              "      <td>1.53e+11</td>\n",
              "      <td>0.83</td>\n",
              "      <td>36.49</td>\n",
              "      <td>2.68</td>\n",
              "      <td>2019-12-19 00:00:00</td>\n",
              "      <td>2019-12-19 00:00:00</td>\n",
              "      <td>0.98</td>\n",
              "      <td>0.0101</td>\n",
              "      <td>2019-11-29 00:00:00</td>\n",
              "      <td>103.60</td>\n",
              "    </tr>\n",
              "    <tr>\n",
              "      <th>AAPL</th>\n",
              "      <td>270.77</td>\n",
              "      <td>267.78</td>\n",
              "      <td>272.65</td>\n",
              "      <td>1000</td>\n",
              "      <td>272.74</td>\n",
              "      <td>1300</td>\n",
              "      <td>267.32</td>\n",
              "      <td>272.55</td>\n",
              "      <td>5.23</td>\n",
              "      <td>142</td>\n",
              "      <td>272.56</td>\n",
              "      <td>130.56</td>\n",
              "      <td>3.4437e+07</td>\n",
              "      <td>2.50608e+07</td>\n",
              "      <td>1.2e+12</td>\n",
              "      <td>1.23</td>\n",
              "      <td>22.83</td>\n",
              "      <td>11.89</td>\n",
              "      <td>2020-01-27 00:00:00</td>\n",
              "      <td>2020-01-31 00:00:00</td>\n",
              "      <td>3.08</td>\n",
              "      <td>0.0114</td>\n",
              "      <td>2019-11-07 00:00:00</td>\n",
              "      <td>262.85</td>\n",
              "    </tr>\n",
              "    <tr>\n",
              "      <th>MSFT</th>\n",
              "      <td>151.70</td>\n",
              "      <td>151.65</td>\n",
              "      <td>153.57</td>\n",
              "      <td>1800</td>\n",
              "      <td>154.04</td>\n",
              "      <td>900</td>\n",
              "      <td>151.02</td>\n",
              "      <td>153.44</td>\n",
              "      <td>2.42</td>\n",
              "      <td>93.96</td>\n",
              "      <td>153.44</td>\n",
              "      <td>59.48</td>\n",
              "      <td>2.46454e+07</td>\n",
              "      <td>2.19406e+07</td>\n",
              "      <td>1.2e+12</td>\n",
              "      <td>1.23</td>\n",
              "      <td>28.91</td>\n",
              "      <td>5.30</td>\n",
              "      <td>2020-01-28 00:00:00</td>\n",
              "      <td>2020-02-03 00:00:00</td>\n",
              "      <td>2.04</td>\n",
              "      <td>0.0133</td>\n",
              "      <td>2020-02-19 00:00:00</td>\n",
              "      <td>160.69</td>\n",
              "    </tr>\n",
              "  </tbody>\n",
              "</table>\n",
              "</div>"
            ],
            "text/plain": [
              "      Previous_Close    Open  ...     Ex_Dividend_Date 1y_Target_Est\n",
              "NKE            97.18   97.32  ...  2019-11-29 00:00:00        103.60\n",
              "AAPL          270.77  267.78  ...  2019-11-07 00:00:00        262.85\n",
              "MSFT          151.70  151.65  ...  2020-02-19 00:00:00        160.69\n",
              "\n",
              "[3 rows x 24 columns]"
            ]
          },
          "metadata": {
            "tags": []
          },
          "execution_count": 801
        }
      ]
    }
  ]
}